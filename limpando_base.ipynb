{
 "cells": [
  {
   "cell_type": "code",
   "execution_count": null,
   "id": "c170a1f5",
   "metadata": {},
   "outputs": [],
   "source": [
    "import pandas as pd\n",
    "import requests\n",
    "import re\n",
    "from bs4 import BeautifulSoup\n",
    "from dotenv import load_dotenv\n",
    "import os\n",
    "from google import genai\n",
    "import json\n",
    "from pydantic import BaseModel\n",
    "import time\n",
    "import pymupdf\n",
    "import tempfile\n"
   ]
  },
  {
   "cell_type": "code",
   "execution_count": 61,
   "metadata": {},
   "outputs": [],
   "source": [
    "anexos = pd.read_excel('docs/jusbrasil.xlsx', sheet_name=\"Anexos\")"
   ]
  },
  {
   "cell_type": "code",
   "execution_count": 62,
   "id": "3cc158ab",
   "metadata": {},
   "outputs": [
    {
     "data": {
      "text/html": [
       "<div>\n",
       "<style scoped>\n",
       "    .dataframe tbody tr th:only-of-type {\n",
       "        vertical-align: middle;\n",
       "    }\n",
       "\n",
       "    .dataframe tbody tr th {\n",
       "        vertical-align: top;\n",
       "    }\n",
       "\n",
       "    .dataframe thead th {\n",
       "        text-align: right;\n",
       "    }\n",
       "</style>\n",
       "<table border=\"1\" class=\"dataframe\">\n",
       "  <thead>\n",
       "    <tr style=\"text-align: right;\">\n",
       "      <th></th>\n",
       "      <th>processoID</th>\n",
       "      <th>processoAnexoID</th>\n",
       "      <th>Download copia</th>\n",
       "    </tr>\n",
       "  </thead>\n",
       "  <tbody>\n",
       "    <tr>\n",
       "      <th>1</th>\n",
       "      <td>474474022</td>\n",
       "      <td>2344968081</td>\n",
       "      <td>http://jud-anexos.digesto.com.br/0cacd6d80c499...</td>\n",
       "    </tr>\n",
       "    <tr>\n",
       "      <th>7</th>\n",
       "      <td>474474806</td>\n",
       "      <td>2294638461</td>\n",
       "      <td>http://jud-anexos.digesto.com.br/90df1f9ac9917...</td>\n",
       "    </tr>\n",
       "    <tr>\n",
       "      <th>33</th>\n",
       "      <td>575718248</td>\n",
       "      <td>1511375012</td>\n",
       "      <td>http://jud-anexos.digesto.com.br/c89c7a26febcc...</td>\n",
       "    </tr>\n",
       "    <tr>\n",
       "      <th>87</th>\n",
       "      <td>580649179</td>\n",
       "      <td>1504080402</td>\n",
       "      <td>http://jud-anexos.digesto.com.br/585fdfebfdd6d...</td>\n",
       "    </tr>\n",
       "    <tr>\n",
       "      <th>105</th>\n",
       "      <td>654928926</td>\n",
       "      <td>2419043700</td>\n",
       "      <td>http://jud-anexos.digesto.com.br/6be7e9beac86d...</td>\n",
       "    </tr>\n",
       "  </tbody>\n",
       "</table>\n",
       "</div>"
      ],
      "text/plain": [
       "     processoID  processoAnexoID  \\\n",
       "1     474474022       2344968081   \n",
       "7     474474806       2294638461   \n",
       "33    575718248       1511375012   \n",
       "87    580649179       1504080402   \n",
       "105   654928926       2419043700   \n",
       "\n",
       "                                        Download copia  \n",
       "1    http://jud-anexos.digesto.com.br/0cacd6d80c499...  \n",
       "7    http://jud-anexos.digesto.com.br/90df1f9ac9917...  \n",
       "33   http://jud-anexos.digesto.com.br/c89c7a26febcc...  \n",
       "87   http://jud-anexos.digesto.com.br/585fdfebfdd6d...  \n",
       "105  http://jud-anexos.digesto.com.br/6be7e9beac86d...  "
      ]
     },
     "execution_count": 62,
     "metadata": {},
     "output_type": "execute_result"
    }
   ],
   "source": [
    "anexos_copia = anexos.copy().loc[:,[\"processoID\", \"processoAnexoID\", \"Download copia\", \"Tipo de anexo\"]]\n",
    "sentencas = anexos_copia.loc[anexos[\"Tipo de anexo\"].isin([\"SENTENCA\"]),\n",
    "                                           [\"processoID\", \"processoAnexoID\", \"Download copia\"]]\n",
    "sentencas.head()"
   ]
  },
  {
   "cell_type": "code",
   "execution_count": 63,
   "id": "d21c08c7",
   "metadata": {},
   "outputs": [
    {
     "data": {
      "text/html": [
       "<div>\n",
       "<style scoped>\n",
       "    .dataframe tbody tr th:only-of-type {\n",
       "        vertical-align: middle;\n",
       "    }\n",
       "\n",
       "    .dataframe tbody tr th {\n",
       "        vertical-align: top;\n",
       "    }\n",
       "\n",
       "    .dataframe thead th {\n",
       "        text-align: right;\n",
       "    }\n",
       "</style>\n",
       "<table border=\"1\" class=\"dataframe\">\n",
       "  <thead>\n",
       "    <tr style=\"text-align: right;\">\n",
       "      <th></th>\n",
       "      <th>processoID</th>\n",
       "      <th>processoAnexoID</th>\n",
       "      <th>Download copia</th>\n",
       "    </tr>\n",
       "  </thead>\n",
       "  <tbody>\n",
       "    <tr>\n",
       "      <th>1293</th>\n",
       "      <td>471515190</td>\n",
       "      <td>727395468</td>\n",
       "      <td>http://jud-anexos.digesto.com.br/3a9fbbe2c4f69...</td>\n",
       "    </tr>\n",
       "    <tr>\n",
       "      <th>1302</th>\n",
       "      <td>471515190</td>\n",
       "      <td>727395467</td>\n",
       "      <td>http://jud-anexos.digesto.com.br/7767cbbc02e35...</td>\n",
       "    </tr>\n",
       "    <tr>\n",
       "      <th>2876</th>\n",
       "      <td>595998611</td>\n",
       "      <td>1403409515</td>\n",
       "      <td>http://jud-anexos.digesto.com.br/0ec3e0c015d72...</td>\n",
       "    </tr>\n",
       "    <tr>\n",
       "      <th>2877</th>\n",
       "      <td>595998611</td>\n",
       "      <td>1403409516</td>\n",
       "      <td>http://jud-anexos.digesto.com.br/385306277d658...</td>\n",
       "    </tr>\n",
       "    <tr>\n",
       "      <th>8000</th>\n",
       "      <td>690025576</td>\n",
       "      <td>2015456650</td>\n",
       "      <td>http://jud-anexos.digesto.com.br/fb01c9fd839aa...</td>\n",
       "    </tr>\n",
       "  </tbody>\n",
       "</table>\n",
       "</div>"
      ],
      "text/plain": [
       "      processoID  processoAnexoID  \\\n",
       "1293   471515190        727395468   \n",
       "1302   471515190        727395467   \n",
       "2876   595998611       1403409515   \n",
       "2877   595998611       1403409516   \n",
       "8000   690025576       2015456650   \n",
       "\n",
       "                                         Download copia  \n",
       "1293  http://jud-anexos.digesto.com.br/3a9fbbe2c4f69...  \n",
       "1302  http://jud-anexos.digesto.com.br/7767cbbc02e35...  \n",
       "2876  http://jud-anexos.digesto.com.br/0ec3e0c015d72...  \n",
       "2877  http://jud-anexos.digesto.com.br/385306277d658...  \n",
       "8000  http://jud-anexos.digesto.com.br/fb01c9fd839aa...  "
      ]
     },
     "execution_count": 63,
     "metadata": {},
     "output_type": "execute_result"
    }
   ],
   "source": [
    "def identifica_acesso_negado(processos):\n",
    "    copia_processos = processos.copy()\n",
    "    acessos_negados = []\n",
    "\n",
    "    for i in range(copia_processos.shape[0]):\n",
    "        link = copia_processos.iloc[i, 2]\n",
    "        response = requests.get(link)\n",
    "        response.encoding = 'utf-8'\n",
    "        content_type = response.headers.get('Content-Type', '')\n",
    "        texto = \"\"\n",
    "\n",
    "        if 'html' in content_type:\n",
    "            # print(f\"[HTML] Extraindo de: {link}\")\n",
    "            soup = BeautifulSoup(response.content, 'html.parser')\n",
    "            texto = soup.get_text()\n",
    "\n",
    "        match = re.search(r'Acesso negado', texto)\n",
    "        if match:\n",
    "            acessos_negados.append(i)\n",
    "            continue\n",
    "    \n",
    "    return copia_processos.iloc[acessos_negados, :]\n",
    "\n",
    "df_html_only = sentencas[sentencas['Download copia'].str.contains(r'\\.html?$', case=False, na=False)]\n",
    "acessos_negados = identifica_acesso_negado(df_html_only)\n",
    "acessos_negados.head()"
   ]
  },
  {
   "cell_type": "code",
   "execution_count": 64,
   "id": "81a9f6e5",
   "metadata": {},
   "outputs": [],
   "source": [
    "# Dropando os acessos negados\n",
    "sentencas_acessaveis = sentencas[sentencas[\"processoAnexoID\"].isin(acessos_negados[\"processoAnexoID\"]) == False]"
   ]
  },
  {
   "cell_type": "code",
   "execution_count": 65,
   "id": "6ce393d7",
   "metadata": {},
   "outputs": [
    {
     "data": {
      "text/plain": [
       "(223,)"
      ]
     },
     "execution_count": 65,
     "metadata": {},
     "output_type": "execute_result"
    }
   ],
   "source": [
    "# Verificando quantidade de processos após o drop\n",
    "sentencas_acessaveis[\"processoID\"].unique().shape"
   ]
  },
  {
   "cell_type": "code",
   "execution_count": 70,
   "metadata": {},
   "outputs": [],
   "source": [
    "sentencas_acessaveis.to_excel(\"docs/sentencas_acessaveis.xlsx\", index=False)"
   ]
  },
  {
   "cell_type": "code",
   "execution_count": 66,
   "id": "a897b1e8",
   "metadata": {},
   "outputs": [
    {
     "name": "stdout",
     "output_type": "stream",
     "text": [
      "Número de processos com mais de uma sentença: 84\n"
     ]
    }
   ],
   "source": [
    "ids_processos = sentencas_acessaveis[\"processoID\"].unique()\n",
    "processos_com_mais_de_uma_sentenca = []\n",
    "\n",
    "for id in ids_processos:\n",
    "    linhas_correspondentes = sentencas_acessaveis.loc[sentencas['processoID'] == id]\n",
    "    if linhas_correspondentes.shape[0] > 1:\n",
    "        processos_com_mais_de_uma_sentenca.append(int(id))\n",
    "\n",
    "print(f\"Número de processos com mais de uma sentença: {len(processos_com_mais_de_uma_sentenca)}\")"
   ]
  },
  {
   "cell_type": "code",
   "execution_count": 67,
   "id": "f742151a",
   "metadata": {},
   "outputs": [],
   "source": [
    "def verifica_dano_ambiental(texto):\n",
    "    \"\"\"\n",
    "    Funcao que verifica se o texto possui dano ambiental.\n",
    "    Se houver, justifica a resposta. Caso contrário, responde \"não há dano ambiental\".\n",
    "    \"\"\"\n",
    "    \n",
    "    prompt = f\"\"\"\n",
    "    Você é um especialista em direito ambiental. \n",
    "    Você deve analisar o seguinte texto e verificar se há dano ambiental. \n",
    "    Se houver, justifique sua resposta. Caso contrário, responda \"não há dano ambiental\".\n",
    "\n",
    "    Texto: {texto}\n",
    "    \"\"\"\n",
    "    \n",
    "    class FormatoResposta(BaseModel):\n",
    "        isDanoAmbiental: bool\n",
    "        justificativa: str\n",
    "\n",
    "    client = genai.Client(api_key=os.getenv('GEMINI_API_KEY'))\n",
    "    resposta = client.models.generate_content(\n",
    "        model=\"gemini-2.0-flash\",\n",
    "        contents=prompt,\n",
    "        config={\n",
    "            \"response_mime_type\": \"application/json\",\n",
    "            'response_schema': FormatoResposta\n",
    "            # 'max_output_tokens': 500,\n",
    "            # 'temperature': 1.0\n",
    "        }\n",
    "    )\n",
    "    time.sleep(2)\n",
    "    return resposta"
   ]
  },
  {
   "cell_type": "code",
   "execution_count": 68,
   "metadata": {},
   "outputs": [
    {
     "ename": "ServerError",
     "evalue": "503 UNAVAILABLE. {'error': {'code': 503, 'message': 'The model is overloaded. Please try again later.', 'status': 'UNAVAILABLE'}}",
     "output_type": "error",
     "traceback": [
      "\u001b[31m---------------------------------------------------------------------------\u001b[39m",
      "\u001b[31mServerError\u001b[39m                               Traceback (most recent call last)",
      "\u001b[36mCell\u001b[39m\u001b[36m \u001b[39m\u001b[32mIn[68]\u001b[39m\u001b[32m, line 27\u001b[39m\n\u001b[32m     24\u001b[39m     soup = BeautifulSoup(response.content, \u001b[33m'\u001b[39m\u001b[33mhtml.parser\u001b[39m\u001b[33m'\u001b[39m)\n\u001b[32m     25\u001b[39m     texto += soup.get_text()\n\u001b[32m---> \u001b[39m\u001b[32m27\u001b[39m resposta_prompt = \u001b[43mverifica_dano_ambiental\u001b[49m\u001b[43m(\u001b[49m\u001b[43mtexto\u001b[49m\u001b[43m)\u001b[49m\n\u001b[32m     28\u001b[39m resposta_prompt = json.loads(resposta_prompt.text)\n\u001b[32m     29\u001b[39m resposta_prompt[\u001b[33m\"\u001b[39m\u001b[33mprocessoAnexoID\u001b[39m\u001b[33m\"\u001b[39m] = processoAnexoID\n",
      "\u001b[36mCell\u001b[39m\u001b[36m \u001b[39m\u001b[32mIn[67]\u001b[39m\u001b[32m, line 20\u001b[39m, in \u001b[36mverifica_dano_ambiental\u001b[39m\u001b[34m(texto)\u001b[39m\n\u001b[32m     17\u001b[39m     justificativa: \u001b[38;5;28mstr\u001b[39m\n\u001b[32m     19\u001b[39m client = genai.Client(api_key=os.getenv(\u001b[33m'\u001b[39m\u001b[33mGEMINI_API_KEY\u001b[39m\u001b[33m'\u001b[39m))\n\u001b[32m---> \u001b[39m\u001b[32m20\u001b[39m resposta = \u001b[43mclient\u001b[49m\u001b[43m.\u001b[49m\u001b[43mmodels\u001b[49m\u001b[43m.\u001b[49m\u001b[43mgenerate_content\u001b[49m\u001b[43m(\u001b[49m\n\u001b[32m     21\u001b[39m \u001b[43m    \u001b[49m\u001b[43mmodel\u001b[49m\u001b[43m=\u001b[49m\u001b[33;43m\"\u001b[39;49m\u001b[33;43mgemini-2.0-flash\u001b[39;49m\u001b[33;43m\"\u001b[39;49m\u001b[43m,\u001b[49m\n\u001b[32m     22\u001b[39m \u001b[43m    \u001b[49m\u001b[43mcontents\u001b[49m\u001b[43m=\u001b[49m\u001b[43mprompt\u001b[49m\u001b[43m,\u001b[49m\n\u001b[32m     23\u001b[39m \u001b[43m    \u001b[49m\u001b[43mconfig\u001b[49m\u001b[43m=\u001b[49m\u001b[43m{\u001b[49m\n\u001b[32m     24\u001b[39m \u001b[43m        \u001b[49m\u001b[33;43m\"\u001b[39;49m\u001b[33;43mresponse_mime_type\u001b[39;49m\u001b[33;43m\"\u001b[39;49m\u001b[43m:\u001b[49m\u001b[43m \u001b[49m\u001b[33;43m\"\u001b[39;49m\u001b[33;43mapplication/json\u001b[39;49m\u001b[33;43m\"\u001b[39;49m\u001b[43m,\u001b[49m\n\u001b[32m     25\u001b[39m \u001b[43m        \u001b[49m\u001b[33;43m'\u001b[39;49m\u001b[33;43mresponse_schema\u001b[39;49m\u001b[33;43m'\u001b[39;49m\u001b[43m:\u001b[49m\u001b[43m \u001b[49m\u001b[43mFormatoResposta\u001b[49m\n\u001b[32m     26\u001b[39m \u001b[43m        \u001b[49m\u001b[38;5;66;43;03m# 'max_output_tokens': 500,\u001b[39;49;00m\n\u001b[32m     27\u001b[39m \u001b[43m        \u001b[49m\u001b[38;5;66;43;03m# 'temperature': 1.0\u001b[39;49;00m\n\u001b[32m     28\u001b[39m \u001b[43m    \u001b[49m\u001b[43m}\u001b[49m\n\u001b[32m     29\u001b[39m \u001b[43m\u001b[49m\u001b[43m)\u001b[49m\n\u001b[32m     30\u001b[39m time.sleep(\u001b[32m2\u001b[39m)\n\u001b[32m     31\u001b[39m \u001b[38;5;28;01mreturn\u001b[39;00m resposta\n",
      "\u001b[36mFile \u001b[39m\u001b[32mc:\\Users\\ggsna\\AppData\\Local\\Programs\\Python\\Python312\\Lib\\site-packages\\google\\genai\\models.py:5049\u001b[39m, in \u001b[36mModels.generate_content\u001b[39m\u001b[34m(self, model, contents, config)\u001b[39m\n\u001b[32m   5047\u001b[39m \u001b[38;5;28;01mwhile\u001b[39;00m remaining_remote_calls_afc > \u001b[32m0\u001b[39m:\n\u001b[32m   5048\u001b[39m   i += \u001b[32m1\u001b[39m\n\u001b[32m-> \u001b[39m\u001b[32m5049\u001b[39m   response = \u001b[38;5;28;43mself\u001b[39;49m\u001b[43m.\u001b[49m\u001b[43m_generate_content\u001b[49m\u001b[43m(\u001b[49m\n\u001b[32m   5050\u001b[39m \u001b[43m      \u001b[49m\u001b[43mmodel\u001b[49m\u001b[43m=\u001b[49m\u001b[43mmodel\u001b[49m\u001b[43m,\u001b[49m\u001b[43m \u001b[49m\u001b[43mcontents\u001b[49m\u001b[43m=\u001b[49m\u001b[43mcontents\u001b[49m\u001b[43m,\u001b[49m\u001b[43m \u001b[49m\u001b[43mconfig\u001b[49m\u001b[43m=\u001b[49m\u001b[43mconfig\u001b[49m\n\u001b[32m   5051\u001b[39m \u001b[43m  \u001b[49m\u001b[43m)\u001b[49m\n\u001b[32m   5052\u001b[39m   logger.info(\u001b[33mf\u001b[39m\u001b[33m'\u001b[39m\u001b[33mAFC remote call \u001b[39m\u001b[38;5;132;01m{\u001b[39;00mi\u001b[38;5;132;01m}\u001b[39;00m\u001b[33m is done.\u001b[39m\u001b[33m'\u001b[39m)\n\u001b[32m   5053\u001b[39m   remaining_remote_calls_afc -= \u001b[32m1\u001b[39m\n",
      "\u001b[36mFile \u001b[39m\u001b[32mc:\\Users\\ggsna\\AppData\\Local\\Programs\\Python\\Python312\\Lib\\site-packages\\google\\genai\\models.py:4025\u001b[39m, in \u001b[36mModels._generate_content\u001b[39m\u001b[34m(self, model, contents, config)\u001b[39m\n\u001b[32m   4022\u001b[39m request_dict = _common.convert_to_dict(request_dict)\n\u001b[32m   4023\u001b[39m request_dict = _common.encode_unserializable_types(request_dict)\n\u001b[32m-> \u001b[39m\u001b[32m4025\u001b[39m response_dict = \u001b[38;5;28;43mself\u001b[39;49m\u001b[43m.\u001b[49m\u001b[43m_api_client\u001b[49m\u001b[43m.\u001b[49m\u001b[43mrequest\u001b[49m\u001b[43m(\u001b[49m\n\u001b[32m   4026\u001b[39m \u001b[43m    \u001b[49m\u001b[33;43m'\u001b[39;49m\u001b[33;43mpost\u001b[39;49m\u001b[33;43m'\u001b[39;49m\u001b[43m,\u001b[49m\u001b[43m \u001b[49m\u001b[43mpath\u001b[49m\u001b[43m,\u001b[49m\u001b[43m \u001b[49m\u001b[43mrequest_dict\u001b[49m\u001b[43m,\u001b[49m\u001b[43m \u001b[49m\u001b[43mhttp_options\u001b[49m\n\u001b[32m   4027\u001b[39m \u001b[43m\u001b[49m\u001b[43m)\u001b[49m\n\u001b[32m   4029\u001b[39m \u001b[38;5;28;01mif\u001b[39;00m \u001b[38;5;28mself\u001b[39m._api_client.vertexai:\n\u001b[32m   4030\u001b[39m   response_dict = _GenerateContentResponse_from_vertex(\n\u001b[32m   4031\u001b[39m       \u001b[38;5;28mself\u001b[39m._api_client, response_dict\n\u001b[32m   4032\u001b[39m   )\n",
      "\u001b[36mFile \u001b[39m\u001b[32mc:\\Users\\ggsna\\AppData\\Local\\Programs\\Python\\Python312\\Lib\\site-packages\\google\\genai\\_api_client.py:751\u001b[39m, in \u001b[36mBaseApiClient.request\u001b[39m\u001b[34m(self, http_method, path, request_dict, http_options)\u001b[39m\n\u001b[32m    741\u001b[39m \u001b[38;5;28;01mdef\u001b[39;00m\u001b[38;5;250m \u001b[39m\u001b[34mrequest\u001b[39m(\n\u001b[32m    742\u001b[39m     \u001b[38;5;28mself\u001b[39m,\n\u001b[32m    743\u001b[39m     http_method: \u001b[38;5;28mstr\u001b[39m,\n\u001b[32m   (...)\u001b[39m\u001b[32m    746\u001b[39m     http_options: Optional[HttpOptionsOrDict] = \u001b[38;5;28;01mNone\u001b[39;00m,\n\u001b[32m    747\u001b[39m ) -> Union[BaseResponse, Any]:\n\u001b[32m    748\u001b[39m   http_request = \u001b[38;5;28mself\u001b[39m._build_request(\n\u001b[32m    749\u001b[39m       http_method, path, request_dict, http_options\n\u001b[32m    750\u001b[39m   )\n\u001b[32m--> \u001b[39m\u001b[32m751\u001b[39m   response = \u001b[38;5;28;43mself\u001b[39;49m\u001b[43m.\u001b[49m\u001b[43m_request\u001b[49m\u001b[43m(\u001b[49m\u001b[43mhttp_request\u001b[49m\u001b[43m,\u001b[49m\u001b[43m \u001b[49m\u001b[43mstream\u001b[49m\u001b[43m=\u001b[49m\u001b[38;5;28;43;01mFalse\u001b[39;49;00m\u001b[43m)\u001b[49m\n\u001b[32m    752\u001b[39m   json_response = response.json\n\u001b[32m    753\u001b[39m   \u001b[38;5;28;01mif\u001b[39;00m \u001b[38;5;129;01mnot\u001b[39;00m json_response:\n",
      "\u001b[36mFile \u001b[39m\u001b[32mc:\\Users\\ggsna\\AppData\\Local\\Programs\\Python\\Python312\\Lib\\site-packages\\google\\genai\\_api_client.py:680\u001b[39m, in \u001b[36mBaseApiClient._request\u001b[39m\u001b[34m(self, http_request, stream)\u001b[39m\n\u001b[32m    672\u001b[39m \u001b[38;5;28;01melse\u001b[39;00m:\n\u001b[32m    673\u001b[39m   response = \u001b[38;5;28mself\u001b[39m._httpx_client.request(\n\u001b[32m    674\u001b[39m       method=http_request.method,\n\u001b[32m    675\u001b[39m       url=http_request.url,\n\u001b[32m   (...)\u001b[39m\u001b[32m    678\u001b[39m       timeout=http_request.timeout,\n\u001b[32m    679\u001b[39m   )\n\u001b[32m--> \u001b[39m\u001b[32m680\u001b[39m   \u001b[43merrors\u001b[49m\u001b[43m.\u001b[49m\u001b[43mAPIError\u001b[49m\u001b[43m.\u001b[49m\u001b[43mraise_for_response\u001b[49m\u001b[43m(\u001b[49m\u001b[43mresponse\u001b[49m\u001b[43m)\u001b[49m\n\u001b[32m    681\u001b[39m   \u001b[38;5;28;01mreturn\u001b[39;00m HttpResponse(\n\u001b[32m    682\u001b[39m       response.headers, response \u001b[38;5;28;01mif\u001b[39;00m stream \u001b[38;5;28;01melse\u001b[39;00m [response.text]\n\u001b[32m    683\u001b[39m   )\n",
      "\u001b[36mFile \u001b[39m\u001b[32mc:\\Users\\ggsna\\AppData\\Local\\Programs\\Python\\Python312\\Lib\\site-packages\\google\\genai\\errors.py:103\u001b[39m, in \u001b[36mAPIError.raise_for_response\u001b[39m\u001b[34m(cls, response)\u001b[39m\n\u001b[32m    101\u001b[39m   \u001b[38;5;28;01mraise\u001b[39;00m ClientError(status_code, response_json, response)\n\u001b[32m    102\u001b[39m \u001b[38;5;28;01melif\u001b[39;00m \u001b[32m500\u001b[39m <= status_code < \u001b[32m600\u001b[39m:\n\u001b[32m--> \u001b[39m\u001b[32m103\u001b[39m   \u001b[38;5;28;01mraise\u001b[39;00m ServerError(status_code, response_json, response)\n\u001b[32m    104\u001b[39m \u001b[38;5;28;01melse\u001b[39;00m:\n\u001b[32m    105\u001b[39m   \u001b[38;5;28;01mraise\u001b[39;00m \u001b[38;5;28mcls\u001b[39m(status_code, response_json, response)\n",
      "\u001b[31mServerError\u001b[39m: 503 UNAVAILABLE. {'error': {'code': 503, 'message': 'The model is overloaded. Please try again later.', 'status': 'UNAVAILABLE'}}"
     ]
    }
   ],
   "source": [
    "respostas = []\n",
    "\n",
    "for id in ids_processos:\n",
    "    linhas_correspondentes = sentencas.loc[sentencas['processoID'] == id]\n",
    "    texto = ''\n",
    "\n",
    "    for index, row in linhas_correspondentes.iterrows():\n",
    "        processoAnexoID = row['processoAnexoID']\n",
    "        link = row['Download copia']\n",
    "        response = requests.get(link)\n",
    "        response.encoding = 'utf-8'\n",
    "        content_type = response.headers.get('Content-Type', '')\n",
    "        \n",
    "        if 'pdf' in content_type:\n",
    "            with tempfile.NamedTemporaryFile(delete=False, suffix=\".pdf\") as tmp_file:\n",
    "                tmp_file.write(response.content)\n",
    "                tmp_path = tmp_file.name\n",
    "\n",
    "            with pymupdf.open(tmp_path) as doc:\n",
    "                for page in doc:\n",
    "                    texto += page.get_text()\n",
    "        \n",
    "        elif 'html' in content_type:\n",
    "            soup = BeautifulSoup(response.content, 'html.parser')\n",
    "            texto += soup.get_text()\n",
    "    \n",
    "        resposta_prompt = verifica_dano_ambiental(texto)\n",
    "        resposta_prompt = json.loads(resposta_prompt.text)\n",
    "        resposta_prompt[\"processoAnexoID\"] = processoAnexoID\n",
    "        resposta_prompt[\"link_referencia\"] = link\n",
    "        resposta_prompt[\"processoID\"] = id\n",
    "        respostas.append(resposta_prompt)\n",
    "\n",
    "respostas"
   ]
  },
  {
   "cell_type": "code",
   "execution_count": null,
   "metadata": {},
   "outputs": [],
   "source": []
  }
 ],
 "metadata": {
  "kernelspec": {
   "display_name": "Python 3",
   "language": "python",
   "name": "python3"
  },
  "language_info": {
   "codemirror_mode": {
    "name": "ipython",
    "version": 3
   },
   "file_extension": ".py",
   "mimetype": "text/x-python",
   "name": "python",
   "nbconvert_exporter": "python",
   "pygments_lexer": "ipython3",
   "version": "3.12.5"
  }
 },
 "nbformat": 4,
 "nbformat_minor": 5
}
