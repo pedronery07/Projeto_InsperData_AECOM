{
 "cells": [
  {
   "cell_type": "code",
   "execution_count": 1,
   "id": "3dbee28d",
   "metadata": {},
   "outputs": [],
   "source": [
    "from openai import OpenAI\n",
    "import settings\n",
    "import pdfplumber"
   ]
  },
  {
   "cell_type": "code",
   "execution_count": 2,
   "id": "706117e2",
   "metadata": {},
   "outputs": [],
   "source": [
    "client = OpenAI(\n",
    "    api_key = settings.OPENAI_API_KEY\n",
    ")"
   ]
  },
  {
   "cell_type": "code",
   "execution_count": 3,
   "id": "d8dcdb65",
   "metadata": {},
   "outputs": [],
   "source": [
    "def extrair_texto_pdf(caminho_pdf):\n",
    "    texto_extraido = \"\"\n",
    "    with pdfplumber.open(caminho_pdf) as pdf:\n",
    "        for pagina in pdf.pages:\n",
    "            texto_extraido += pagina.extract_text() or \"\"\n",
    "    return texto_extraido"
   ]
  },
  {
   "cell_type": "code",
   "execution_count": 4,
   "id": "8e4ce3d4",
   "metadata": {},
   "outputs": [
    {
     "name": "stderr",
     "output_type": "stream",
     "text": [
      "<>:1: SyntaxWarning: invalid escape sequence '\\D'\n",
      "<>:1: SyntaxWarning: invalid escape sequence '\\D'\n",
      "C:\\Users\\ggsna\\AppData\\Local\\Temp\\ipykernel_30528\\2636832216.py:1: SyntaxWarning: invalid escape sequence '\\D'\n",
      "  caminho_pdf = \"docs\\DOC1_1002970-50.2022.8.11.0018-1740062052988-4606762-sentenca.pdf\"\n"
     ]
    }
   ],
   "source": [
    "caminho_pdf = \"docs\\DOC1_1002970-50.2022.8.11.0018-1740062052988-4606762-sentenca.pdf\"\n",
    "texto_pdf = extrair_texto_pdf(caminho_pdf)"
   ]
  },
  {
   "cell_type": "code",
   "execution_count": 7,
   "id": "1fe4ed82",
   "metadata": {},
   "outputs": [],
   "source": [
    "prompt_location = \"prompt.txt\"\n",
    "with open(prompt_location, \"r\", encoding=\"utf-8\") as file:\n",
    "    prompt = file.read()\n"
   ]
  },
  {
   "cell_type": "code",
   "execution_count": 10,
   "id": "4a47750c",
   "metadata": {},
   "outputs": [
    {
     "name": "stdout",
     "output_type": "stream",
     "text": [
      "CASE_2021_001  \n",
      "Processo Judicial  \n",
      "Processo  \n",
      "Ministério Público do Estado de Mato Grosso  \n",
      "NULL  \n",
      "Juara  \n",
      "MT  \n",
      "Brasil  \n",
      "01/02/2021  \n",
      "Desmatamento de APP  \n",
      "Desmatamento ilegal de 207,22 ha de vegetação nativa  \n",
      "1002970-50.2022.8.11.0018  \n",
      "2ª Vara Cível de Juara  \n",
      "Julgado  \n",
      "Fauna, Flora, Solo  \n",
      "207.22  \n",
      "hectares  \n",
      "11 meses  \n",
      "NULL  \n",
      "Floresta  \n",
      "Custo de Reposição  \n",
      "1071563.63  \n",
      "\n"
     ]
    }
   ],
   "source": [
    "response = client.responses.create(\n",
    "    model=\"gpt-4o-mini\",\n",
    "    instructions=prompt,\n",
    "    input=texto_pdf,\n",
    ")\n",
    "\n",
    "print(response.output_text)"
   ]
  },
  {
   "cell_type": "code",
   "execution_count": null,
   "id": "0c18130b",
   "metadata": {},
   "outputs": [],
   "source": []
  }
 ],
 "metadata": {
  "kernelspec": {
   "display_name": "Python 3",
   "language": "python",
   "name": "python3"
  },
  "language_info": {
   "codemirror_mode": {
    "name": "ipython",
    "version": 3
   },
   "file_extension": ".py",
   "mimetype": "text/x-python",
   "name": "python",
   "nbconvert_exporter": "python",
   "pygments_lexer": "ipython3",
   "version": "3.12.5"
  }
 },
 "nbformat": 4,
 "nbformat_minor": 5
}
