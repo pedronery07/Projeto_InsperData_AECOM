{
 "cells": [
  {
   "cell_type": "code",
   "execution_count": 59,
   "metadata": {},
   "outputs": [],
   "source": [
    "from openai import OpenAI\n",
    "import settings\n",
    "import pdfplumber"
   ]
  },
  {
   "cell_type": "code",
   "execution_count": 60,
   "metadata": {},
   "outputs": [],
   "source": [
    "client = OpenAI(\n",
    "    api_key = settings.OPENAI_API_KEY\n",
    ")"
   ]
  },
  {
   "cell_type": "code",
   "execution_count": 61,
   "metadata": {},
   "outputs": [],
   "source": [
    "def extrair_texto_pdf(caminho_pdf):\n",
    "    texto_extraido = \"\"\n",
    "    with pdfplumber.open(caminho_pdf) as pdf:\n",
    "        for pagina in pdf.pages:\n",
    "            texto_extraido += pagina.extract_text() or \"\"\n",
    "    return texto_extraido"
   ]
  },
  {
   "cell_type": "code",
   "execution_count": null,
   "metadata": {},
   "outputs": [
    {
     "name": "stderr",
     "output_type": "stream",
     "text": [
      "<>:1: SyntaxWarning: invalid escape sequence '\\D'\n",
      "<>:1: SyntaxWarning: invalid escape sequence '\\D'\n",
      "C:\\Users\\ggsna\\AppData\\Local\\Temp\\ipykernel_22016\\2636832216.py:1: SyntaxWarning: invalid escape sequence '\\D'\n",
      "  caminho_pdf = \"docs\\DOC1_1002970-50.2022.8.11.0018-1740062052988-4606762-sentenca.pdf\"\n"
     ]
    }
   ],
   "source": [
    "caminho_pdf = \"docs\\DOC1_1002970-50.2022.8.11.0018-1740062052988-4606762-sentenca.pdf\"\n",
    "texto_pdf = extrair_texto_pdf(caminho_pdf)"
   ]
  },
  {
   "cell_type": "code",
   "execution_count": 85,
   "metadata": {},
   "outputs": [],
   "source": [
    "instructions0 = \"\"\"\n",
    "Voce é meu assistente de extração de informações de um texto de um PDF.\n",
    "Eu passarei somente o texto no input, e expero que você me ajude a extrair informações relevantes.\n",
    "Os documentos sao processos juridicos em que houveram danos socioambientais e preciso montar um banco de dados para fazer a valoracao socioambiental desses danos.\n",
    "\n",
    "No meu banco de dados, essas serao minhas colunas e uma breve descricao do que eu preciso que esteja nelas:\n",
    "\n",
    "Número de identificação -> Criar um código identificador do caso para facilitar consulta às informações\n",
    "Fonte -> Fonte das informações: processo judicial, tese, artigo, manual etc.\n",
    "Tipo de informação -> Caso real, estudo de caso, simulação etc.\n",
    "Responsável pelo impacto -> Empresa/Instituição/Pessoa responsável por causar o impacto\n",
    "Geometria do impacto -> Georreferência\n",
    "Cidade do impacto -> Cidade do impacto\n",
    "UF do impacto -> UF do impacto\n",
    "País do impacto -> País do impacto\n",
    "Data do impacto -> Data que ocorreu o impacto\n",
    "Tipo de impacto -> Categoria do dano ambiental (exemplos: desmatamento de APP, derramamento de petróleo, poluição etc.)\n",
    "Descrição do impacto -> Descrição breve do impacto\n",
    "Número do processo -> Aplicável para casos extraídos de processos judiciais\n",
    "Local de tramitação -> Aplicável para casos extraídos de processos judiciais\n",
    "Status do processo -> Aplicável para casos extraídos de processos judiciais\n",
    "Meios afetados _> Fauna, Flora, Água superficial, Água subterrânea, Solo etc.\n",
    "Extensão do impacto (valor) -> Valor numeral \n",
    "Extensão do impacto (unidade) -> m2, hectares etc.\n",
    "Tempo de exposição ao fator de impacto -> Quantificar o tempo de exposição à fonte impactante (tempo de vazamento de petróleo, poluente no ar, efluente, etc)\n",
    "Contaminante(s) -> Principais contaminantes (petróleo, compostos orgânicos, ar etc.)\n",
    "Uso do Solo e Cobertura Vegetal -> Principais usos do local impactado antes da ocorrência do impacto\n",
    "Metodologia valoração -> Metodologia utilizada para valoração do dano\n",
    "Valor calculado  -> Resultado da valoração na moeda correspondente\n",
    "\n",
    "Caso voce nao encontre alguma informacao, salve como \"NULL\".\n",
    "Nao use separadores de milhar, apenas use \".\" para separar casas decimais.\n",
    "Se voce nao tiver mais de 70% de certeza de sua resposta, salve como \"NULL\".\n",
    "\n",
    "Exemplo de resposta:\n",
    "\n",
    "123\n",
    "Jusbrasil\n",
    "Processo\n",
    "Empresa X\n",
    "-15.000000, -47.000000\n",
    "São Paulo\n",
    "SP\n",
    "Brasil\n",
    "01/01/2022\n",
    "Desmatamento de APP\n",
    "Desmatamento de 10 hectares de APP\n",
    "1000000000.00\n",
    "2ª VARA CÍVEL DE JUARA\n",
    "Julgado\n",
    "Fauna, Flora\n",
    "100.00\n",
    "hectares\n",
    "1.5 anos\n",
    "Petróleo\n",
    "Pastagem\n",
    "Metodologia X\n",
    "1000000.00\n",
    "\n",
    "Responda de modo simples para eu ler com python.\n",
    "\n",
    "\"\"\" "
   ]
  },
  {
   "cell_type": "code",
   "execution_count": 91,
   "metadata": {},
   "outputs": [],
   "source": [
    "instructions = \"\"\"\n",
    "Você é meu assistente especializado em extrair informações de textos extraídos de PDFs, em especial de processos jurídicos envolvendo danos socioambientais. Sua tarefa é identificar e organizar as informações relevantes contidas no texto e gerar uma resposta estruturada que corresponda ao formato do banco de dados a seguir.\n",
    "\n",
    "Cada campo da resposta deve seguir rigorosamente as regras abaixo. Se alguma informação não puder ser identificada com pelo menos 70% de certeza, preencha o campo com \"NULL\".\n",
    "\n",
    "Formato do banco de dados (uma linha por caso, com cada coluna separada por quebras de linha):\n",
    "\n",
    "1. Número de identificação: Gere um código único para o caso.\n",
    "2. Fonte: Indique a fonte da informação (ex.: processo judicial, tese, artigo, manual etc.).\n",
    "3. Tipo de informação: Informe se é um caso real, estudo de caso, simulação, etc.\n",
    "4. Responsável pelo impacto: Nome da empresa, instituição ou pessoa responsável pelo dano.\n",
    "5. Geometria do impacto: Coordenadas geográficas no formato \"latitude, longitude\" (por exemplo, \"-15.000000, -47.000000\"). Se não houver, informe \"NULL\".\n",
    "6. Cidade do impacto: Nome da cidade onde ocorreu o impacto.\n",
    "7. UF do impacto: Sigla da Unidade Federativa.\n",
    "8. País do impacto: Nome do país.\n",
    "9. Data do impacto: Data em formato DD/MM/AAAA.\n",
    "10. Tipo de impacto: Categoria do dano ambiental (ex.: desmatamento de APP, derramamento de petróleo, poluição etc.).\n",
    "11. Descrição do impacto: Breve descrição do impacto.\n",
    "12. Número do processo: Número do processo judicial, se aplicável.\n",
    "13. Local de tramitação: Jurisdição ou vara responsável, se aplicável.\n",
    "14. Status do processo: Status do processo (ex.: Julgado, Em andamento), se aplicável.\n",
    "15. Meios afetados: Liste os meios impactados (ex.: Fauna, Flora, Água superficial, Água subterrânea, Solo etc.), separados por vírgula.\n",
    "16. Extensão do impacto (valor): Valor numérico que represente a extensão do impacto. Use \".\" como separador decimal e não utilize separadores de milhar.\n",
    "17. Extensão do impacto (unidade): Unidade da extensão (ex.: m2, hectares etc.).\n",
    "18. Tempo de exposição ao fator de impacto: Tempo de exposição à fonte causadora (ex.: \"1.5 anos\" ou \"36 meses\").\n",
    "19. Contaminante(s): Principais contaminantes (ex.: Petróleo, compostos orgânicos, partículas etc.).\n",
    "20. Uso do Solo e Cobertura Vegetal: Principais usos do local antes do impacto (ex.: Pastagem, agricultura, floresta).\n",
    "21. Metodologia valoração: Metodologia utilizada para a valoração do dano.\n",
    "22. Valor calculado: Valor numérico resultante da valoração, seguindo as mesmas regras numéricas.\n",
    "\n",
    "Regras gerais:\n",
    "- Caso alguma informação não seja encontrada com certeza de pelo menos 70%, utilize \"NULL\" no respectivo campo.\n",
    "- A resposta deve ser simples e formatada para leitura e processamento em Python, com cada campo em uma nova linha (como no exemplo abaixo).\n",
    "- Evite adicionar textos explicativos na resposta; retorne somente os valores na ordem correta.\n",
    "\n",
    "Exemplo de resposta (cada linha representa um campo, na ordem apresentada acima):\n",
    "\n",
    "123  \n",
    "Jusbrasil  \n",
    "Processo  \n",
    "Empresa X  \n",
    "-15.000000, -47.000000  \n",
    "São Paulo  \n",
    "SP  \n",
    "Brasil  \n",
    "01/01/2022  \n",
    "Desmatamento de APP  \n",
    "Desmatamento de 10 hectares de APP  \n",
    "1000000000.00  \n",
    "2ª VARA CÍVEL DE JUARA  \n",
    "Julgado  \n",
    "Fauna, Flora  \n",
    "100.00  \n",
    "hectares  \n",
    "1.5 anos  \n",
    "Petróleo  \n",
    "Pastagem  \n",
    "Metodologia X  \n",
    "1000000.00\n",
    "\"\"\"\n"
   ]
  },
  {
   "cell_type": "code",
   "execution_count": 92,
   "metadata": {},
   "outputs": [
    {
     "name": "stdout",
     "output_type": "stream",
     "text": [
      "1002970-50.2022.8.11.0018  \n",
      "Processo Judicial Eletrônico  \n",
      "Processo  \n",
      "Lucas Zarur Bernardo  \n",
      "-8.849141, -57.061754  \n",
      "Juara  \n",
      "MT  \n",
      "Brasil  \n",
      "01/02/2021  \n",
      "Desmatamento  \n",
      "Desmatamento ilegal de 207,22 hectares de vegetação nativa em área de especial preservação.  \n",
      "1002970-50.2022.8.11.0018  \n",
      "2ª VARA CÍVEL DE JUARA  \n",
      "Julgado  \n",
      "Flora  \n",
      "207.22  \n",
      "hectares  \n",
      "1.5 anos  \n",
      "NULL  \n",
      "Agricultura, Floresta  \n",
      "Metodologia de Valoração de Danos Ambientais  \n",
      "1071563.63  \n"
     ]
    }
   ],
   "source": [
    "response = client.responses.create(\n",
    "    model=\"gpt-4o-mini\",\n",
    "    instructions=instructions,\n",
    "    input=texto_pdf,\n",
    ")\n",
    "\n",
    "print(response.output_text)"
   ]
  },
  {
   "cell_type": "code",
   "execution_count": 93,
   "metadata": {},
   "outputs": [],
   "source": [
    "texto_extraido = response.output_text"
   ]
  },
  {
   "cell_type": "code",
   "execution_count": 94,
   "metadata": {},
   "outputs": [],
   "source": [
    "texto_extraido = texto_extraido.split(\"\\n\")"
   ]
  },
  {
   "cell_type": "code",
   "execution_count": 97,
   "metadata": {},
   "outputs": [],
   "source": [
    "texto_extraido = [s.rstrip() for s in texto_extraido]"
   ]
  },
  {
   "cell_type": "code",
   "execution_count": 98,
   "metadata": {},
   "outputs": [
    {
     "data": {
      "text/plain": [
       "['1002970-50.2022.8.11.0018',\n",
       " 'Processo Judicial Eletrônico',\n",
       " 'Processo',\n",
       " 'Lucas Zarur Bernardo',\n",
       " '-8.849141, -57.061754',\n",
       " 'Juara',\n",
       " 'MT',\n",
       " 'Brasil',\n",
       " '01/02/2021',\n",
       " 'Desmatamento',\n",
       " 'Desmatamento ilegal de 207,22 hectares de vegetação nativa em área de especial preservação.',\n",
       " '1002970-50.2022.8.11.0018',\n",
       " '2ª VARA CÍVEL DE JUARA',\n",
       " 'Julgado',\n",
       " 'Flora',\n",
       " '207.22',\n",
       " 'hectares',\n",
       " '1.5 anos',\n",
       " 'NULL',\n",
       " 'Agricultura, Floresta',\n",
       " 'Metodologia de Valoração de Danos Ambientais',\n",
       " '1071563.63']"
      ]
     },
     "execution_count": 98,
     "metadata": {},
     "output_type": "execute_result"
    }
   ],
   "source": [
    "texto_extraido"
   ]
  },
  {
   "cell_type": "code",
   "execution_count": null,
   "metadata": {},
   "outputs": [],
   "source": []
  }
 ],
 "metadata": {
  "kernelspec": {
   "display_name": "Python 3",
   "language": "python",
   "name": "python3"
  },
  "language_info": {
   "codemirror_mode": {
    "name": "ipython",
    "version": 3
   },
   "file_extension": ".py",
   "mimetype": "text/x-python",
   "name": "python",
   "nbconvert_exporter": "python",
   "pygments_lexer": "ipython3",
   "version": "3.12.5"
  }
 },
 "nbformat": 4,
 "nbformat_minor": 2
}
