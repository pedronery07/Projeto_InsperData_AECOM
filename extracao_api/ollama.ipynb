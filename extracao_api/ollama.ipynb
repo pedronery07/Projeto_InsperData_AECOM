{
 "cells": [
  {
   "cell_type": "code",
   "execution_count": 2,
   "id": "ad97aa1e",
   "metadata": {},
   "outputs": [],
   "source": [
    "import ollama\n",
    "import PyPDF2\n"
   ]
  },
  {
   "cell_type": "code",
   "execution_count": 3,
   "id": "1c2c2a8e",
   "metadata": {},
   "outputs": [],
   "source": [
    "# Passo 1: Ler o PDF e transformar em texto\n",
    "def ler_pdf(caminho_pdf):\n",
    "    texto = ''\n",
    "    with open(caminho_pdf, 'rb') as file:\n",
    "        leitor = PyPDF2.PdfReader(file)\n",
    "        for pagina in leitor.pages:\n",
    "            texto += pagina.extract_text() + '\\n'\n",
    "    return texto"
   ]
  },
  {
   "cell_type": "code",
   "execution_count": 7,
   "id": "f9e1ce8a",
   "metadata": {},
   "outputs": [
    {
     "name": "stderr",
     "output_type": "stream",
     "text": [
      "<>:2: SyntaxWarning: invalid escape sequence '\\D'\n",
      "<>:2: SyntaxWarning: invalid escape sequence '\\D'\n",
      "C:\\Users\\ggsna\\AppData\\Local\\Temp\\ipykernel_27620\\2634349708.py:2: SyntaxWarning: invalid escape sequence '\\D'\n",
      "  caminho_pdf = 'docs\\DOC1_1002970-50.2022.8.11.0018-1740062052988-4606762-sentenca.pdf'\n"
     ]
    }
   ],
   "source": [
    "# Caminho do seu PDF\n",
    "caminho_pdf = 'docs\\DOC1_1002970-50.2022.8.11.0018-1740062052988-4606762-sentenca.pdf'\n",
    "conteudo_pdf = ler_pdf(caminho_pdf)"
   ]
  },
  {
   "cell_type": "code",
   "execution_count": 8,
   "id": "4d1ddff4",
   "metadata": {},
   "outputs": [],
   "source": [
    "# Passo 2: Criar o histórico da conversa\n",
    "conversa = [\n",
    "    {'role': 'user', 'content': 'Você receberá o conteúdo de um documento e deverá me ajudar a extrair informações importantes a partir do modelo definido em SYSTEM.'},\n",
    "    {'role': 'user', 'content': f'\\n\\n{conteudo_pdf}\\n\\n'}\n",
    "]"
   ]
  },
  {
   "cell_type": "code",
   "execution_count": null,
   "id": "766d98f7",
   "metadata": {},
   "outputs": [
    {
     "name": "stdout",
     "output_type": "stream",
     "text": [
      "Com base no texto fornecido, podemos extrair as seguintes informações relevantes sobre a decisão judicial:\n",
      "\n",
      "**1. Resumo da Decisão:**\n",
      "\n",
      "*   **Caso:** A decisão trata de um processo ambiental envolvendo o requerido Lucas Zarur Bernardo, relacionado a desmatamento ilegal.\n",
      "*   **Resultado:** O caso foi julgado procedente, resultando em condenações e determinações específicas.\n",
      "*   **Extinção do Processo:** O processo foi extinto com base no artigo 487, inciso I, do Código de Processo Civil.\n",
      "\n",
      "**2. Condenações e Determinações:**\n",
      "\n",
      "*   **Danos Ambientais Materiais:** O requerido Lucas Zarur Bernardo foi condenado a pagar R$ 1.071.563,63, a ser revertido ao Fundo Municipal do Meio Ambiente de Juara/MT ou em projeto de natureza ambiental aprovado pelo Ministério Público.\n",
      "*   **Danos Morais Coletivos:** Foi determinada a compensação de R$ 100.000,00 em favor do Fundo Municipal do Meio Ambiente de Juara/MT, devido aos efeitos do desmatamento ilegal.\n",
      "*   **Extinção do Processo:** O processo foi extinto com base no artigo 487, inciso I, do Código de Processo Civil.\n",
      "\n",
      "**3. Cálculos e Juros:**\n",
      "\n",
      "*   **Correção Monetária:** Os valores serão corrigidos pelo INPC/IBGE a partir de 01/02/2021.\n",
      "*   **Juros de Mora:** Incidem juros de 1% ao mês desde a data da constatação dos danos ambientais (01/02/2021).\n",
      "\n",
      "**4. Outras Determinações:**\n",
      "\n",
      "*   **Não há honorários advocatícios:** O Ministério Público não receberá honorários advocatícios, conforme decisões dos Tribunais Superiores.\n",
      "*   **Arquivamento:** O processo será arquivado com as baixas e anotações necessárias.\n",
      "\n",
      "**Observações Importantes:**\n",
      "\n",
      "*   A decisão se baseia em precedentes jurisprudenciais, como a Súmula 362 do STJ (correção monetária) e a Súmula 54 do STJ (juros de mora).\n",
      "*   A decisão é definitiva, mas pode ser revista por meio de recursos.\n",
      "\n",
      "Espero que esta análise detalhada seja útil!\n"
     ]
    }
   ],
   "source": [
    "# Passo 3: Enviar para o Ollama\n",
    "resposta = ollama.chat(\n",
    "    model='gemma3:4b',  # ou outro modelo que você preferir\n",
    "    messages=conversa\n",
    ")\n",
    "print(resposta['message']['content'])"
   ]
  },
  {
   "cell_type": "code",
   "execution_count": null,
   "id": "65f0c435",
   "metadata": {},
   "outputs": [],
   "source": []
  }
 ],
 "metadata": {
  "kernelspec": {
   "display_name": "Python 3",
   "language": "python",
   "name": "python3"
  },
  "language_info": {
   "codemirror_mode": {
    "name": "ipython",
    "version": 3
   },
   "file_extension": ".py",
   "mimetype": "text/x-python",
   "name": "python",
   "nbconvert_exporter": "python",
   "pygments_lexer": "ipython3",
   "version": "3.12.5"
  }
 },
 "nbformat": 4,
 "nbformat_minor": 5
}
