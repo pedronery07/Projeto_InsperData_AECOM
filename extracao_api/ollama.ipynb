{
 "cells": [
  {
   "cell_type": "code",
   "execution_count": 1,
   "id": "ad97aa1e",
   "metadata": {},
   "outputs": [],
   "source": [
    "import pandas as pd\n",
    "import requests\n",
    "import json\n",
    "import ollama\n",
    "import PyPDF2\n"
   ]
  },
  {
   "cell_type": "code",
   "execution_count": 3,
   "id": "1c2c2a8e",
   "metadata": {},
   "outputs": [],
   "source": [
    "# Passo 1: Ler o PDF e transformar em texto\n",
    "def ler_pdf(caminho_pdf):\n",
    "    texto = ''\n",
    "    with open(caminho_pdf, 'rb') as file:\n",
    "        leitor = PyPDF2.PdfReader(file)\n",
    "        for pagina in leitor.pages:\n",
    "            texto += pagina.extract_text() + '\\n'\n",
    "    return texto"
   ]
  },
  {
   "cell_type": "code",
   "execution_count": 8,
   "id": "f9e1ce8a",
   "metadata": {},
   "outputs": [
    {
     "name": "stderr",
     "output_type": "stream",
     "text": [
      "<>:2: SyntaxWarning: invalid escape sequence '\\D'\n",
      "<>:2: SyntaxWarning: invalid escape sequence '\\D'\n",
      "C:\\Users\\ggsna\\AppData\\Local\\Temp\\ipykernel_10040\\2634349708.py:2: SyntaxWarning: invalid escape sequence '\\D'\n",
      "  caminho_pdf = 'docs\\DOC1_1002970-50.2022.8.11.0018-1740062052988-4606762-sentenca.pdf'\n"
     ]
    }
   ],
   "source": [
    "# Caminho do seu PDF\n",
    "caminho_pdf = 'docs\\DOC1_1002970-50.2022.8.11.0018-1740062052988-4606762-sentenca.pdf'\n",
    "conteudo_pdf = ler_pdf(caminho_pdf)"
   ]
  },
  {
   "cell_type": "code",
   "execution_count": 9,
   "id": "4d1ddff4",
   "metadata": {},
   "outputs": [],
   "source": [
    "# Passo 2: Criar o histórico da conversa\n",
    "conversa = [\n",
    "    {'role': 'system', 'content': 'Você é um assistente que ajuda a extrair informações específicas de documentos PDF fornecidos.'},\n",
    "    {'role': 'user', 'content': 'Você receberá o conteúdo de um documento e deverá me ajudar a extrair informações importantes.'},\n",
    "    {'role': 'user', 'content': f'Aqui está o conteúdo do documento:\\n\\n{conteudo_pdf}\\n\\nPoderia extrair as informações relevantes, como datas, nomes de pessoas e entidades mencionadas?'}\n",
    "]"
   ]
  },
  {
   "cell_type": "code",
   "execution_count": 10,
   "id": "766d98f7",
   "metadata": {},
   "outputs": [
    {
     "name": "stdout",
     "output_type": "stream",
     "text": [
      "Com certeza! Aqui estão as informações relevantes extraídas do texto:\n",
      "\n",
      "**Pessoas:**\n",
      "\n",
      "*   Fabrício Savazzi Bertoncini (Juiz Substituto)\n",
      "*   Lucas Zarur Bernardo (Requerido)\n",
      "\n",
      "**Entidades:**\n",
      "\n",
      "*   STJ (Superior Tribunal de Justiça)\n",
      "*   IBGE (Instituto Brasileiro de Geografia e Estatística)\n",
      "*   Fundo Municipal do Meio Ambiente de Juara/MT\n",
      "*   Ministério Público\n",
      "\n",
      "**Datas:**\n",
      "\n",
      "*   01/02/2021 (Data da constatação dos danos ambientais)\n",
      "*   Súmula 362 do STJ (Referente à correção monetária)\n",
      "*   Súmula 54 do STJ (Referente aos juros de mora)\n",
      "\n",
      "**Valores Monetários:**\n",
      "\n",
      "*   R$ 1.071.563,63 (Indenização pelos danos ambientais materiais)\n",
      "*   R$ 100.000,00 (Compensação pelos danos morais coletivos)\n",
      "\n",
      "Espero que isso seja útil!\n"
     ]
    }
   ],
   "source": [
    "# Passo 3: Enviar para o Ollama\n",
    "resposta = ollama.chat(\n",
    "    model='gemma3:4b',  # ou outro modelo que você preferir\n",
    "    messages=conversa\n",
    ")\n",
    "print(resposta['message']['content'])"
   ]
  }
 ],
 "metadata": {
  "kernelspec": {
   "display_name": "Python 3",
   "language": "python",
   "name": "python3"
  },
  "language_info": {
   "codemirror_mode": {
    "name": "ipython",
    "version": 3
   },
   "file_extension": ".py",
   "mimetype": "text/x-python",
   "name": "python",
   "nbconvert_exporter": "python",
   "pygments_lexer": "ipython3",
   "version": "3.12.5"
  }
 },
 "nbformat": 4,
 "nbformat_minor": 5
}
