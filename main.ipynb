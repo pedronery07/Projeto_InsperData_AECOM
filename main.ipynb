{
 "cells": [
  {
   "cell_type": "code",
   "execution_count": 9,
   "id": "c170a1f5",
   "metadata": {},
   "outputs": [],
   "source": [
    "import pandas as pd\n",
    "import requests\n",
    "import re\n",
    "from bs4 import BeautifulSoup\n",
    "from dotenv import load_dotenv\n",
    "import os\n",
    "from google import genai\n",
    "import json\n",
    "from pydantic import BaseModel\n",
    "import time\n",
    "import pymupdf\n",
    "import tempfile\n",
    "from tqdm import tqdm\n",
    "import sqlite3"
   ]
  },
  {
   "cell_type": "code",
   "execution_count": 43,
   "id": "a04f534b",
   "metadata": {},
   "outputs": [],
   "source": [
    "anexos = pd.read_excel('docs/jusbrasil.xlsx', sheet_name=\"Anexos\")"
   ]
  },
  {
   "cell_type": "code",
   "execution_count": 44,
   "id": "3cc158ab",
   "metadata": {},
   "outputs": [
    {
     "data": {
      "text/html": [
       "<div>\n",
       "<style scoped>\n",
       "    .dataframe tbody tr th:only-of-type {\n",
       "        vertical-align: middle;\n",
       "    }\n",
       "\n",
       "    .dataframe tbody tr th {\n",
       "        vertical-align: top;\n",
       "    }\n",
       "\n",
       "    .dataframe thead th {\n",
       "        text-align: right;\n",
       "    }\n",
       "</style>\n",
       "<table border=\"1\" class=\"dataframe\">\n",
       "  <thead>\n",
       "    <tr style=\"text-align: right;\">\n",
       "      <th></th>\n",
       "      <th>processoID</th>\n",
       "      <th>processoAnexoID</th>\n",
       "      <th>Download copia</th>\n",
       "      <th>Publicado em</th>\n",
       "    </tr>\n",
       "  </thead>\n",
       "  <tbody>\n",
       "    <tr>\n",
       "      <th>1</th>\n",
       "      <td>474474022</td>\n",
       "      <td>2344968081</td>\n",
       "      <td>http://jud-anexos.digesto.com.br/0cacd6d80c499...</td>\n",
       "      <td>2021-08-13</td>\n",
       "    </tr>\n",
       "    <tr>\n",
       "      <th>7</th>\n",
       "      <td>474474806</td>\n",
       "      <td>2294638461</td>\n",
       "      <td>http://jud-anexos.digesto.com.br/90df1f9ac9917...</td>\n",
       "      <td>2022-05-16</td>\n",
       "    </tr>\n",
       "    <tr>\n",
       "      <th>33</th>\n",
       "      <td>575718248</td>\n",
       "      <td>1511375012</td>\n",
       "      <td>http://jud-anexos.digesto.com.br/c89c7a26febcc...</td>\n",
       "      <td>2022-07-20</td>\n",
       "    </tr>\n",
       "    <tr>\n",
       "      <th>87</th>\n",
       "      <td>580649179</td>\n",
       "      <td>1504080402</td>\n",
       "      <td>http://jud-anexos.digesto.com.br/585fdfebfdd6d...</td>\n",
       "      <td>2024-07-31</td>\n",
       "    </tr>\n",
       "    <tr>\n",
       "      <th>105</th>\n",
       "      <td>654928926</td>\n",
       "      <td>2419043700</td>\n",
       "      <td>http://jud-anexos.digesto.com.br/6be7e9beac86d...</td>\n",
       "      <td>2025-01-29</td>\n",
       "    </tr>\n",
       "  </tbody>\n",
       "</table>\n",
       "</div>"
      ],
      "text/plain": [
       "     processoID  processoAnexoID  \\\n",
       "1     474474022       2344968081   \n",
       "7     474474806       2294638461   \n",
       "33    575718248       1511375012   \n",
       "87    580649179       1504080402   \n",
       "105   654928926       2419043700   \n",
       "\n",
       "                                        Download copia Publicado em  \n",
       "1    http://jud-anexos.digesto.com.br/0cacd6d80c499...   2021-08-13  \n",
       "7    http://jud-anexos.digesto.com.br/90df1f9ac9917...   2022-05-16  \n",
       "33   http://jud-anexos.digesto.com.br/c89c7a26febcc...   2022-07-20  \n",
       "87   http://jud-anexos.digesto.com.br/585fdfebfdd6d...   2024-07-31  \n",
       "105  http://jud-anexos.digesto.com.br/6be7e9beac86d...   2025-01-29  "
      ]
     },
     "execution_count": 44,
     "metadata": {},
     "output_type": "execute_result"
    }
   ],
   "source": [
    "anexos_copia = anexos.copy().loc[:,[\"processoID\", \"processoAnexoID\", \"Download copia\", \"Tipo de anexo\", \"Publicado em\"]]\n",
    "sentencas = anexos_copia.loc[anexos[\"Tipo de anexo\"].isin([\"SENTENCA\"]),\n",
    "                                           [\"processoID\", \"processoAnexoID\", \"Download copia\", \"Publicado em\"]]\n",
    "sentencas.head()"
   ]
  },
  {
   "cell_type": "code",
   "execution_count": 45,
   "id": "d21c08c7",
   "metadata": {},
   "outputs": [
    {
     "data": {
      "text/html": [
       "<div>\n",
       "<style scoped>\n",
       "    .dataframe tbody tr th:only-of-type {\n",
       "        vertical-align: middle;\n",
       "    }\n",
       "\n",
       "    .dataframe tbody tr th {\n",
       "        vertical-align: top;\n",
       "    }\n",
       "\n",
       "    .dataframe thead th {\n",
       "        text-align: right;\n",
       "    }\n",
       "</style>\n",
       "<table border=\"1\" class=\"dataframe\">\n",
       "  <thead>\n",
       "    <tr style=\"text-align: right;\">\n",
       "      <th></th>\n",
       "      <th>processoID</th>\n",
       "      <th>processoAnexoID</th>\n",
       "      <th>Download copia</th>\n",
       "      <th>Publicado em</th>\n",
       "    </tr>\n",
       "  </thead>\n",
       "  <tbody>\n",
       "    <tr>\n",
       "      <th>1293</th>\n",
       "      <td>471515190</td>\n",
       "      <td>727395468</td>\n",
       "      <td>http://jud-anexos.digesto.com.br/3a9fbbe2c4f69...</td>\n",
       "      <td>2022-04-28</td>\n",
       "    </tr>\n",
       "    <tr>\n",
       "      <th>1302</th>\n",
       "      <td>471515190</td>\n",
       "      <td>727395467</td>\n",
       "      <td>http://jud-anexos.digesto.com.br/7767cbbc02e35...</td>\n",
       "      <td>2024-03-07</td>\n",
       "    </tr>\n",
       "    <tr>\n",
       "      <th>2876</th>\n",
       "      <td>595998611</td>\n",
       "      <td>1403409515</td>\n",
       "      <td>http://jud-anexos.digesto.com.br/0ec3e0c015d72...</td>\n",
       "      <td>2024-08-05</td>\n",
       "    </tr>\n",
       "    <tr>\n",
       "      <th>2877</th>\n",
       "      <td>595998611</td>\n",
       "      <td>1403409516</td>\n",
       "      <td>http://jud-anexos.digesto.com.br/385306277d658...</td>\n",
       "      <td>2024-08-05</td>\n",
       "    </tr>\n",
       "    <tr>\n",
       "      <th>8000</th>\n",
       "      <td>690025576</td>\n",
       "      <td>2015456650</td>\n",
       "      <td>http://jud-anexos.digesto.com.br/fb01c9fd839aa...</td>\n",
       "      <td>2021-01-01</td>\n",
       "    </tr>\n",
       "  </tbody>\n",
       "</table>\n",
       "</div>"
      ],
      "text/plain": [
       "      processoID  processoAnexoID  \\\n",
       "1293   471515190        727395468   \n",
       "1302   471515190        727395467   \n",
       "2876   595998611       1403409515   \n",
       "2877   595998611       1403409516   \n",
       "8000   690025576       2015456650   \n",
       "\n",
       "                                         Download copia Publicado em  \n",
       "1293  http://jud-anexos.digesto.com.br/3a9fbbe2c4f69...   2022-04-28  \n",
       "1302  http://jud-anexos.digesto.com.br/7767cbbc02e35...   2024-03-07  \n",
       "2876  http://jud-anexos.digesto.com.br/0ec3e0c015d72...   2024-08-05  \n",
       "2877  http://jud-anexos.digesto.com.br/385306277d658...   2024-08-05  \n",
       "8000  http://jud-anexos.digesto.com.br/fb01c9fd839aa...   2021-01-01  "
      ]
     },
     "execution_count": 45,
     "metadata": {},
     "output_type": "execute_result"
    }
   ],
   "source": [
    "def identifica_acesso_negado(processos):\n",
    "    copia_processos = processos.copy()\n",
    "    acessos_negados = []\n",
    "\n",
    "    for i in range(copia_processos.shape[0]):\n",
    "        link = copia_processos.iloc[i, 2]\n",
    "        response = requests.get(link)\n",
    "        response.encoding = 'utf-8'\n",
    "        content_type = response.headers.get('Content-Type', '')\n",
    "        texto = \"\"\n",
    "\n",
    "        if 'html' in content_type:\n",
    "            # print(f\"[HTML] Extraindo de: {link}\")\n",
    "            soup = BeautifulSoup(response.content, 'html.parser')\n",
    "            texto = soup.get_text()\n",
    "\n",
    "        match = re.search(r'Acesso negado', texto)\n",
    "        if match:\n",
    "            acessos_negados.append(i)\n",
    "            continue\n",
    "    \n",
    "    return copia_processos.iloc[acessos_negados, :]\n",
    "\n",
    "df_html_only = sentencas[sentencas['Download copia'].str.contains(r'\\.html?$', case=False, na=False)]\n",
    "acessos_negados = identifica_acesso_negado(df_html_only)\n",
    "acessos_negados.head()"
   ]
  },
  {
   "cell_type": "code",
   "execution_count": 46,
   "id": "81a9f6e5",
   "metadata": {},
   "outputs": [],
   "source": [
    "# Dropando os acessos negados\n",
    "# sentencas_acessaveis = sentencas[sentencas[\"processoAnexoID\"].isin(acessos_negados[\"processoAnexoID\"]) == False]\n",
    "\n",
    "# Exportando sentenças sem acesso negado para um arquivo Excel\n",
    "# sentencas_acessaveis.to_excel(\"docs/sentencas_acessaveis.xlsx\", index=False)\n",
    "sentencas_acessaveis = pd.read_excel(\"docs/sentencas_acessaveis.xlsx\")"
   ]
  },
  {
   "cell_type": "code",
   "execution_count": 47,
   "id": "6ce393d7",
   "metadata": {},
   "outputs": [
    {
     "data": {
      "text/plain": [
       "(223,)"
      ]
     },
     "execution_count": 47,
     "metadata": {},
     "output_type": "execute_result"
    }
   ],
   "source": [
    "# Verificando quantidade de processos após o drop\n",
    "sentencas_acessaveis[\"processoID\"].unique().shape"
   ]
  },
  {
   "cell_type": "code",
   "execution_count": 51,
   "id": "a897b1e8",
   "metadata": {},
   "outputs": [
    {
     "name": "stdout",
     "output_type": "stream",
     "text": [
      "Número de processos com mais de uma sentença: 84\n"
     ]
    }
   ],
   "source": [
    "ids_processos = sentencas_acessaveis[\"processoID\"].unique()\n",
    "processos_com_mais_de_uma_sentenca = []\n",
    "\n",
    "for id in ids_processos:\n",
    "    linhas_correspondentes = sentencas_acessaveis.loc[sentencas_acessaveis['processoID'] == id]\n",
    "    if linhas_correspondentes.shape[0] > 1:\n",
    "        processos_com_mais_de_uma_sentenca.append(int(id))\n",
    "\n",
    "print(f\"Número de processos com mais de uma sentença: {len(processos_com_mais_de_uma_sentenca)}\")"
   ]
  },
  {
   "cell_type": "code",
   "execution_count": 52,
   "id": "8dcc087d",
   "metadata": {},
   "outputs": [],
   "source": [
    "sentencas_final = sentencas_acessaveis.copy()\n",
    "for id in ids_processos:\n",
    "    linhas_correspondentes = sentencas_acessaveis.loc[sentencas_acessaveis['processoID'] == id]\n",
    "    if linhas_correspondentes.shape[0] > 1:\n",
    "        if linhas_correspondentes['Publicado em'].nunique() == 1:\n",
    "            # Data de publicação igual: eliminando por ordem de anexo id\n",
    "            linhas_correspondentes = linhas_correspondentes.sort_values(by=[\"processoAnexoID\"], ascending=True)\n",
    "            manter_id = linhas_correspondentes.iloc[0]['processoAnexoID']\n",
    "        else:\n",
    "            # Ordenando as linhas por data\n",
    "            linhas_correspondentes = linhas_correspondentes.sort_values(by=[\"Publicado em\"], ascending=True)\n",
    "            # Mantendo a primeira linha (mais antiga)\n",
    "            manter_id = linhas_correspondentes.iloc[0]['processoAnexoID']\n",
    "        \n",
    "        # Eliminar todas as outras com mesmo processoID e processoAnexoID diferente do que foi mantido\n",
    "        sentencas_final = sentencas_final[~((sentencas_final[\"processoID\"] == id) & (sentencas_final[\"processoAnexoID\"] != manter_id))]"
   ]
  },
  {
   "cell_type": "code",
   "execution_count": 53,
   "id": "bc1e441e",
   "metadata": {},
   "outputs": [
    {
     "name": "stdout",
     "output_type": "stream",
     "text": [
      "Número de processos com mais de uma sentença: 0\n"
     ]
    }
   ],
   "source": [
    "# Verificando dataframe após a eliminação\n",
    "ids_processos = sentencas_final[\"processoID\"].unique()\n",
    "processos_com_mais_de_uma_sentenca = []\n",
    "\n",
    "for id in ids_processos:\n",
    "    linhas_correspondentes = sentencas_final.loc[sentencas_final['processoID'] == id]\n",
    "    if linhas_correspondentes.shape[0] > 1:\n",
    "        processos_com_mais_de_uma_sentenca.append(int(id))\n",
    "\n",
    "print(f\"Número de processos com mais de uma sentença: {len(processos_com_mais_de_uma_sentenca)}\")"
   ]
  },
  {
   "cell_type": "code",
   "execution_count": 54,
   "id": "abaac9c7",
   "metadata": {},
   "outputs": [
    {
     "data": {
      "text/plain": [
       "(223,)"
      ]
     },
     "execution_count": 54,
     "metadata": {},
     "output_type": "execute_result"
    }
   ],
   "source": [
    "# Verificando se a quantidade de processos após o drop se manteve\n",
    "sentencas_final[\"processoID\"].unique().shape"
   ]
  },
  {
   "cell_type": "code",
   "execution_count": 55,
   "id": "bc658aba",
   "metadata": {},
   "outputs": [],
   "source": [
    "# Exportando df final de sentenças para um arquivo Excel\n",
    "# sentencas_final.to_excel(\"docs/sentencas_final.xlsx\", index=False)\n",
    "sentencas_final = pd.read_excel(\"docs/sentencas_final.xlsx\")"
   ]
  },
  {
   "cell_type": "code",
   "execution_count": 56,
   "id": "f742151a",
   "metadata": {},
   "outputs": [],
   "source": [
    "def verifica_dano_ambiental(texto):\n",
    "    \"\"\"\n",
    "    Função que verifica se o texto possui dano ambiental.\n",
    "    Se houver, justifica a resposta. Caso contrário, responde \"Não há dano ambiental\".\n",
    "    \"\"\"\n",
    "    \n",
    "    prompt = f\"\"\"\n",
    "    Você é um especialista em direito ambiental. \n",
    "    Você deve analisar o seguinte texto e verificar se há dano ambiental.\n",
    "    Se houver, justifique sua resposta em até 20 palavras. Caso contrário, responda \"Não há dano ambiental\".\n",
    "    Definição útil: Dano ambiental é qualquer prejuízo causado ao meio ambiente (água, solo, ar, fauna, flora, patrimônio paisagístico etc.) por ação ou omissão\n",
    "    de um terceiro, sendo gerador de obrigação de reparação, conforme os artigos 186 e 927 do Código Civil.\n",
    "    Refira-se EXCLUSIVAMENTE ao texto fornecido para identificar se há dano ambiental e para justificar sua resposta!!\n",
    "\n",
    "    Texto: {texto}\n",
    "    \"\"\"\n",
    "    \n",
    "    class FormatoResposta(BaseModel):\n",
    "        isDanoAmbiental: bool\n",
    "        justificativa: str\n",
    "\n",
    "    client = genai.Client(api_key=os.getenv('GEMINI_API_KEY'))\n",
    "    resposta = client.models.generate_content(\n",
    "        model=\"gemini-2.0-flash\",\n",
    "        contents=prompt,\n",
    "        config={\n",
    "            \"response_mime_type\": \"application/json\",\n",
    "            'response_schema': FormatoResposta,\n",
    "            'temperature': 1.0\n",
    "            # 'max_output_tokens': 500,\n",
    "        }\n",
    "    )\n",
    "    time.sleep(3)\n",
    "    return resposta"
   ]
  },
  {
   "cell_type": "code",
   "execution_count": 57,
   "id": "44c6232b",
   "metadata": {},
   "outputs": [
    {
     "data": {
      "text/plain": [
       "[{'isDanoAmbiental': True,\n",
       "  'justificativa': 'A empresa mantinha madeira ilegal em depósito, o que causa dano ambiental por fomentar a extração ilegal.',\n",
       "  'processoAnexoID': np.int64(2344968081),\n",
       "  'link_referencia': 'http://jud-anexos.digesto.com.br/0cacd6d80c499ae25dcb85380a07c3dd.pdf',\n",
       "  'processoID': np.int64(474474022)},\n",
       " {'isDanoAmbiental': True,\n",
       "  'justificativa': 'O texto refere-se à destruição de 121,15 hectares de floresta nativa, configurando dano ao meio ambiente.',\n",
       "  'processoAnexoID': np.int64(2294638461),\n",
       "  'link_referencia': 'http://jud-anexos.digesto.com.br/90df1f9ac9917f6df4b9f91915b3a8bd.pdf',\n",
       "  'processoID': np.int64(474474806)},\n",
       " {'isDanoAmbiental': False,\n",
       "  'justificativa': 'Não há dano ambiental. O texto trata de uma ação judicial sobre a venda de um aparelho sem carregador.',\n",
       "  'processoAnexoID': np.int64(1511375012),\n",
       "  'link_referencia': 'http://jud-anexos.digesto.com.br/c89c7a26febccd44703bb340de170f09.pdf',\n",
       "  'processoID': np.int64(575718248)},\n",
       " {'isDanoAmbiental': False,\n",
       "  'justificativa': 'Não há dano ambiental, pois o texto trata de interrupção no abastecimento de água e prejuízos econômicos.',\n",
       "  'processoAnexoID': np.int64(1504080402),\n",
       "  'link_referencia': 'http://jud-anexos.digesto.com.br/585fdfebfdd6d2ded0146d6b79813e2f.pdf',\n",
       "  'processoID': np.int64(580649179)},\n",
       " {'isDanoAmbiental': False,\n",
       "  'justificativa': 'Não há dano ambiental. O texto trata de cobrança indevida de água, sem menção a prejuízos ao meio ambiente.',\n",
       "  'processoAnexoID': np.int64(2419043700),\n",
       "  'link_referencia': 'http://jud-anexos.digesto.com.br/6be7e9beac86d76d02b031e258dd81f3.pdf',\n",
       "  'processoID': np.int64(654928926)},\n",
       " {'isDanoAmbiental': True,\n",
       "  'justificativa': 'A empresa lançou e queimou rejeitos de indústria madeireira a céu aberto, em desacordo com a licença de operação.',\n",
       "  'processoAnexoID': np.int64(1915313002),\n",
       "  'link_referencia': 'http://jud-anexos.digesto.com.br/209b98634c9c4a3f7c83d1c521c5b8d6.pdf',\n",
       "  'processoID': np.int64(682231747)},\n",
       " {'isDanoAmbiental': False,\n",
       "  'justificativa': 'Não há menção de prejuízo ao meio ambiente (água, solo, ar, fauna, flora, patrimônio paisagístico etc.) no texto.',\n",
       "  'processoAnexoID': np.int64(2317529292),\n",
       "  'link_referencia': 'http://jud-anexos.digesto.com.br/9e6f89021ad2692964ba32eda8dbf752.html',\n",
       "  'processoID': np.int64(487107333)},\n",
       " {'isDanoAmbiental': False,\n",
       "  'justificativa': 'Não há dano ambiental. O texto trata de uma ação declaratória de inexistência de débito c/c reparação de danos morais.',\n",
       "  'processoAnexoID': np.int64(2366908896),\n",
       "  'link_referencia': 'http://jud-anexos.digesto.com.br/d6ecb52b7493cb254b3188065a7134be.html',\n",
       "  'processoID': np.int64(503987107)},\n",
       " {'isDanoAmbiental': False,\n",
       "  'justificativa': 'Não há dano ambiental no texto, pois trata-se de uma ação cível sobre compra e venda de veículo.',\n",
       "  'processoAnexoID': np.int64(1398082646),\n",
       "  'link_referencia': 'http://jud-anexos.digesto.com.br/ae7e8fe9bd0ffaae6c5a50b0550ad270.html',\n",
       "  'processoID': np.int64(570015135)},\n",
       " {'isDanoAmbiental': False,\n",
       "  'justificativa': 'Não há dano ambiental. O texto trata de uma ação judicial sobre um contrato de empréstimo.',\n",
       "  'processoAnexoID': np.int64(2730540388),\n",
       "  'link_referencia': 'http://jud-anexos.digesto.com.br/2e196251a32e640f42b5b1fae06c7329.html',\n",
       "  'processoID': np.int64(607320365)},\n",
       " {'isDanoAmbiental': False,\n",
       "  'justificativa': 'Não há dano ambiental, pois o texto trata de uma ação declaratória de inexistência de débito c/c indenização por dano moral.',\n",
       "  'processoAnexoID': np.int64(2281647799),\n",
       "  'link_referencia': 'http://jud-anexos.digesto.com.br/a00473a504122143575a731b7c39ca8c.html',\n",
       "  'processoID': np.int64(656849792)},\n",
       " {'isDanoAmbiental': False,\n",
       "  'justificativa': 'Não há dano ambiental. O texto trata de uma ação de rescisão contratual sem relação com o meio ambiente.',\n",
       "  'processoAnexoID': np.int64(2837041554),\n",
       "  'link_referencia': 'http://jud-anexos.digesto.com.br/95b9349b12d1987412f17a791acc906a.html',\n",
       "  'processoID': np.int64(766770493)},\n",
       " {'isDanoAmbiental': True,\n",
       "  'justificativa': 'A ação civil pública trata de dano moral difuso e obrigação de recompor área degradada, indicando a existência de dano ambiental.',\n",
       "  'processoAnexoID': np.int64(269166848),\n",
       "  'link_referencia': 'http://jud-anexos.digesto.com.br/7cef4bd654c356d84d7a617351f802cc.pdf',\n",
       "  'processoID': np.int64(311524686)},\n",
       " {'isDanoAmbiental': True,\n",
       "  'justificativa': 'O texto indica contaminação de rios, derrubada de castanheiras e poluição, caracterizando dano ambiental.',\n",
       "  'processoAnexoID': np.int64(1526470307),\n",
       "  'link_referencia': 'http://jud-anexos.digesto.com.br/d5d876cd4f1b1b52385f1ec4df9886ba.html',\n",
       "  'processoID': np.int64(326977847)},\n",
       " {'isDanoAmbiental': True,\n",
       "  'justificativa': 'O texto relata desmatamento ilegal de 133,11 hectares de Floresta Amazônica, configurando dano ambiental.',\n",
       "  'processoAnexoID': np.int64(113620662),\n",
       "  'link_referencia': 'http://jud-anexos.digesto.com.br/24586eb78e174455c03d488d6518e16c.html',\n",
       "  'processoID': np.int64(486374400)},\n",
       " {'isDanoAmbiental': True,\n",
       "  'justificativa': 'A empresa lançou efluentes (tinta, produtos químicos e de limpeza) diretamente no solo e no Córrego Tamanduá, causando poluição.',\n",
       "  'processoAnexoID': np.int64(2868300725),\n",
       "  'link_referencia': 'http://jud-anexos.digesto.com.br/be70db0dae0a1d1f18eb65dfd5523e76.html',\n",
       "  'processoID': np.int64(497378463)},\n",
       " {'isDanoAmbiental': False,\n",
       "  'justificativa': 'Não há dano ambiental. O texto trata de uma ação ordinária inominada sobre direitos trabalhistas de uma professora.',\n",
       "  'processoAnexoID': np.int64(2285631988),\n",
       "  'link_referencia': 'http://jud-anexos.digesto.com.br/806b3bed99f6b144980640e291ea43f5.html',\n",
       "  'processoID': np.int64(520989485)},\n",
       " {'isDanoAmbiental': False,\n",
       "  'justificativa': 'Não há dano ambiental, pois o texto trata de uma ação de indenização por danos morais devido a atraso de voo.',\n",
       "  'processoAnexoID': np.int64(1394061051),\n",
       "  'link_referencia': 'http://jud-anexos.digesto.com.br/7cce4fed8abf878e5603e6b0f5562673.html',\n",
       "  'processoID': np.int64(654276664)},\n",
       " {'isDanoAmbiental': False,\n",
       "  'justificativa': 'Não há dano ambiental, pois o texto trata de um cumprimento de sentença e extinção do processo.',\n",
       "  'processoAnexoID': np.int64(2483322694),\n",
       "  'link_referencia': 'http://jud-anexos.digesto.com.br/1cdff09e1ed2c127e91f31e5a5d223ac.html',\n",
       "  'processoID': np.int64(658495280)},\n",
       " {'isDanoAmbiental': False,\n",
       "  'justificativa': 'Não há dano ambiental, pois o texto trata de indenização por falhas no fornecimento de energia elétrica.',\n",
       "  'processoAnexoID': np.int64(2451722545),\n",
       "  'link_referencia': 'http://jud-anexos.digesto.com.br/5631abc57e085f5121b0ead2d78e9e85.html',\n",
       "  'processoID': np.int64(741569033)},\n",
       " {'isDanoAmbiental': False,\n",
       "  'justificativa': 'Não há dano ambiental, pois o texto trata de uma ação de indenização por danos morais e materiais.',\n",
       "  'processoAnexoID': np.int64(1419499656),\n",
       "  'link_referencia': 'http://jud-anexos.digesto.com.br/25afbf7fded56e9b963e05b9f2b6bb1b.pdf',\n",
       "  'processoID': np.int64(560118418)},\n",
       " {'isDanoAmbiental': False,\n",
       "  'justificativa': 'Não há dano ambiental.',\n",
       "  'processoAnexoID': np.int64(1176565039),\n",
       "  'link_referencia': 'http://jud-anexos.digesto.com.br/af2e31ab1171eebaf9eaba7298a863f1.pdf',\n",
       "  'processoID': np.int64(562042448)},\n",
       " {'isDanoAmbiental': False,\n",
       "  'justificativa': 'Não há dano ambiental, pois o texto trata de descumprimento contratual referente a um pacote de viagem.',\n",
       "  'processoAnexoID': np.int64(1342899600),\n",
       "  'link_referencia': 'http://jud-anexos.digesto.com.br/39dff1c665a4058e993ad23403b74d3f.pdf',\n",
       "  'processoID': np.int64(575247677)},\n",
       " {'isDanoAmbiental': False,\n",
       "  'justificativa': 'Não há dano ambiental, pois o texto trata de uma ação de restituição de valor pago c/c indenização por danos morais.',\n",
       "  'processoAnexoID': np.int64(1608281101),\n",
       "  'link_referencia': 'http://jud-anexos.digesto.com.br/baa70e5f7e80b87ec2513996dc999998.pdf',\n",
       "  'processoID': np.int64(587452198)},\n",
       " {'isDanoAmbiental': False,\n",
       "  'justificativa': 'Não há dano ambiental, pois o texto trata de uma ação de restituição de valor pago c/c indenização por danos morais.',\n",
       "  'processoAnexoID': np.int64(2092274269),\n",
       "  'link_referencia': 'http://jud-anexos.digesto.com.br/b66f11432ff40098fd8950223d3646fe.pdf',\n",
       "  'processoID': np.int64(620761276)},\n",
       " {'isDanoAmbiental': False,\n",
       "  'justificativa': 'O texto trata de cobranças indevidas de água e esgoto, não mencionando danos ao meio ambiente.',\n",
       "  'processoAnexoID': np.int64(1468979593),\n",
       "  'link_referencia': 'http://jud-anexos.digesto.com.br/c1189054a28c83134ddf407f0fdffbee.pdf',\n",
       "  'processoID': np.int64(622753785)},\n",
       " {'isDanoAmbiental': False,\n",
       "  'justificativa': 'Não há dano ambiental, pois o texto trata de uma ação judicial sobre plano de saúde.',\n",
       "  'processoAnexoID': np.int64(1449244061),\n",
       "  'link_referencia': 'http://jud-anexos.digesto.com.br/205d76f4d06f3a2aa127976ad1c9d6c8.pdf',\n",
       "  'processoID': np.int64(407239877)},\n",
       " {'isDanoAmbiental': True,\n",
       "  'justificativa': 'A construção irregular em área de praia (bem de uso comum) causa degradação ambiental, com potencial poluição e prejuízo à saúde pública.',\n",
       "  'processoAnexoID': np.int64(2254516518),\n",
       "  'link_referencia': 'http://jud-anexos.digesto.com.br/a322a1e63179ad2a721b9268801dbfb6.pdf',\n",
       "  'processoID': np.int64(435827204)},\n",
       " {'isDanoAmbiental': False,\n",
       "  'justificativa': 'Não há dano ambiental. O texto trata de uma ação judicial sobre contrato de cartão de crédito consignado.',\n",
       "  'processoAnexoID': np.int64(2172381731),\n",
       "  'link_referencia': 'http://jud-anexos.digesto.com.br/09d6be65c301338f50831f289070bf32.pdf',\n",
       "  'processoID': np.int64(586906459)},\n",
       " {'isDanoAmbiental': True,\n",
       "  'justificativa': 'Em 2016, houve emissão de ruído acima do aceitável para área residencial, causando transtornos aos moradores do entorno.',\n",
       "  'processoAnexoID': np.int64(2583016248),\n",
       "  'link_referencia': 'http://jud-anexos.digesto.com.br/f8941539197bdd583e3bdd448abb2e6c.html',\n",
       "  'processoID': np.int64(654920222)},\n",
       " {'isDanoAmbiental': False,\n",
       "  'justificativa': 'Não há dano ambiental, pois o texto trata de rescisão de contrato de compra e venda de imóvel.',\n",
       "  'processoAnexoID': np.int64(779612317),\n",
       "  'link_referencia': 'http://jud-anexos.digesto.com.br/c7fac8749343a02deddd5dfdcb5092e1.html',\n",
       "  'processoID': np.int64(465369333)},\n",
       " {'isDanoAmbiental': False,\n",
       "  'justificativa': 'Não há dano ambiental. O texto trata de ação de indenização por danos materiais e morais em acidente de trânsito.',\n",
       "  'processoAnexoID': np.int64(728720185),\n",
       "  'link_referencia': 'http://jud-anexos.digesto.com.br/5d0a8e5ed8f0a7fec125a2c66852472a.html',\n",
       "  'processoID': np.int64(553223574)},\n",
       " {'isDanoAmbiental': False,\n",
       "  'justificativa': 'Não há informações no texto que permitam identificar dano ambiental.',\n",
       "  'processoAnexoID': np.int64(561141688),\n",
       "  'link_referencia': 'http://jud-anexos.digesto.com.br/4da50e667aeda4f63db0ec57a8ed181c.html',\n",
       "  'processoID': np.int64(609415453)},\n",
       " {'isDanoAmbiental': False,\n",
       "  'justificativa': 'O texto não descreve danos ao meio ambiente, mas sim uma ação declaratória de inexistência de débito.',\n",
       "  'processoAnexoID': np.int64(845485687),\n",
       "  'link_referencia': 'http://jud-anexos.digesto.com.br/62974e3deafad97342e0730ae6127cc0.html',\n",
       "  'processoID': np.int64(628179237)},\n",
       " {'isDanoAmbiental': False,\n",
       "  'justificativa': 'Não há dano ambiental no texto, pois trata-se de ação declaratória sobre empréstimos não contratados e indenização por danos morais.',\n",
       "  'processoAnexoID': np.int64(1438949232),\n",
       "  'link_referencia': 'http://jud-anexos.digesto.com.br/d29b30e83ac5c3c14263ead70dff3ab3.html',\n",
       "  'processoID': np.int64(657074093)},\n",
       " {'isDanoAmbiental': False,\n",
       "  'justificativa': 'Não há dano ambiental, pois o texto trata de rescisão de contrato de compra e venda de imóvel.',\n",
       "  'processoAnexoID': np.int64(966881997),\n",
       "  'link_referencia': 'http://jud-anexos.digesto.com.br/4f9bfe3261339a4e4f8047b31d365c3e.html',\n",
       "  'processoID': np.int64(543341452)},\n",
       " {'isDanoAmbiental': False,\n",
       "  'justificativa': 'Não há dano ambiental. O texto trata de uma ação de rescisão de contrato de compra e venda de imóvel.',\n",
       "  'processoAnexoID': np.int64(2302127922),\n",
       "  'link_referencia': 'http://jud-anexos.digesto.com.br/4cae487ccb17bad14493add401f2fc1b.html',\n",
       "  'processoID': np.int64(592032611)},\n",
       " {'isDanoAmbiental': False,\n",
       "  'justificativa': 'Não há dano ambiental. O texto trata de rescisão de contrato de compra e venda de imóvel e questões financeiras.',\n",
       "  'processoAnexoID': np.int64(778392863),\n",
       "  'link_referencia': 'http://jud-anexos.digesto.com.br/277a0743a7577dde103a227a6b5686b7.pdf',\n",
       "  'processoID': np.int64(624036617)},\n",
       " {'isDanoAmbiental': False,\n",
       "  'justificativa': 'Não há dano ambiental, pois o texto trata de rescisão contratual de compra e venda de imóvel.',\n",
       "  'processoAnexoID': np.int64(2188956498),\n",
       "  'link_referencia': 'http://jud-anexos.digesto.com.br/59e5eca3ab551ace1b54af92ffd89d30.html',\n",
       "  'processoID': np.int64(625309298)},\n",
       " {'isDanoAmbiental': False,\n",
       "  'justificativa': 'Não há dano ambiental, pois o texto trata de rescisão de contrato de compra e venda de imóvel por inadimplência.',\n",
       "  'processoAnexoID': np.int64(2382696832),\n",
       "  'link_referencia': 'http://jud-anexos.digesto.com.br/339b138770633c32dc5bdb45dff360a7.html',\n",
       "  'processoID': np.int64(629623792)},\n",
       " {'isDanoAmbiental': False,\n",
       "  'justificativa': 'Não há dano ambiental, pois o texto trata de questão financeira entre um banco e um cliente.',\n",
       "  'processoAnexoID': np.int64(2333046995),\n",
       "  'link_referencia': 'http://jud-anexos.digesto.com.br/4240158de62b97ae51c1d06c8a5cb8c2.html',\n",
       "  'processoID': np.int64(700953123)},\n",
       " {'isDanoAmbiental': False,\n",
       "  'justificativa': 'Não há dano ambiental. O texto trata de cobrança indevida de IPTU e dano moral, não de prejuízo ao meio ambiente.',\n",
       "  'processoAnexoID': np.int64(635363011),\n",
       "  'link_referencia': 'http://jud-anexos.digesto.com.br/e9a378d9c5c10e2dcbceffc83f4b4dcb.html',\n",
       "  'processoID': np.int64(510866383)},\n",
       " {'isDanoAmbiental': False,\n",
       "  'justificativa': 'Não há dano ambiental. O texto trata de cobrança indevida de IPTU e dano moral, sem relação com o meio ambiente.',\n",
       "  'processoAnexoID': np.int64(645343895),\n",
       "  'link_referencia': 'http://jud-anexos.digesto.com.br/a95e72b6484491d880d0c16548f1a788.html',\n",
       "  'processoID': np.int64(516572099)},\n",
       " {'isDanoAmbiental': False,\n",
       "  'justificativa': 'Não há dano ambiental. O texto trata de atraso na entrega de obras e indenização por danos morais.',\n",
       "  'processoAnexoID': np.int64(747584528),\n",
       "  'link_referencia': 'http://jud-anexos.digesto.com.br/ae0f41bd0f206ab21b90f2edd13e3751.html',\n",
       "  'processoID': np.int64(543998891)},\n",
       " {'isDanoAmbiental': True,\n",
       "  'justificativa': 'A ausência de rede de esgoto sanitário e o uso de fossa séptica podem poluir o solo e as águas.',\n",
       "  'processoAnexoID': np.int64(623962457),\n",
       "  'link_referencia': 'http://jud-anexos.digesto.com.br/179ce549bff6f6044d73c9c6f7b54d98.html',\n",
       "  'processoID': np.int64(575716037)},\n",
       " {'isDanoAmbiental': False,\n",
       "  'justificativa': 'Não há dano ambiental, pois o texto trata de cobrança indevida de IPTU e dano moral, sem relação com o meio ambiente.',\n",
       "  'processoAnexoID': np.int64(645750418),\n",
       "  'link_referencia': 'http://jud-anexos.digesto.com.br/77b0c057574bc4dbd51abea0e3970c3a.html',\n",
       "  'processoID': np.int64(615181426)},\n",
       " {'isDanoAmbiental': False,\n",
       "  'justificativa': 'O texto trata de questões financeiras e contratuais, não mencionando danos ao meio ambiente.',\n",
       "  'processoAnexoID': np.int64(2013409746),\n",
       "  'link_referencia': 'http://jud-anexos.digesto.com.br/a787730a033682f40bbaa5609b7e53ce.html',\n",
       "  'processoID': np.int64(689967459)},\n",
       " {'isDanoAmbiental': True,\n",
       "  'justificativa': 'O texto demonstra comprometimento no fornecimento de água, recurso essencial ao meio ambiente e à população, configurando dano.',\n",
       "  'processoAnexoID': np.int64(29932334),\n",
       "  'link_referencia': 'http://jud-anexos.digesto.com.br/e50aea65864c6a6ca7ab8ab06025d54f.pdf',\n",
       "  'processoID': np.int64(334295428)},\n",
       " {'isDanoAmbiental': False,\n",
       "  'justificativa': 'O texto trata de reparação por danos morais devido ao abastecimento irregular de água, não mencionando danos ao meio ambiente.',\n",
       "  'processoAnexoID': np.int64(2643510342),\n",
       "  'link_referencia': 'http://jud-anexos.digesto.com.br/c9c4529e46b75ee5e400e42350f2b2d7.pdf',\n",
       "  'processoID': np.int64(402923176)},\n",
       " {'isDanoAmbiental': True,\n",
       "  'justificativa': 'O rompimento de encanamento causou interrupção no fornecimento de água, impactando o meio ambiente e a população.',\n",
       "  'processoAnexoID': np.int64(1496081414),\n",
       "  'link_referencia': 'http://jud-anexos.digesto.com.br/4a966dbc383fe11597026e3ca7432c93.pdf',\n",
       "  'processoID': np.int64(576427068)},\n",
       " {'isDanoAmbiental': False,\n",
       "  'justificativa': 'Não há dano ambiental, pois o texto se refere a um cumprimento de sentença extinto, sem menção a danos ao meio ambiente.',\n",
       "  'processoAnexoID': np.int64(1879122337),\n",
       "  'link_referencia': 'http://jud-anexos.digesto.com.br/e0a197f13d29ce45ab6c10b51d54cce1.pdf',\n",
       "  'processoID': np.int64(643603960)},\n",
       " {'isDanoAmbiental': False,\n",
       "  'justificativa': 'Não há dano ambiental, pois o texto se refere a uma certidão de juntada de ata de audiência.',\n",
       "  'processoAnexoID': np.int64(727395436),\n",
       "  'link_referencia': 'http://jud-anexos.digesto.com.br/2353a9d33244ebec151b2d9fe7f47749.html',\n",
       "  'processoID': np.int64(471515190)},\n",
       " {'isDanoAmbiental': True,\n",
       "  'justificativa': 'O texto relata desmate de 11,826 hectares de Floresta Estacional Semidecidual do Bioma Mata Atlântica sem autorização.',\n",
       "  'processoAnexoID': np.int64(2037844918),\n",
       "  'link_referencia': 'http://jud-anexos.digesto.com.br/e448073edc85a7c3dd335c89e2c64c2e.html',\n",
       "  'processoID': np.int64(653342143)},\n",
       " {'isDanoAmbiental': True,\n",
       "  'justificativa': 'Houve supressão de 30 árvores nativas, perda de biodiversidade e destruição de habitats, causando impacto ambiental negativo.',\n",
       "  'processoAnexoID': np.int64(2349193455),\n",
       "  'link_referencia': 'http://jud-anexos.digesto.com.br/4af9d082c1a6dd5841a9c871eb76b26b.html',\n",
       "  'processoID': np.int64(690385401)},\n",
       " {'isDanoAmbiental': True,\n",
       "  'justificativa': 'A construtora realizou captação irregular de água do Rio Verde, causando dano ambiental pontual, ainda que de pequena monta.',\n",
       "  'processoAnexoID': np.int64(2026165564),\n",
       "  'link_referencia': 'http://jud-anexos.digesto.com.br/cbdda0e55f226a6f1eac06b4a819d143.html',\n",
       "  'processoID': np.int64(690454792)},\n",
       " {'isDanoAmbiental': False,\n",
       "  'justificativa': 'Não há dano ambiental. O texto trata de questões contratuais e financeiras entre as partes, sem menção a danos ao meio ambiente.',\n",
       "  'processoAnexoID': np.int64(2231553657),\n",
       "  'link_referencia': 'http://jud-anexos.digesto.com.br/a782eb49096a58432ef4575eb778d2d9.pdf',\n",
       "  'processoID': np.int64(308196382)},\n",
       " {'isDanoAmbiental': False,\n",
       "  'justificativa': 'O texto não menciona danos ao meio ambiente, apenas a venda de produtos vencidos.',\n",
       "  'processoAnexoID': np.int64(1767095035),\n",
       "  'link_referencia': 'http://jud-anexos.digesto.com.br/dbfd6f128b5bf77b83af357d8688ae0a.html',\n",
       "  'processoID': np.int64(567185716)},\n",
       " {'isDanoAmbiental': False,\n",
       "  'justificativa': 'Não há dano ambiental, pois o texto trata de uma ação declaratória de inexistência de débito c/c indenização por dano moral.',\n",
       "  'processoAnexoID': np.int64(2333008232),\n",
       "  'link_referencia': 'http://jud-anexos.digesto.com.br/5db70668bded8052921d505ee0b45354.html',\n",
       "  'processoID': np.int64(623159902)},\n",
       " {'isDanoAmbiental': False,\n",
       "  'justificativa': 'Não há dano ambiental. O texto trata de descontos indevidos em benefício previdenciário, sem menção a danos ao meio ambiente.',\n",
       "  'processoAnexoID': np.int64(2521016095),\n",
       "  'link_referencia': 'http://jud-anexos.digesto.com.br/a60b412bc2ec31a3cf504a884eae6a00.html',\n",
       "  'processoID': np.int64(652254246)},\n",
       " {'isDanoAmbiental': False,\n",
       "  'justificativa': 'Não há dano ambiental, pois o texto trata de ação declaratória de inexistência de débito c/c reparação de danos morais.',\n",
       "  'processoAnexoID': np.int64(2891688970),\n",
       "  'link_referencia': 'http://jud-anexos.digesto.com.br/8d64e3a44693f0c1b6712febfdea5f57.html',\n",
       "  'processoID': np.int64(768205070)},\n",
       " {'isDanoAmbiental': False,\n",
       "  'justificativa': 'Não há dano ambiental. O texto trata de uma ação de rescisão contratual de compra e venda de imóvel.',\n",
       "  'processoAnexoID': np.int64(2445255957),\n",
       "  'link_referencia': 'http://jud-anexos.digesto.com.br/6a58c1d53ca40bba31fc16c058a9c823.html',\n",
       "  'processoID': np.int64(588072853)},\n",
       " {'isDanoAmbiental': False,\n",
       "  'justificativa': 'Não há dano ambiental. O texto trata de uma ação declaratória de inexistência de débito c/c indenização por danos morais.',\n",
       "  'processoAnexoID': np.int64(2007069551),\n",
       "  'link_referencia': 'http://jud-anexos.digesto.com.br/29ade71890723450e4d7760765af7907.html',\n",
       "  'processoID': np.int64(595510872)},\n",
       " {'isDanoAmbiental': False,\n",
       "  'justificativa': 'Não há dano ambiental. O texto trata de uma ação de obrigação de fazer c/c indenização por dano extrapatrimonial.',\n",
       "  'processoAnexoID': np.int64(1410429344),\n",
       "  'link_referencia': 'http://jud-anexos.digesto.com.br/91a50d96fe4fd814562c4994b896c692.html',\n",
       "  'processoID': np.int64(656002743)},\n",
       " {'isDanoAmbiental': False,\n",
       "  'justificativa': 'Não há dano ambiental, pois o texto trata de rescisão contratual e danos materiais, sem menção a prejuízos ao meio ambiente.',\n",
       "  'processoAnexoID': np.int64(2601311541),\n",
       "  'link_referencia': 'http://jud-anexos.digesto.com.br/75797d6c643b50b94076a9abe92f8ca6.html',\n",
       "  'processoID': np.int64(658133768)},\n",
       " {'isDanoAmbiental': True,\n",
       "  'justificativa': 'O acidente de trânsito causou danos materiais ao veículo, o que configura dano ao patrimônio, conforme artigos 186 e 927 do Código Civil.',\n",
       "  'processoAnexoID': np.int64(1521765137),\n",
       "  'link_referencia': 'http://jud-anexos.digesto.com.br/afe9bdf6acaff828b37f419d446ff634.html',\n",
       "  'processoID': np.int64(665118465)},\n",
       " {'isDanoAmbiental': False,\n",
       "  'justificativa': 'Não há dano ambiental no texto, pois trata-se de uma ação de rescisão contratual.',\n",
       "  'processoAnexoID': np.int64(2317763182),\n",
       "  'link_referencia': 'http://jud-anexos.digesto.com.br/3a9c242fe56e64fe7dda8b7f4185a774.html',\n",
       "  'processoID': np.int64(680565212)},\n",
       " {'isDanoAmbiental': False,\n",
       "  'justificativa': 'Apesar da infração administrativa, não foi comprovado dano ambiental resultante do depósito de resíduos de aves diretamente no solo.',\n",
       "  'processoAnexoID': np.int64(651070157),\n",
       "  'link_referencia': 'http://jud-anexos.digesto.com.br/99bac9f8a27b6f863c8a701b23287cf1.html',\n",
       "  'processoID': np.int64(446724631)},\n",
       " {'isDanoAmbiental': False,\n",
       "  'justificativa': 'Não há dano ambiental, pois o texto trata de responsabilidade civil do Estado por lesões causadas por um agente policial.',\n",
       "  'processoAnexoID': np.int64(1952971596),\n",
       "  'link_referencia': 'http://jud-anexos.digesto.com.br/8afb384194c8d1bf4b0565c30c436910.html',\n",
       "  'processoID': np.int64(453435625)},\n",
       " {'isDanoAmbiental': False,\n",
       "  'justificativa': 'Não há dano ambiental. O texto trata de inscrição indevida no Sistema de Informações de Crédito do Banco Central (SCR).',\n",
       "  'processoAnexoID': np.int64(1952612311),\n",
       "  'link_referencia': 'http://jud-anexos.digesto.com.br/8ac605d96900a316631cd68810d4cbc3.html',\n",
       "  'processoID': np.int64(635549849)},\n",
       " {'isDanoAmbiental': False,\n",
       "  'justificativa': 'Não há dano ambiental. O texto trata de erro médico em cirurgia plástica, sem menção a prejuízos ao meio ambiente.',\n",
       "  'processoAnexoID': np.int64(1147306761),\n",
       "  'link_referencia': 'http://jud-anexos.digesto.com.br/cf881aeec73b8b78fba6704f350cfbda.html',\n",
       "  'processoID': np.int64(643590186)},\n",
       " {'isDanoAmbiental': False,\n",
       "  'justificativa': 'O texto trata de uma ação de reparação por danos morais e materiais, não mencionando danos ao meio ambiente.',\n",
       "  'processoAnexoID': np.int64(2712075877),\n",
       "  'link_referencia': 'http://jud-anexos.digesto.com.br/4414999b2fce2b47709c56598bf88f36.html',\n",
       "  'processoID': np.int64(738901607)},\n",
       " {'isDanoAmbiental': False,\n",
       "  'justificativa': 'O texto se refere a uma ação de indenização por danos decorrentes de acidente de trânsito, sem menção a danos ambientais.',\n",
       "  'processoAnexoID': np.int64(2389563367),\n",
       "  'link_referencia': 'http://jud-anexos.digesto.com.br/c040438bb09c42d719a6ea71a24722c2.html',\n",
       "  'processoID': np.int64(739136380)},\n",
       " {'isDanoAmbiental': False,\n",
       "  'justificativa': 'Não há dano ambiental. O texto trata de uma ação judicial sobre descontos não autorizados em benefício previdenciário.',\n",
       "  'processoAnexoID': np.int64(565960511),\n",
       "  'link_referencia': 'http://jud-anexos.digesto.com.br/45f47fefd2edbf68daf0b9145e7ef110.html',\n",
       "  'processoID': np.int64(465976361)},\n",
       " {'isDanoAmbiental': False,\n",
       "  'justificativa': 'Não há dano ambiental. O texto trata de descontos não autorizados em benefício previdenciário, sem relação com o meio ambiente.',\n",
       "  'processoAnexoID': np.int64(563813485),\n",
       "  'link_referencia': 'http://jud-anexos.digesto.com.br/71e5a06de0a375326d4d9a327986aa08.html',\n",
       "  'processoID': np.int64(465976543)},\n",
       " {'isDanoAmbiental': False,\n",
       "  'justificativa': 'Não há dano ambiental. O texto trata de um processo de rescisão contratual por desacordo comercial.',\n",
       "  'processoAnexoID': np.int64(1986945116),\n",
       "  'link_referencia': 'http://jud-anexos.digesto.com.br/5d13bef4f1d5c4f06444215079c749b2.html',\n",
       "  'processoID': np.int64(479079987)},\n",
       " {'isDanoAmbiental': False,\n",
       "  'justificativa': 'Não há dano ambiental. O texto trata de uma ação declaratória de inexistência de débito e indenização por danos morais.',\n",
       "  'processoAnexoID': np.int64(2363998761),\n",
       "  'link_referencia': 'http://jud-anexos.digesto.com.br/861561d4e738b944ab9afdbc919939f7.html',\n",
       "  'processoID': np.int64(650065562)},\n",
       " {'isDanoAmbiental': False,\n",
       "  'justificativa': 'Não há dano ambiental, pois o texto trata de uma ação de rescisão contratual e indenização por danos morais.',\n",
       "  'processoAnexoID': np.int64(2934560403),\n",
       "  'link_referencia': 'http://jud-anexos.digesto.com.br/5d13bef4f1d5c4f06444215079c749b2.html',\n",
       "  'processoID': np.int64(769926603)},\n",
       " {'isDanoAmbiental': False,\n",
       "  'justificativa': 'O texto trata de fraude bancária e dano moral, não mencionando prejuízos ao meio ambiente.',\n",
       "  'processoAnexoID': np.int64(979080985),\n",
       "  'link_referencia': 'http://jud-anexos.digesto.com.br/2f0f3617596191f9372b2324162a008d.html',\n",
       "  'processoID': np.int64(574418377)},\n",
       " {'isDanoAmbiental': False,\n",
       "  'justificativa': 'Não há dano ambiental. O texto trata de uma ação declaratória de nulidade contratual e reparação por danos morais.',\n",
       "  'processoAnexoID': np.int64(1353650178),\n",
       "  'link_referencia': 'http://jud-anexos.digesto.com.br/96f64175cf3048c46848c0b6e1d2c949.html',\n",
       "  'processoID': np.int64(652563492)},\n",
       " {'isDanoAmbiental': False,\n",
       "  'justificativa': 'Não há dano ambiental no texto, pois trata-se de ação declaratória de inexistência de débito c/c danos morais.',\n",
       "  'processoAnexoID': np.int64(2577849081),\n",
       "  'link_referencia': 'http://jud-anexos.digesto.com.br/7d9dc3b4f3cc872992d2dce50336a1a8.html',\n",
       "  'processoID': np.int64(736375024)},\n",
       " {'isDanoAmbiental': False,\n",
       "  'justificativa': 'Não há dano ambiental no texto, pois o caso trata de questões administrativas e de direito do consumidor.',\n",
       "  'processoAnexoID': np.int64(2650464324),\n",
       "  'link_referencia': 'http://jud-anexos.digesto.com.br/fdf122349fdec9073c628cfd314fe90e.html',\n",
       "  'processoID': np.int64(757622068)},\n",
       " {'isDanoAmbiental': False,\n",
       "  'justificativa': 'O texto trata de cobrança indevida e danos morais, sem menção a prejuízos ao meio ambiente.',\n",
       "  'processoAnexoID': np.int64(3065494416),\n",
       "  'link_referencia': 'http://jud-anexos.digesto.com.br/0f2d38c2bb59126460be17901b5a05e4.html',\n",
       "  'processoID': np.int64(770144047)},\n",
       " {'isDanoAmbiental': False,\n",
       "  'justificativa': 'Não há dano ambiental, pois o texto trata de rescisão de contrato de compra e venda de imóvel.',\n",
       "  'processoAnexoID': np.int64(1399812046),\n",
       "  'link_referencia': 'http://jud-anexos.digesto.com.br/2cf3a27a1758e5e20803d4402b368ebd.html',\n",
       "  'processoID': np.int64(549648060)},\n",
       " {'isDanoAmbiental': False,\n",
       "  'justificativa': 'Não há dano ambiental, pois o texto trata de inscrição indevida no Sistema de Informação de Crédito, não envolvendo danos ao meio ambiente.',\n",
       "  'processoAnexoID': np.int64(1260265441),\n",
       "  'link_referencia': 'http://jud-anexos.digesto.com.br/03f0ea17d462af0092970c2e13962dbf.html',\n",
       "  'processoID': np.int64(578011621)},\n",
       " {'isDanoAmbiental': False,\n",
       "  'justificativa': 'Não há dano ambiental. O texto trata de uma ação de indenização por danos morais devido à inclusão indevida no SISBACEN/SCR.',\n",
       "  'processoAnexoID': np.int64(1446726212),\n",
       "  'link_referencia': 'http://jud-anexos.digesto.com.br/e8c7d9c59693b9cdf82fab464338387a.html',\n",
       "  'processoID': np.int64(613431385)},\n",
       " {'isDanoAmbiental': False,\n",
       "  'justificativa': 'Não há dano ambiental. O texto trata de ação de indenização por cobrança indevida de IPTU, sem relação com o meio ambiente.',\n",
       "  'processoAnexoID': np.int64(2845637621),\n",
       "  'link_referencia': 'http://jud-anexos.digesto.com.br/f1e5b6f5606c57c13faf42207431d2ef.html',\n",
       "  'processoID': np.int64(767056008)},\n",
       " {'isDanoAmbiental': True,\n",
       "  'justificativa': 'O texto relata colisão de veículo com poste de energia elétrica, caracterizando dano ao patrimônio paisagístico e à infraestrutura urbana.',\n",
       "  'processoAnexoID': np.int64(2846753752),\n",
       "  'link_referencia': 'http://jud-anexos.digesto.com.br/e748a98ec567a8446cf05d6974c9d6d5.html',\n",
       "  'processoID': np.int64(767093657)},\n",
       " {'isDanoAmbiental': False,\n",
       "  'justificativa': 'Não há dano ambiental no texto, pois trata-se de ação declaratória de inexistência de débitos c/c danos morais.',\n",
       "  'processoAnexoID': np.int64(2919847751),\n",
       "  'link_referencia': 'http://jud-anexos.digesto.com.br/787aac910b0ccc1f7883b2df4291b2cd.html',\n",
       "  'processoID': np.int64(769205335)},\n",
       " {'isDanoAmbiental': False,\n",
       "  'justificativa': 'Não há dano ambiental, pois o texto é uma certidão judicial sem informações sobre danos ao meio ambiente.',\n",
       "  'processoAnexoID': np.int64(1403409510),\n",
       "  'link_referencia': 'http://jud-anexos.digesto.com.br/1eba2a18d3f4887800d0b3df170a2301.html',\n",
       "  'processoID': np.int64(595998611)},\n",
       " {'isDanoAmbiental': True,\n",
       "  'justificativa': 'A empresa causou degradação ambiental ao aterrar nascente e intervir em APP, conforme relatório técnico e autos de infração.',\n",
       "  'processoAnexoID': np.int64(1993728599),\n",
       "  'link_referencia': 'http://jud-anexos.digesto.com.br/02597b35d5e8ece30d36627f30550386.html',\n",
       "  'processoID': np.int64(688521486)},\n",
       " {'isDanoAmbiental': True,\n",
       "  'justificativa': 'Houve intervenção em APP com assoreamento do Córrego Canta Galo, causando erosão e prejuízo ao meio ambiente.',\n",
       "  'processoAnexoID': np.int64(2014041727),\n",
       "  'link_referencia': 'http://jud-anexos.digesto.com.br/7d54d2fd28f74c625bb2157b3d507fe6.html',\n",
       "  'processoID': np.int64(689986644)},\n",
       " {'isDanoAmbiental': True,\n",
       "  'justificativa': 'Houve erosão, assoreamento do córrego e intervenção em área de preservação permanente (APP) devido à construção do mineroduto.',\n",
       "  'processoAnexoID': np.int64(2015181666),\n",
       "  'link_referencia': 'http://jud-anexos.digesto.com.br/fab3efa39a57f1d1a8bd1457980931ab.html',\n",
       "  'processoID': np.int64(690015926)},\n",
       " {'isDanoAmbiental': False,\n",
       "  'justificativa': 'Não há dano ambiental, pois o texto se refere a um processo sobre fornecimento de água e inclusão indevida em cadastro.',\n",
       "  'processoAnexoID': np.int64(2643544483),\n",
       "  'link_referencia': 'http://jud-anexos.digesto.com.br/b245bb859068c487a5f72daf3b444ea6.pdf',\n",
       "  'processoID': np.int64(652049379)},\n",
       " {'isDanoAmbiental': True,\n",
       "  'justificativa': 'O texto informa sobre a destruição de 2.158,2727 hectares de floresta nativa na Região Amazônica, sem licença.',\n",
       "  'processoAnexoID': np.int64(1299854584),\n",
       "  'link_referencia': 'http://jud-anexos.digesto.com.br/eabd85570883cfb002cdd7cd4b360502.pdf',\n",
       "  'processoID': np.int64(474475228)},\n",
       " {'isDanoAmbiental': True,\n",
       "  'justificativa': 'Sim, manter madeira em depósito em desacordo com o SISFLORA fomenta o desmatamento ilegal.',\n",
       "  'processoAnexoID': np.int64(2711038751),\n",
       "  'link_referencia': 'http://jud-anexos.digesto.com.br/7a40f6e8360a2ab863c48335ba43f58f.html',\n",
       "  'processoID': np.int64(500808529)},\n",
       " {'isDanoAmbiental': True,\n",
       "  'justificativa': 'Sim, pois há fortes indícios de títulos de propriedade falsos, impactando a regularidade fundiária e a destinação das terras.',\n",
       "  'processoAnexoID': np.int64(370406502),\n",
       "  'link_referencia': 'http://jud-anexos.digesto.com.br/0b30088042a5e4b14b46f0c9114aeee0.html',\n",
       "  'processoID': np.int64(574409945)},\n",
       " {'isDanoAmbiental': False,\n",
       "  'justificativa': 'O texto apenas informa sobre uma ação civil pública, sem mencionar dano ambiental.',\n",
       "  'processoAnexoID': np.int64(2526915429),\n",
       "  'link_referencia': 'http://jud-anexos.digesto.com.br/4aecb6e4be9b62dd61fd3fa94216f1c7.pdf',\n",
       "  'processoID': np.int64(750144353)},\n",
       " {'isDanoAmbiental': False,\n",
       "  'justificativa': 'Não há dano ambiental. O texto trata de descontos indevidos em conta corrente, não mencionando danos ao meio ambiente.',\n",
       "  'processoAnexoID': np.int64(2837008501),\n",
       "  'link_referencia': 'http://jud-anexos.digesto.com.br/482c0356106afbc8fbe19a09dd3a18c8.html',\n",
       "  'processoID': np.int64(579182916)},\n",
       " {'isDanoAmbiental': False,\n",
       "  'justificativa': 'Não há dano ambiental no texto, pois este se refere a uma ação judicial sobre direito do consumidor.',\n",
       "  'processoAnexoID': np.int64(2619739362),\n",
       "  'link_referencia': 'http://jud-anexos.digesto.com.br/b78e3f7661c147479312174922ebd54a.html',\n",
       "  'processoID': np.int64(612713139)},\n",
       " {'isDanoAmbiental': False,\n",
       "  'justificativa': 'Não há dano ambiental no texto, pois trata-se de ação declaratória de nulidade de relação jurídica c/c pedido indenizatório.',\n",
       "  'processoAnexoID': np.int64(2397900352),\n",
       "  'link_referencia': 'http://jud-anexos.digesto.com.br/aa53709a02c99c33027e30faa5cc3c4a.html',\n",
       "  'processoID': np.int64(654675779)},\n",
       " {'isDanoAmbiental': False,\n",
       "  'justificativa': 'Não há dano ambiental. O texto trata de uma ação de indenização por negativação indevida, sem menção a danos ao meio ambiente.',\n",
       "  'processoAnexoID': np.int64(2430867866),\n",
       "  'link_referencia': 'http://jud-anexos.digesto.com.br/c162a3e8ba8102753bf507c27416a779.html',\n",
       "  'processoID': np.int64(740705288)},\n",
       " {'isDanoAmbiental': False,\n",
       "  'justificativa': 'O texto trata de descontos indevidos em benefício previdenciário, sem relação com dano ao meio ambiente.',\n",
       "  'processoAnexoID': np.int64(2810320141),\n",
       "  'link_referencia': 'http://jud-anexos.digesto.com.br/3e913727aa87d253f06d2d841e0ac43d.html',\n",
       "  'processoID': np.int64(766042253)},\n",
       " {'isDanoAmbiental': True,\n",
       "  'justificativa': 'O rompimento da barragem causou danos à fauna, flora, rede fluvial, solo e paisagem, configurando dano ambiental.',\n",
       "  'processoAnexoID': np.int64(1419588918),\n",
       "  'link_referencia': 'http://jud-anexos.digesto.com.br/ef958017381814c5e3e7f0acdee348d8.html',\n",
       "  'processoID': np.int64(424134055)},\n",
       " {'isDanoAmbiental': False,\n",
       "  'justificativa': 'Não há dano ambiental, pois o texto se refere a um processo judicial sem menção a danos ao meio ambiente.',\n",
       "  'processoAnexoID': np.int64(324226429),\n",
       "  'link_referencia': 'http://jud-anexos.digesto.com.br/c536491278daffd551de30a3a89b0077.html',\n",
       "  'processoID': np.int64(542116994)},\n",
       " {'isDanoAmbiental': True,\n",
       "  'justificativa': 'O texto relata desmate de 7 hectares de floresta decidual do Bioma Mata Atlântica sem autorização, configurando dano ambiental.',\n",
       "  'processoAnexoID': np.int64(850145407),\n",
       "  'link_referencia': 'http://jud-anexos.digesto.com.br/d538a5f227eb2f85ed7c500bcc990b84.html',\n",
       "  'processoID': np.int64(583479232)},\n",
       " {'isDanoAmbiental': False,\n",
       "  'justificativa': 'Não há dano ambiental, pois o texto se refere a um processo judicial sem relação aparente com o meio ambiente.',\n",
       "  'processoAnexoID': np.int64(2525527157),\n",
       "  'link_referencia': 'http://jud-anexos.digesto.com.br/c81a352e5496d1bf8997ba7722c96f6d.html',\n",
       "  'processoID': np.int64(616014864)},\n",
       " {'isDanoAmbiental': True,\n",
       "  'justificativa': 'O texto relata supressão de vegetação em APP e construção de barragem que extinguiu curso d’água, configurando dano ambiental.',\n",
       "  'processoAnexoID': np.int64(2467803225),\n",
       "  'link_referencia': 'http://jud-anexos.digesto.com.br/d53473669e32bba5d53f01f1275c456c.html',\n",
       "  'processoID': np.int64(743367312)},\n",
       " {'isDanoAmbiental': True,\n",
       "  'justificativa': 'O texto relata depredação de bem de valor histórico e cultural, com consequente lesão ao meio ambiente cultural.',\n",
       "  'processoAnexoID': np.int64(2686559209),\n",
       "  'link_referencia': 'http://jud-anexos.digesto.com.br/c2838924671d21e2205937f14516cc52.html',\n",
       "  'processoID': np.int64(760637422)},\n",
       " {'isDanoAmbiental': True,\n",
       "  'justificativa': 'Sim, o texto descreve desmatamento de 118,58 hectares de floresta nativa sem autorização, configurando dano ambiental.',\n",
       "  'processoAnexoID': np.int64(1401610798),\n",
       "  'link_referencia': 'http://jud-anexos.digesto.com.br/bb16177ec388ee88c102e0459cd3daf0.pdf',\n",
       "  'processoID': np.int64(474478539)},\n",
       " {'isDanoAmbiental': True,\n",
       "  'justificativa': 'Sim, a inserção de informações falsas no SISFLORA/PA gerou créditos de madeira nativa indevidos, afetando a biota.',\n",
       "  'processoAnexoID': np.int64(1404986003),\n",
       "  'link_referencia': 'http://jud-anexos.digesto.com.br/466086751c0b018d394268a9d4216e02.pdf',\n",
       "  'processoID': np.int64(474480007)},\n",
       " {'isDanoAmbiental': True,\n",
       "  'justificativa': 'Sim, a MADEIREIRA NORDESTINA LTDA inseriu informações falsas no SISFLORA/PA, causando dano ambiental.',\n",
       "  'processoAnexoID': np.int64(1965108171),\n",
       "  'link_referencia': 'http://jud-anexos.digesto.com.br/73fd817299d1c63c88854034bfcc8a4a.pdf',\n",
       "  'processoID': np.int64(474480479)},\n",
       " {'isDanoAmbiental': True,\n",
       "  'justificativa': 'Sim, a inserção de informações falsas no SISFLORA gerou créditos florestais indevidos, afetando a biota da Amazônia.',\n",
       "  'processoAnexoID': np.int64(1470466952),\n",
       "  'link_referencia': 'http://jud-anexos.digesto.com.br/cc45996fbc5147e18ac5b233bb930927.pdf',\n",
       "  'processoID': np.int64(474480716)},\n",
       " {'isDanoAmbiental': True,\n",
       "  'justificativa': 'Houve impedimento da regeneração natural de 8,61 hectares de vegetação nativa, configurando dano ambiental.',\n",
       "  'processoAnexoID': np.int64(2425495190),\n",
       "  'link_referencia': 'http://jud-anexos.digesto.com.br/bb0f8570928008e3328bcb8fe3347ff0.pdf',\n",
       "  'processoID': np.int64(481195795)},\n",
       " {'isDanoAmbiental': True,\n",
       "  'justificativa': 'O texto menciona a venda de chácara em área de preservação ambiental, configurando dano ao meio ambiente.',\n",
       "  'processoAnexoID': np.int64(2277929720),\n",
       "  'link_referencia': 'http://jud-anexos.digesto.com.br/385da7ae2e6c0c651b4d4c0940472edf.html',\n",
       "  'processoID': np.int64(566486271)},\n",
       " {'isDanoAmbiental': False,\n",
       "  'justificativa': 'Não há dano ambiental. O texto trata de uma ação de restituição de valores e indenização por danos morais.',\n",
       "  'processoAnexoID': np.int64(1345738275),\n",
       "  'link_referencia': 'http://jud-anexos.digesto.com.br/53b7e3de858eaa2909080dcd4c5b2ffc.html',\n",
       "  'processoID': np.int64(612897008)},\n",
       " {'isDanoAmbiental': False,\n",
       "  'justificativa': 'Não há dano ambiental, pois o texto trata de um processo de compra e venda de veículo.',\n",
       "  'processoAnexoID': np.int64(1942907438),\n",
       "  'link_referencia': 'http://jud-anexos.digesto.com.br/4920bbc7514401947b53d167eeede610.html',\n",
       "  'processoID': np.int64(684283723)},\n",
       " {'isDanoAmbiental': False,\n",
       "  'justificativa': 'Não há dano ambiental, pois o texto se refere a uma ação de ressarcimento de danos materiais sem menção a dano ambiental.',\n",
       "  'processoAnexoID': np.int64(641710769),\n",
       "  'link_referencia': 'http://jud-anexos.digesto.com.br/f67083d1cd67470cf74924563c181e62.html',\n",
       "  'processoID': np.int64(468645109)},\n",
       " {'isDanoAmbiental': True,\n",
       "  'justificativa': 'A venda de madeira sem guia florestal válida configura dano ambiental, sujeita à reparação, conforme legislação.',\n",
       "  'processoAnexoID': np.int64(1347196424),\n",
       "  'link_referencia': 'http://jud-anexos.digesto.com.br/a3b072000b3601095e081cb7f4f29d7a.pdf',\n",
       "  'processoID': np.int64(474496810)},\n",
       " {'isDanoAmbiental': False,\n",
       "  'justificativa': 'Não há dano ambiental, pois o texto se refere a uma ação judicial de natureza cível.',\n",
       "  'processoAnexoID': np.int64(380210179),\n",
       "  'link_referencia': 'http://jud-anexos.digesto.com.br/542cef14fa601e8e73a2bba292d8918d.pdf',\n",
       "  'processoID': np.int64(543542823)},\n",
       " {'isDanoAmbiental': True,\n",
       "  'justificativa': 'Sim, houve dano ambiental. A empresa adquiriu créditos florestais fictícios para acobertar madeira de origem clandestina, degradando 33,59825 hectares.',\n",
       "  'processoAnexoID': np.int64(1368197794),\n",
       "  'link_referencia': 'http://jud-anexos.digesto.com.br/c4ef928d4c5550778b98802ffa9115ec.pdf',\n",
       "  'processoID': np.int64(573625704)},\n",
       " {'isDanoAmbiental': True,\n",
       "  'justificativa': 'Sim, houve intervenção ambiental irregular em área de preservação permanente, com supressão de vegetação e danos aos recursos hídricos.',\n",
       "  'processoAnexoID': np.int64(590939454),\n",
       "  'link_referencia': 'http://jud-anexos.digesto.com.br/464f73c7fc4d8f0d46dab27b4052c5e8.html',\n",
       "  'processoID': np.int64(612465137)},\n",
       " {'isDanoAmbiental': False,\n",
       "  'justificativa': 'O texto trata de indenização por danos materiais e morais, não mencionando danos ao meio ambiente.',\n",
       "  'processoAnexoID': np.int64(2035348154),\n",
       "  'link_referencia': 'http://jud-anexos.digesto.com.br/e1dda60d3cd0068baf7608d97577f6f8.html',\n",
       "  'processoID': np.int64(691180945)},\n",
       " {'isDanoAmbiental': True,\n",
       "  'justificativa': 'A extração de sal-gema pela Braskem causou risco de desabamento/afundamento no bairro do Pinheiro, dano ao meio ambiente.',\n",
       "  'processoAnexoID': np.int64(2313742587),\n",
       "  'link_referencia': 'http://jud-anexos.digesto.com.br/50f8841326f8a8fe3f0b97ae189e21f2.pdf',\n",
       "  'processoID': np.int64(377239408)},\n",
       " {'isDanoAmbiental': False,\n",
       "  'justificativa': 'Não há dano ambiental, pois o texto se refere a uma ação de indenização por falha na prestação de serviços.',\n",
       "  'processoAnexoID': np.int64(1263344555),\n",
       "  'link_referencia': 'http://jud-anexos.digesto.com.br/43ce932ede7913be7bb8aaf445a6cf86.pdf',\n",
       "  'processoID': np.int64(502555384)},\n",
       " {'isDanoAmbiental': True,\n",
       "  'justificativa': 'Sim, o lixão causou poluição do ar, contaminação do solo e da água, além de morte de animais.',\n",
       "  'processoAnexoID': np.int64(1186043174),\n",
       "  'link_referencia': 'http://jud-anexos.digesto.com.br/ee8d4ccd9502acf493dddad0ff624099.pdf',\n",
       "  'processoID': np.int64(582564055)},\n",
       " {'isDanoAmbiental': False,\n",
       "  'justificativa': 'Não há dano ambiental, pois o texto trata de uma ação de indenização por danos morais, sem relação com o meio ambiente.',\n",
       "  'processoAnexoID': np.int64(445591081),\n",
       "  'link_referencia': 'http://jud-anexos.digesto.com.br/ac533c682460fc6b9238f88428293f5e.html',\n",
       "  'processoID': np.int64(338809296)},\n",
       " {'isDanoAmbiental': False,\n",
       "  'justificativa': 'Não há dano ambiental. O texto trata de cobranças indevidas em serviços de telefonia e internet.',\n",
       "  'processoAnexoID': np.int64(2002955502),\n",
       "  'link_referencia': 'http://jud-anexos.digesto.com.br/b8e8c4a5649c41ff0423d6d783fe9e6e.html',\n",
       "  'processoID': np.int64(528394250)},\n",
       " {'isDanoAmbiental': False,\n",
       "  'justificativa': 'Não há dano ambiental. O texto trata de embargos de declaração sobre vazamento de dados de saúde.',\n",
       "  'processoAnexoID': np.int64(1873600114),\n",
       "  'link_referencia': 'http://jud-anexos.digesto.com.br/59b91ee286ab5e6789bbbd35ecc00e18.html',\n",
       "  'processoID': np.int64(542849345)},\n",
       " {'isDanoAmbiental': False,\n",
       "  'justificativa': 'Não há dano ambiental aparente no texto, que se limita a instruções de acesso ao sistema PJe.',\n",
       "  'processoAnexoID': np.int64(659739004),\n",
       "  'link_referencia': 'http://jud-anexos.digesto.com.br/d22bae16ffd990c5f2778f6a2fdc1c9d.html',\n",
       "  'processoID': np.int64(587650956)},\n",
       " {'isDanoAmbiental': False,\n",
       "  'justificativa': 'O texto trata de rescisão de contrato de compra e venda, sem menção a danos ao meio ambiente.',\n",
       "  'processoAnexoID': np.int64(2003787164),\n",
       "  'link_referencia': 'http://jud-anexos.digesto.com.br/2465d51bbfb11dd100ff2d7d7abbdecd.html',\n",
       "  'processoID': np.int64(478305134)},\n",
       " {'isDanoAmbiental': False,\n",
       "  'justificativa': 'Não há dano ambiental. O texto trata de um mandado de segurança sobre um procedimento cirúrgico negado.',\n",
       "  'processoAnexoID': np.int64(1204852458),\n",
       "  'link_referencia': 'http://jud-anexos.digesto.com.br/be29c15615df1088aa4f8e4abd8e9171.html',\n",
       "  'processoID': np.int64(587596616)},\n",
       " {'isDanoAmbiental': False,\n",
       "  'justificativa': 'Não há dano ambiental, pois o texto trata de rescisão de contrato de compra e venda de imóvel.',\n",
       "  'processoAnexoID': np.int64(2570652919),\n",
       "  'link_referencia': 'http://jud-anexos.digesto.com.br/d6421e9158a620e3a296b16e215dbdb8.html',\n",
       "  'processoID': np.int64(754420853)},\n",
       " {'isDanoAmbiental': True,\n",
       "  'justificativa': 'O texto refere-se à supressão irregular de vegetação da Floresta Amazônica, configurando dano ambiental.',\n",
       "  'processoAnexoID': np.int64(2178216621),\n",
       "  'link_referencia': 'http://jud-anexos.digesto.com.br/413fbebff2bec44a857c5b3f74e93c13.pdf',\n",
       "  'processoID': np.int64(458608920)},\n",
       " {'isDanoAmbiental': False,\n",
       "  'justificativa': 'Não há dano ambiental, pois o texto se refere a falha na prestação de serviço de fornecimento de água.',\n",
       "  'processoAnexoID': np.int64(1369683877),\n",
       "  'link_referencia': 'http://jud-anexos.digesto.com.br/98af04439c32a3f01cab92368b24e9f6.pdf',\n",
       "  'processoID': np.int64(566247288)},\n",
       " {'isDanoAmbiental': False,\n",
       "  'justificativa': 'Não há dano ambiental, pois o texto trata de questões de direito do consumidor, sem menção a prejuízos ao meio ambiente.',\n",
       "  'processoAnexoID': np.int64(1147600221),\n",
       "  'link_referencia': 'http://jud-anexos.digesto.com.br/1a85bcce660ac9edd78b80f0c6c4f385.pdf',\n",
       "  'processoID': np.int64(596829736)},\n",
       " {'isDanoAmbiental': False,\n",
       "  'justificativa': 'Não há dano ambiental, pois o dano é material à barraca e não ao meio ambiente.',\n",
       "  'processoAnexoID': np.int64(1676545022),\n",
       "  'link_referencia': 'http://jud-anexos.digesto.com.br/d4307d87fd4967ab91d1553bddc6315e.pdf',\n",
       "  'processoID': np.int64(619399554)},\n",
       " {'isDanoAmbiental': False,\n",
       "  'justificativa': 'Não há dano ambiental, pois o texto se refere a um procedimento do Juizado Especial Cível.',\n",
       "  'processoAnexoID': np.int64(1449877425),\n",
       "  'link_referencia': 'http://jud-anexos.digesto.com.br/50632273a0ca7e919478ecf9b4967371.pdf',\n",
       "  'processoID': np.int64(572649627)},\n",
       " {'isDanoAmbiental': True,\n",
       "  'justificativa': 'A supressão do carregador de bateria não internaliza custos ambientais, transferindo a responsabilidade da poluição para o consumidor.',\n",
       "  'processoAnexoID': np.int64(1517807400),\n",
       "  'link_referencia': 'http://jud-anexos.digesto.com.br/ec06640f48df305bd720a3462f3e422d.pdf',\n",
       "  'processoID': np.int64(591696496)},\n",
       " {'isDanoAmbiental': False,\n",
       "  'justificativa': 'Não há dano ambiental, pois o texto se refere a um processo sobre vendas casadas e indenização por dano moral.',\n",
       "  'processoAnexoID': np.int64(1515588856),\n",
       "  'link_referencia': 'http://jud-anexos.digesto.com.br/6ad25c800f4bc36e5d622cf7b3cd6b9f.pdf',\n",
       "  'processoID': np.int64(592569293)},\n",
       " {'isDanoAmbiental': False,\n",
       "  'justificativa': 'Não há dano ambiental, pois o texto se refere a um acidente de trânsito e suas consequências para os envolvidos.',\n",
       "  'processoAnexoID': np.int64(2635090005),\n",
       "  'link_referencia': 'http://jud-anexos.digesto.com.br/db945258b703695237d684917ef9df82.pdf',\n",
       "  'processoID': np.int64(495461576)},\n",
       " {'isDanoAmbiental': True,\n",
       "  'justificativa': 'Sim, houve movimentação de terra e cavas sem recuperação da flora, além de erosões em direção às nascentes.',\n",
       "  'processoAnexoID': np.int64(1980171525),\n",
       "  'link_referencia': 'http://jud-anexos.digesto.com.br/b67f279f0e5ad8f369817a33db0ae4d5.html',\n",
       "  'processoID': np.int64(687490579)},\n",
       " {'isDanoAmbiental': True,\n",
       "  'justificativa': 'O texto menciona autuações devido a irregularidades ambientais em empresas de fundição, indicando dano ambiental.',\n",
       "  'processoAnexoID': np.int64(2594143692),\n",
       "  'link_referencia': 'http://jud-anexos.digesto.com.br/b6f974be79028fffcb09365724838968.pdf',\n",
       "  'processoID': np.int64(690025576)},\n",
       " {'isDanoAmbiental': True,\n",
       "  'justificativa': 'Sim, houve lançamento de efluentes em desacordo com os padrões normativos, causando dano ambiental, conforme auto de infração.',\n",
       "  'processoAnexoID': np.int64(2247286075),\n",
       "  'link_referencia': 'http://jud-anexos.digesto.com.br/ad976e187beb75a00056c1c798c5e05c.html',\n",
       "  'processoID': np.int64(725696269)},\n",
       " {'isDanoAmbiental': True,\n",
       "  'justificativa': 'O texto indica desmatamento de 2,62 hectares para cada carga de carvão, configurando dano à flora e ao bioma.',\n",
       "  'processoAnexoID': np.int64(2407761913),\n",
       "  'link_referencia': 'http://jud-anexos.digesto.com.br/e7a084af642050575078635fd07a8207.html',\n",
       "  'processoID': np.int64(739843495)},\n",
       " {'isDanoAmbiental': True,\n",
       "  'justificativa': 'Sim, o texto demonstra a supressão de vegetação nativa em APP e movimentação de terra em loteamento irregular.',\n",
       "  'processoAnexoID': np.int64(2467063551),\n",
       "  'link_referencia': 'http://jud-anexos.digesto.com.br/b4aa31f9b5ad3d2e7d87f1d44e2c22c6.html',\n",
       "  'processoID': np.int64(743282827)},\n",
       " {'isDanoAmbiental': False,\n",
       "  'justificativa': 'Não há dano ambiental. O texto trata de problemas no fornecimento de energia elétrica, sem menção a danos ao meio ambiente.',\n",
       "  'processoAnexoID': np.int64(2496355003),\n",
       "  'link_referencia': 'http://jud-anexos.digesto.com.br/db48a69c39c3d1750e471034af20807d.html',\n",
       "  'processoID': np.int64(573395462)},\n",
       " {'isDanoAmbiental': True,\n",
       "  'justificativa': 'O rompimento de cabo de energia causou curto-circuito e incêndio, queimando 33,40 hectares de pastagem, dano ao meio ambiente.',\n",
       "  'processoAnexoID': np.int64(440962040),\n",
       "  'link_referencia': 'http://jud-anexos.digesto.com.br/f4db43bfa83c11e044e88e74b31f64c8.html',\n",
       "  'processoID': np.int64(585020990)},\n",
       " {'isDanoAmbiental': True,\n",
       "  'justificativa': 'O texto menciona lançamento de resíduos líquidos e substâncias oleosas em desacordo com a lei, causando poluição.',\n",
       "  'processoAnexoID': np.int64(2374549787),\n",
       "  'link_referencia': 'http://jud-anexos.digesto.com.br/007e2b540150a8a72dffb18e31979031.pdf',\n",
       "  'processoID': np.int64(604372792)},\n",
       " {'isDanoAmbiental': True,\n",
       "  'justificativa': 'A queda da ponte causou obstrução do leito do rio, assoreamento e prejuízo à reprodução de peixes, configurando dano ambiental.',\n",
       "  'processoAnexoID': np.int64(955796930),\n",
       "  'link_referencia': 'http://jud-anexos.digesto.com.br/253e356c5b91632c3b73619a56f1767f.pdf',\n",
       "  'processoID': np.int64(628707969)},\n",
       " {'isDanoAmbiental': True,\n",
       "  'justificativa': 'Sim, pois há processos erosivos que contribuem para o assoreamento do rio, além de morte da mata ciliar.',\n",
       "  'processoAnexoID': np.int64(2389735128),\n",
       "  'link_referencia': 'http://jud-anexos.digesto.com.br/c1d25a940c174134e395b6b94dd1950d.pdf',\n",
       "  'processoID': np.int64(739149564)},\n",
       " {'isDanoAmbiental': False,\n",
       "  'justificativa': 'Não há dano ambiental, pois o texto trata de um processo judicial sem menção a danos ao meio ambiente.',\n",
       "  'processoAnexoID': np.int64(1969598704),\n",
       "  'link_referencia': 'http://jud-anexos.digesto.com.br/b5d68ab6d4a664a0bf59cc226ab09749.html',\n",
       "  'processoID': np.int64(686662087)},\n",
       " {'isDanoAmbiental': False,\n",
       "  'justificativa': 'Não há dano ambiental. O texto trata de descontos indevidos em benefício previdenciário e dano moral.',\n",
       "  'processoAnexoID': np.int64(1932318096),\n",
       "  'link_referencia': 'http://jud-anexos.digesto.com.br/d292a628c22d1b32408ab79a90ed010d.html',\n",
       "  'processoID': np.int64(574319527)},\n",
       " {'isDanoAmbiental': False,\n",
       "  'justificativa': 'Não há dano ambiental. O texto trata de uma ação de reparação por danos materiais e morais devido a atraso de voo.',\n",
       "  'processoAnexoID': np.int64(1400374780),\n",
       "  'link_referencia': 'http://jud-anexos.digesto.com.br/84ad675b496f4358a11b4c46a85f947e.html',\n",
       "  'processoID': np.int64(655139917)},\n",
       " {'isDanoAmbiental': False,\n",
       "  'justificativa': 'Não há dano ambiental. O texto trata de uma ação de indenização por danos materiais e morais devido a um atraso de voo.',\n",
       "  'processoAnexoID': np.int64(1959864927),\n",
       "  'link_referencia': 'http://jud-anexos.digesto.com.br/36b87731e8588b9710a4b71f764682b7.html',\n",
       "  'processoID': np.int64(674778857)},\n",
       " {'isDanoAmbiental': False,\n",
       "  'justificativa': 'Não há dano ambiental. O texto trata de uma ação declaratória de inexistência de débito e indenização por danos morais.',\n",
       "  'processoAnexoID': np.int64(2932829205),\n",
       "  'link_referencia': 'http://jud-anexos.digesto.com.br/bb05fbed2d68e63768214d81c73ce946.html',\n",
       "  'processoID': np.int64(769589806)},\n",
       " {'isDanoAmbiental': True,\n",
       "  'justificativa': 'O texto descreve aplicação inadequada de agrotóxicos, contaminando plantações vizinhas e causando prejuízos aos moradores da região.',\n",
       "  'processoAnexoID': np.int64(649034795),\n",
       "  'link_referencia': 'http://jud-anexos.digesto.com.br/b0239a024ea97a4776993220c67faced.pdf',\n",
       "  'processoID': np.int64(457057978)},\n",
       " {'isDanoAmbiental': False,\n",
       "  'justificativa': 'Não há dano ambiental. O texto trata de um processo sobre consórcio e não menciona danos ao meio ambiente.',\n",
       "  'processoAnexoID': np.int64(2205344849),\n",
       "  'link_referencia': 'http://jud-anexos.digesto.com.br/d6d6c3d07b36e339a715713cd2a9f5e5.pdf',\n",
       "  'processoID': np.int64(565139130)},\n",
       " {'isDanoAmbiental': True,\n",
       "  'justificativa': 'O texto menciona a existência de uma mina d’água em área de preservação permanente, impedindo a construção no local.',\n",
       "  'processoAnexoID': np.int64(631976017),\n",
       "  'link_referencia': 'http://jud-anexos.digesto.com.br/51bb3bd00d9fb701967f9d974589ee9c.pdf',\n",
       "  'processoID': np.int64(582962488)},\n",
       " {'isDanoAmbiental': True,\n",
       "  'justificativa': 'A empresa foi multada e condenada por lançar resíduos em desacordo com a lei, causando dano ambiental.',\n",
       "  'processoAnexoID': np.int64(1249837920),\n",
       "  'link_referencia': 'http://jud-anexos.digesto.com.br/23e081a037c71eaef0985594bbf382b5.pdf',\n",
       "  'processoID': np.int64(619459347)},\n",
       " {'isDanoAmbiental': False,\n",
       "  'justificativa': 'Não há dano ambiental, pois o texto trata de ação de indenização por problemas com voo.',\n",
       "  'processoAnexoID': np.int64(1053868743),\n",
       "  'link_referencia': 'http://jud-anexos.digesto.com.br/358ab5ff1d111711372796c49fb56929.pdf',\n",
       "  'processoID': np.int64(639617959)},\n",
       " {'isDanoAmbiental': True,\n",
       "  'justificativa': 'Sim, a manutenção ilegal em cativeiro e comercialização de aves silvestres configura dano ambiental, conforme o texto.',\n",
       "  'processoAnexoID': np.int64(2428672605),\n",
       "  'link_referencia': 'http://jud-anexos.digesto.com.br/225962d7d1434057c48cfe1e5124b9fe.pdf',\n",
       "  'processoID': np.int64(740609736)},\n",
       " {'isDanoAmbiental': False,\n",
       "  'justificativa': 'Não há dano ambiental, pois o texto trata de erro médico e indenização por danos morais, sem menção a prejuízos ao meio ambiente.',\n",
       "  'processoAnexoID': np.int64(1397328380),\n",
       "  'link_referencia': 'http://jud-anexos.digesto.com.br/fe31eb8b2b0ad867a6669c0a9226e51a.pdf',\n",
       "  'processoID': np.int64(458119369)},\n",
       " {'isDanoAmbiental': False,\n",
       "  'justificativa': 'Não há referência a dano ambiental no texto fornecido.',\n",
       "  'processoAnexoID': np.int64(2447098711),\n",
       "  'link_referencia': 'http://jud-anexos.digesto.com.br/ae3153b4e67c8424c8f84dd5f0c6905e.pdf',\n",
       "  'processoID': np.int64(509297301)},\n",
       " {'isDanoAmbiental': False,\n",
       "  'justificativa': 'O texto se refere a um processo sobre inversão do ônus da prova, sem menção a danos ambientais.',\n",
       "  'processoAnexoID': np.int64(1124177887),\n",
       "  'link_referencia': 'http://jud-anexos.digesto.com.br/c466c60c12c8695b860c774071015352.pdf',\n",
       "  'processoID': np.int64(551515472)},\n",
       " {'isDanoAmbiental': False,\n",
       "  'justificativa': 'Não há dano ambiental, pois o texto trata de um acidente de trânsito e indenizações decorrentes, sem menção a danos ao meio ambiente.',\n",
       "  'processoAnexoID': np.int64(823952190),\n",
       "  'link_referencia': 'http://jud-anexos.digesto.com.br/26881543f32c891c045ba0cd6786a952.pdf',\n",
       "  'processoID': np.int64(577855074)},\n",
       " {'isDanoAmbiental': True,\n",
       "  'justificativa': 'Houve supressão de floresta nativa para a passagem dos cabos de energia, causando danos ambientais na área de servidão.',\n",
       "  'processoAnexoID': np.int64(1088560433),\n",
       "  'link_referencia': 'http://jud-anexos.digesto.com.br/e1d2d8461e91b4e7926b9fac09f65173.pdf',\n",
       "  'processoID': np.int64(641242805)},\n",
       " {'isDanoAmbiental': False,\n",
       "  'justificativa': 'Não há dano ambiental, pois o texto se refere a uma homologação de acordo.',\n",
       "  'processoAnexoID': np.int64(277387782),\n",
       "  'link_referencia': 'http://jud-anexos.digesto.com.br/fdffac80bfd8b15f646ff3bdd5d35e25.html',\n",
       "  'processoID': np.int64(474474529)},\n",
       " {'isDanoAmbiental': True,\n",
       "  'justificativa': 'O texto informa que houve desmatamento ilegal na área incorporada pela Fazenda São Judas, configurando dano ambiental.',\n",
       "  'processoAnexoID': np.int64(113630275),\n",
       "  'link_referencia': 'http://jud-anexos.digesto.com.br/6a3043df0bf815aa7e0435f30440cb90.html',\n",
       "  'processoID': np.int64(474475878)},\n",
       " {'isDanoAmbiental': True,\n",
       "  'justificativa': 'Houve supressão de 84,7464 hectares de vegetação nativa em área de reserva legal, sem autorização dos órgãos ambientais.',\n",
       "  'processoAnexoID': np.int64(263641804),\n",
       "  'link_referencia': 'http://jud-anexos.digesto.com.br/1629910174602fcf348b92705bab5d70.html',\n",
       "  'processoID': np.int64(501759273)},\n",
       " {'isDanoAmbiental': False,\n",
       "  'justificativa': 'Não há dano ambiental. O texto trata de um cumprimento de sentença judicial entre Gilberto e o Banco do Brasil.',\n",
       "  'processoAnexoID': np.int64(38920831),\n",
       "  'link_referencia': 'http://jud-anexos.digesto.com.br/1e86208f089453e777a4d6921caaa6c9.pdf',\n",
       "  'processoID': np.int64(350506587)},\n",
       " {'isDanoAmbiental': False,\n",
       "  'justificativa': 'O texto não descreve prejuízo ao meio ambiente, mas sim um erro administrativo com implicações financeiras para o autor.',\n",
       "  'processoAnexoID': np.int64(1685545225),\n",
       "  'link_referencia': 'http://jud-anexos.digesto.com.br/d29792f44228ea8dbea5d4c4588773df.pdf',\n",
       "  'processoID': np.int64(591471823)},\n",
       " {'isDanoAmbiental': False,\n",
       "  'justificativa': 'O texto trata de um acidente de trânsito e não especifica danos ao meio ambiente, como poluição ou destruição de recursos naturais.',\n",
       "  'processoAnexoID': np.int64(616896691),\n",
       "  'link_referencia': 'http://jud-anexos.digesto.com.br/f6dce6791e83c76c651aa59280fbbe48.pdf',\n",
       "  'processoID': np.int64(613707171)},\n",
       " {'isDanoAmbiental': False,\n",
       "  'justificativa': 'Não há dano ambiental, pois o texto trata de uma ação rescisória e restituição de valores por perdas financeiras.',\n",
       "  'processoAnexoID': np.int64(2436826222),\n",
       "  'link_referencia': 'http://jud-anexos.digesto.com.br/efac2275fcb4b5768fbdfb95600ff469.pdf',\n",
       "  'processoID': np.int64(653967743)},\n",
       " {'isDanoAmbiental': True,\n",
       "  'justificativa': 'O texto demonstra alteração ambiental com a implantação de represa em área úmida, necessitando de readequação e licenciamento.',\n",
       "  'processoAnexoID': np.int64(2461927065),\n",
       "  'link_referencia': 'http://jud-anexos.digesto.com.br/b40d332969a6a6e3da1565f692a3b97f.pdf',\n",
       "  'processoID': np.int64(742754132)},\n",
       " {'isDanoAmbiental': True,\n",
       "  'justificativa': 'Construção de residências em área de preservação permanente da Mata Atlântica, com supressão de vegetação nativa.',\n",
       "  'processoAnexoID': np.int64(2332883980),\n",
       "  'link_referencia': 'http://jud-anexos.digesto.com.br/918ce610fb88deabff8e3128d4f3fc8f.html',\n",
       "  'processoID': np.int64(575457554)},\n",
       " {'isDanoAmbiental': True,\n",
       "  'justificativa': 'Houve erosão do solo e contaminação do rio, causados pela falta de manutenção das galerias de águas pluviais.',\n",
       "  'processoAnexoID': np.int64(374400641),\n",
       "  'link_referencia': 'http://jud-anexos.digesto.com.br/78e0a7e8929f29ad7144c6dc87cded64.pdf',\n",
       "  'processoID': np.int64(566607490)},\n",
       " {'isDanoAmbiental': True,\n",
       "  'justificativa': 'Sim, houve desmatamento, terraplanagem e canalização de córrego sem alvará, causando enchentes e danos a terceiros.',\n",
       "  'processoAnexoID': np.int64(1384873445),\n",
       "  'link_referencia': 'http://jud-anexos.digesto.com.br/a57439518fb8127b236964cce357313a.pdf',\n",
       "  'processoID': np.int64(629134048)},\n",
       " {'isDanoAmbiental': True,\n",
       "  'justificativa': 'Houve vazamento de esgoto, causando danos estruturais em imóvel devido à saturação do solo, afetando o meio ambiente.',\n",
       "  'processoAnexoID': np.int64(1853205977),\n",
       "  'link_referencia': 'http://jud-anexos.digesto.com.br/f6e75247560187e60f2fe83e2bcdd0c1.pdf',\n",
       "  'processoID': np.int64(677174584)},\n",
       " {'isDanoAmbiental': True,\n",
       "  'justificativa': 'A degradação da mata ciliar e a erosão causada pelas águas pluviais caracterizam dano ambiental, com obrigação de reparação.',\n",
       "  'processoAnexoID': np.int64(2510342044),\n",
       "  'link_referencia': 'http://jud-anexos.digesto.com.br/606c7db79d938c8923775da581953061.pdf',\n",
       "  'processoID': np.int64(750879243)},\n",
       " {'isDanoAmbiental': True,\n",
       "  'justificativa': 'O texto menciona embargo do terreno devido a problemas ambientais, impossibilitando construção, o que configura dano ambiental.',\n",
       "  'processoAnexoID': np.int64(2935865691),\n",
       "  'link_referencia': 'http://jud-anexos.digesto.com.br/0397b843462ae8b9e0f4d1e4496c591b.pdf',\n",
       "  'processoID': np.int64(769926313)},\n",
       " {'isDanoAmbiental': False,\n",
       "  'justificativa': 'Não há dano ambiental, pois o texto trata de extravio de animal de estimação, sem menção a prejuízos ao meio ambiente.',\n",
       "  'processoAnexoID': np.int64(1225028193),\n",
       "  'link_referencia': 'http://jud-anexos.digesto.com.br/8253b946d817f4e5c3dca6ff0755d5bb.pdf',\n",
       "  'processoID': np.int64(483848497)},\n",
       " {'isDanoAmbiental': True,\n",
       "  'justificativa': 'Construção em área de preservação permanente impediu a regeneração da vegetação nativa, causando degradação ambiental.',\n",
       "  'processoAnexoID': np.int64(1354344423),\n",
       "  'link_referencia': 'http://jud-anexos.digesto.com.br/20b9e19663bbeb7994f1f22ab2aac75f.pdf',\n",
       "  'processoID': np.int64(488267136)},\n",
       " {'isDanoAmbiental': True,\n",
       "  'justificativa': 'O texto menciona supressão de vegetação nativa de Mata Atlântica e construção em área de preservação permanente.',\n",
       "  'processoAnexoID': np.int64(2306967129),\n",
       "  'link_referencia': 'http://jud-anexos.digesto.com.br/756f20f73698f48c5f2678b11cb1eeee.pdf',\n",
       "  'processoID': np.int64(555074680)},\n",
       " {'isDanoAmbiental': False,\n",
       "  'justificativa': 'Não há dano ambiental, pois o texto trata de indenização por danos materiais e morais devido a um contrato de aluguel de carro.',\n",
       "  'processoAnexoID': np.int64(2210412862),\n",
       "  'link_referencia': 'http://jud-anexos.digesto.com.br/d6b42793687b028e24f4d4baa0f20484.pdf',\n",
       "  'processoID': np.int64(568417955)},\n",
       " {'isDanoAmbiental': True,\n",
       "  'justificativa': 'A instalação inadequada de depósitos de materiais excedentes causou enchentes e alagamentos recorrentes, com sérios prejuízos à população e ao meio ambiente.',\n",
       "  'processoAnexoID': np.int64(950570004),\n",
       "  'link_referencia': 'http://jud-anexos.digesto.com.br/f602ece2885b23a2d261faa954612f31.pdf',\n",
       "  'processoID': np.int64(588494731)},\n",
       " {'isDanoAmbiental': True,\n",
       "  'justificativa': 'A escavação do leito do rio causou a liberação de gases tóxicos, contaminando a água e causando a morte de peixes.',\n",
       "  'processoAnexoID': np.int64(657568057),\n",
       "  'link_referencia': 'http://jud-anexos.digesto.com.br/4f696a2b03b85fcc919fa1bd11e03ad4.pdf',\n",
       "  'processoID': np.int64(326186644)},\n",
       " {'isDanoAmbiental': True,\n",
       "  'justificativa': 'Sim, houve desmatamento e construção em área de floresta ombrófila densa, causando degradação ambiental, conforme o texto.',\n",
       "  'processoAnexoID': np.int64(2707272825),\n",
       "  'link_referencia': 'http://jud-anexos.digesto.com.br/da57e9dcc7947457a02763e76c400693.pdf',\n",
       "  'processoID': np.int64(337185573)},\n",
       " {'isDanoAmbiental': True,\n",
       "  'justificativa': \"Houve poluição de cursos d'água por extravasamento de esgoto sanitário, afetando a fauna marinha e tornando a região imprópria para banho.\",\n",
       "  'processoAnexoID': np.int64(1247618889),\n",
       "  'link_referencia': 'http://jud-anexos.digesto.com.br/6006daf474fb687c6f72f2d3eff475e1.pdf',\n",
       "  'processoID': np.int64(470750585)},\n",
       " {'isDanoAmbiental': True,\n",
       "  'justificativa': 'Sim, houve destruição de vegetação nativa em área de preservação permanente, sem autorização dos órgãos ambientais competentes.',\n",
       "  'processoAnexoID': np.int64(617098361),\n",
       "  'link_referencia': 'http://jud-anexos.digesto.com.br/9dfc361ae0bd01f226b5ee183cbdc006.pdf',\n",
       "  'processoID': np.int64(489031567)},\n",
       " {'isDanoAmbiental': True,\n",
       "  'justificativa': 'A prática da empresa obriga a compra de milhares de carregadores novos, aumentando os impactos climáticos e gerando mais lucro.',\n",
       "  'processoAnexoID': np.int64(324201926),\n",
       "  'link_referencia': 'http://jud-anexos.digesto.com.br/9369009ec75dbf5af1f7a8dad32eadcb.pdf',\n",
       "  'processoID': np.int64(513252771)},\n",
       " {'isDanoAmbiental': True,\n",
       "  'justificativa': 'Omissão do município permite desmatamentos em área de mata atlântica e construções irregulares em áreas de risco de inundações.',\n",
       "  'processoAnexoID': np.int64(854024561),\n",
       "  'link_referencia': 'http://jud-anexos.digesto.com.br/a90f3642c268bdf1c89bd998366bad1e.pdf',\n",
       "  'processoID': np.int64(543295689)},\n",
       " {'isDanoAmbiental': False,\n",
       "  'justificativa': 'Não há dano ambiental, pois o texto trata de ação indenizatória referente a atraso na entrega de imóvel.',\n",
       "  'processoAnexoID': np.int64(1149956230),\n",
       "  'link_referencia': 'http://jud-anexos.digesto.com.br/0a1c0238f9d09a10e49cf45745a0cd60.pdf',\n",
       "  'processoID': np.int64(614824500)},\n",
       " {'isDanoAmbiental': True,\n",
       "  'justificativa': 'Sim, a contaminação por vermífugo adulterado causou a morte de vários filhotes, configurando dano à fauna.',\n",
       "  'processoAnexoID': np.int64(1353334462),\n",
       "  'link_referencia': 'http://jud-anexos.digesto.com.br/76754de63b532d7a1322ddc783dfcdf0.pdf',\n",
       "  'processoID': np.int64(652549310)},\n",
       " {'isDanoAmbiental': False,\n",
       "  'justificativa': 'Não há dano ambiental no texto, pois ele trata de uma ação judicial sobre cobertura de plano de saúde.',\n",
       "  'processoAnexoID': np.int64(1923392519),\n",
       "  'link_referencia': 'http://jud-anexos.digesto.com.br/569fa73471de9d038491b184fa1499da.pdf',\n",
       "  'processoID': np.int64(682881644)},\n",
       " {'isDanoAmbiental': False,\n",
       "  'justificativa': 'Não há dano ambiental, pois o texto trata de agressão verbal e física, não de prejuízo ao meio ambiente.',\n",
       "  'processoAnexoID': np.int64(2075508189),\n",
       "  'link_referencia': 'http://jud-anexos.digesto.com.br/20a7431e74b8f6bccea6a17a03eac0ef.pdf',\n",
       "  'processoID': np.int64(693253414)},\n",
       " {'isDanoAmbiental': False,\n",
       "  'justificativa': 'Não há dano ambiental, pois o texto trata de uma disputa sobre um plano de saúde.',\n",
       "  'processoAnexoID': np.int64(2386613984),\n",
       "  'link_referencia': 'http://jud-anexos.digesto.com.br/e7afe2da7882ff4fd1947dfb0a430225.pdf',\n",
       "  'processoID': np.int64(351311102)},\n",
       " {'isDanoAmbiental': False,\n",
       "  'justificativa': 'Não há dano ambiental. O texto trata de questões contratuais e de prestação de serviços, sem menção a danos ao meio ambiente.',\n",
       "  'processoAnexoID': np.int64(681474817),\n",
       "  'link_referencia': 'http://jud-anexos.digesto.com.br/4641269f43803d27f00d5160585f4e6f.pdf',\n",
       "  'processoID': np.int64(403464057)},\n",
       " {'isDanoAmbiental': False,\n",
       "  'justificativa': 'Não há dano ambiental, pois o texto trata de cobranças indevidas e dano moral, sem relação com o meio ambiente.',\n",
       "  'processoAnexoID': np.int64(692394498),\n",
       "  'link_referencia': 'http://jud-anexos.digesto.com.br/6f3ed4a7da560650e4718304e24b3974.pdf',\n",
       "  'processoID': np.int64(419285032)},\n",
       " {'isDanoAmbiental': True,\n",
       "  'justificativa': 'Sim, houve supressão de vegetação, assoreamento de córregos e nascentes, diminuição dos habitats de fauna e danos à paisagem.',\n",
       "  'processoAnexoID': np.int64(116536318),\n",
       "  'link_referencia': 'http://jud-anexos.digesto.com.br/a036ae039c24b84949a6402d160caa69.pdf',\n",
       "  'processoID': np.int64(488722568)},\n",
       " {'isDanoAmbiental': False,\n",
       "  'justificativa': 'O texto trata de uma ação judicial sobre contratos financeiros, sem menção a danos ao meio ambiente.',\n",
       "  'processoAnexoID': np.int64(500767111),\n",
       "  'link_referencia': 'http://jud-anexos.digesto.com.br/7c08ee8afc968d1a95fff203abf6ac27.pdf',\n",
       "  'processoID': np.int64(595090602)},\n",
       " {'isDanoAmbiental': True,\n",
       "  'justificativa': 'Sim, houve desmatamento desordenado e criação de gado em área de reserva extrativista, impactando o meio ambiente.',\n",
       "  'processoAnexoID': np.int64(1317806107),\n",
       "  'link_referencia': 'http://jud-anexos.digesto.com.br/8608a63b4b18e4c8661ad3f940a8dd06.pdf',\n",
       "  'processoID': np.int64(626678210)},\n",
       " {'isDanoAmbiental': True,\n",
       "  'justificativa': 'O texto indica desmatamento desordenado de grande área de vegetação em área de Reserva Extrativista, configurando dano ambiental.',\n",
       "  'processoAnexoID': np.int64(1306456162),\n",
       "  'link_referencia': 'http://jud-anexos.digesto.com.br/990b5e04f51f93499d9e5e6f68959963.pdf',\n",
       "  'processoID': np.int64(650467080)},\n",
       " {'isDanoAmbiental': False,\n",
       "  'justificativa': 'Não há dano ambiental, pois o texto trata de uma disputa contratual relacionada a um plano de saúde.',\n",
       "  'processoAnexoID': np.int64(1170806201),\n",
       "  'link_referencia': 'http://jud-anexos.digesto.com.br/e2b845bb26f04e4a73875c1593b64a51.pdf',\n",
       "  'processoID': np.int64(408023966)},\n",
       " {'isDanoAmbiental': True,\n",
       "  'justificativa': 'O terreno encontra-se em área de proteção ambiental, o que caracteriza dano ao meio ambiente.',\n",
       "  'processoAnexoID': np.int64(1280788716),\n",
       "  'link_referencia': 'http://jud-anexos.digesto.com.br/c3d0e5109b664160a76a255a5b0e23e3.pdf',\n",
       "  'processoID': np.int64(612546932)},\n",
       " {'isDanoAmbiental': False,\n",
       "  'justificativa': 'Não há dano ambiental. O texto trata de uma ação de indenização por dano moral devido a agressão física.',\n",
       "  'processoAnexoID': np.int64(2864675715),\n",
       "  'link_referencia': 'http://jud-anexos.digesto.com.br/46924d57688a75d0fcec3cb2e85bb4aa.pdf',\n",
       "  'processoID': np.int64(767700886)},\n",
       " {'isDanoAmbiental': False,\n",
       "  'justificativa': 'Não há menção de prejuízo ao meio ambiente no texto fornecido.',\n",
       "  'processoAnexoID': np.int64(1919348391),\n",
       "  'link_referencia': 'http://jud-anexos.digesto.com.br/f1524592401e6b27cda87089ecf3de14.pdf',\n",
       "  'processoID': np.int64(614831999)},\n",
       " {'isDanoAmbiental': False,\n",
       "  'justificativa': 'Não há dano ambiental. O texto trata de uma ação judicial sobre compra e venda de criptomoedas.',\n",
       "  'processoAnexoID': np.int64(800568613),\n",
       "  'link_referencia': 'http://jud-anexos.digesto.com.br/714958f05a7b734096f7f4df3aeb3437.pdf',\n",
       "  'processoID': np.int64(625415144)},\n",
       " {'isDanoAmbiental': False,\n",
       "  'justificativa': 'Não há dano ambiental. O texto trata de ação de restituição de valor c/c indenização por dano moral decorrente de fraude bancária.',\n",
       "  'processoAnexoID': np.int64(812659921),\n",
       "  'link_referencia': 'http://jud-anexos.digesto.com.br/96f5d5479af6ae74a82fda8a616421c1.pdf',\n",
       "  'processoID': np.int64(626108650)},\n",
       " {'isDanoAmbiental': True,\n",
       "  'justificativa': 'O funcionário aplicava herbicidas sem proteção, colocando sua saúde em risco. Isso afeta a saúde humana, que é parte do meio ambiente.',\n",
       "  'processoAnexoID': np.int64(1148584278),\n",
       "  'link_referencia': 'http://jud-anexos.digesto.com.br/f4e7744f1ff466f9dc4b5dd3e2a19ec8.pdf',\n",
       "  'processoID': np.int64(643651575)},\n",
       " {'isDanoAmbiental': True,\n",
       "  'justificativa': 'A emissão de atividade sonora sem autorização ambiental é dano ao meio ambiente, conforme exposto no texto.',\n",
       "  'processoAnexoID': np.int64(2124556674),\n",
       "  'link_referencia': 'http://jud-anexos.digesto.com.br/7293071fe37ba77d19e67cf4fddc6f17.pdf',\n",
       "  'processoID': np.int64(701233073)},\n",
       " {'isDanoAmbiental': False,\n",
       "  'justificativa': 'Não há dano ambiental, pois o texto se refere a multa por descumprimento do Código de Defesa do Consumidor.',\n",
       "  'processoAnexoID': np.int64(2722162734),\n",
       "  'link_referencia': 'http://jud-anexos.digesto.com.br/05f7ea3480cba64e425e19976dd40fe8.pdf',\n",
       "  'processoID': np.int64(762427625)},\n",
       " {'isDanoAmbiental': True,\n",
       "  'justificativa': 'A árvore causou rachaduras no calçamento e fissuras no muro, danificando o meio ambiente urbano.',\n",
       "  'processoAnexoID': np.int64(1440432131),\n",
       "  'link_referencia': 'http://jud-anexos.digesto.com.br/70aeaf7e20395d8aa0642ff7d5aada53.pdf',\n",
       "  'processoID': np.int64(477293700)},\n",
       " {'isDanoAmbiental': False,\n",
       "  'justificativa': 'Não há dano ambiental. O texto trata de extravio de mercadorias e questões contratuais, sem menção a prejuízos ao meio ambiente.',\n",
       "  'processoAnexoID': np.int64(635781077),\n",
       "  'link_referencia': 'http://jud-anexos.digesto.com.br/a85dc0619493fbcfe1d4cb1d3a543a47.pdf',\n",
       "  'processoID': np.int64(614817414)},\n",
       " {'isDanoAmbiental': False,\n",
       "  'justificativa': 'Não há dano ambiental. O texto trata de um acidente de trânsito e suas consequências para os envolvidos.',\n",
       "  'processoAnexoID': np.int64(638120941),\n",
       "  'link_referencia': 'http://jud-anexos.digesto.com.br/ceed0280ba8384aa38f16005e21a4a7a.pdf',\n",
       "  'processoID': np.int64(614907972)},\n",
       " {'isDanoAmbiental': False,\n",
       "  'justificativa': 'Não há dano ambiental, pois o texto trata de um acidente de trânsito e suas consequências legais.',\n",
       "  'processoAnexoID': np.int64(746642911),\n",
       "  'link_referencia': 'http://jud-anexos.digesto.com.br/b8db09ceabfe54bef91a64ab36100011.pdf',\n",
       "  'processoID': np.int64(622445035)},\n",
       " {'isDanoAmbiental': False,\n",
       "  'justificativa': 'Não há menção de prejuízo ao meio ambiente no texto fornecido. O texto trata de negligência de um advogado.',\n",
       "  'processoAnexoID': np.int64(787169526),\n",
       "  'link_referencia': 'http://jud-anexos.digesto.com.br/f319402c4d9b7f1bc09a5d5891d9f717.pdf',\n",
       "  'processoID': np.int64(624655152)},\n",
       " {'isDanoAmbiental': True,\n",
       "  'justificativa': 'O texto relata construção em área de preservação permanente, com risco de desabamento, configurando dano ambiental.',\n",
       "  'processoAnexoID': np.int64(1919521793),\n",
       "  'link_referencia': 'http://jud-anexos.digesto.com.br/5208e82aa91f775e966578f21d640a81.pdf',\n",
       "  'processoID': np.int64(682654786)},\n",
       " {'isDanoAmbiental': True,\n",
       "  'justificativa': 'Há menção de danos no imóvel, decorrente de alagamento e infiltração por problemas no telhado, conforme fls. 1787, 1788.',\n",
       "  'processoAnexoID': np.int64(695892930),\n",
       "  'link_referencia': 'http://jud-anexos.digesto.com.br/b090125f6e001545ed6c64c270b4128e.pdf',\n",
       "  'processoID': np.int64(419526883)},\n",
       " {'isDanoAmbiental': False,\n",
       "  'justificativa': 'Não há dano ambiental. O texto trata de interrupção de serviços de telefonia e internet, não mencionando danos ao meio ambiente.',\n",
       "  'processoAnexoID': np.int64(102814495),\n",
       "  'link_referencia': 'http://jud-anexos.digesto.com.br/c439b4be278ace182e79d69d11b012a2.pdf',\n",
       "  'processoID': np.int64(463387524)},\n",
       " {'isDanoAmbiental': True,\n",
       "  'justificativa': 'O texto descreve desmatamento ilegal de 422,58 hectares na Amazônia Legal, configurando dano ambiental.',\n",
       "  'processoAnexoID': np.int64(1374716438),\n",
       "  'link_referencia': 'http://jud-anexos.digesto.com.br/218cc27fba45381e6b369e994f508031.pdf',\n",
       "  'processoID': np.int64(494408691)},\n",
       " {'isDanoAmbiental': True,\n",
       "  'justificativa': 'Houve desmatamento ilegal de 71,9 hectares de floresta primária na Amazônia, configurando dano ambiental.',\n",
       "  'processoAnexoID': np.int64(269258456),\n",
       "  'link_referencia': 'http://jud-anexos.digesto.com.br/e55b90bdcd194e97c68f4c8754c17646.pdf',\n",
       "  'processoID': np.int64(494410810)},\n",
       " {'isDanoAmbiental': False,\n",
       "  'justificativa': 'Não há pedido de ressarcimento de suposto dano ambiental no texto fornecido, apenas de ressarcimento patrimonial.',\n",
       "  'processoAnexoID': np.int64(1874259862),\n",
       "  'link_referencia': 'http://jud-anexos.digesto.com.br/4c97bd2fdb0615140fa5c0b4432da05e.html',\n",
       "  'processoID': np.int64(549928831)},\n",
       " {'isDanoAmbiental': True,\n",
       "  'justificativa': 'Foi constatada extração de calcário sem autorização, o que configura dano ambiental ao solo e ao patrimônio da União.',\n",
       "  'processoAnexoID': np.int64(1787605420),\n",
       "  'link_referencia': 'http://jud-anexos.digesto.com.br/dce333e4d851f163a94f62103aef5f44.pdf',\n",
       "  'processoID': np.int64(549929890)}]"
      ]
     },
     "execution_count": 57,
     "metadata": {},
     "output_type": "execute_result"
    }
   ],
   "source": [
    "respostas = []\n",
    "\n",
    "for id in tqdm.tqdm(ids_processos):\n",
    "    linha = sentencas_final.loc[sentencas_final['processoID'] == id]\n",
    "    texto = ''\n",
    "    linha = linha.iloc[0] # extrai a linha como Series\n",
    "\n",
    "    processoAnexoID = linha['processoAnexoID']\n",
    "    link = linha['Download copia']\n",
    "    response = requests.get(link)\n",
    "    response.encoding = 'utf-8'\n",
    "    content_type = response.headers.get('Content-Type', '')\n",
    "    \n",
    "    if 'pdf' in content_type:\n",
    "        with tempfile.NamedTemporaryFile(delete=False, suffix=\".pdf\") as tmp_file:\n",
    "            tmp_file.write(response.content)\n",
    "            tmp_path = tmp_file.name\n",
    "\n",
    "        with pymupdf.open(tmp_path) as doc:\n",
    "            for page in doc:\n",
    "                texto += page.get_text()\n",
    "    \n",
    "    elif 'html' in content_type:\n",
    "        soup = BeautifulSoup(response.content, 'html.parser')\n",
    "        texto += soup.get_text()\n",
    "\n",
    "    resposta_prompt = verifica_dano_ambiental(texto)\n",
    "    resposta_prompt = json.loads(resposta_prompt.text)\n",
    "    resposta_prompt[\"processoAnexoID\"] = processoAnexoID\n",
    "    resposta_prompt[\"link_referencia\"] = link\n",
    "    resposta_prompt[\"processoID\"] = id\n",
    "    respostas.append(resposta_prompt)\n",
    "\n",
    "respostas"
   ]
  },
  {
   "cell_type": "code",
   "execution_count": 59,
   "id": "cc6dfbdc",
   "metadata": {},
   "outputs": [
    {
     "data": {
      "text/html": [
       "<div>\n",
       "<style scoped>\n",
       "    .dataframe tbody tr th:only-of-type {\n",
       "        vertical-align: middle;\n",
       "    }\n",
       "\n",
       "    .dataframe tbody tr th {\n",
       "        vertical-align: top;\n",
       "    }\n",
       "\n",
       "    .dataframe thead th {\n",
       "        text-align: right;\n",
       "    }\n",
       "</style>\n",
       "<table border=\"1\" class=\"dataframe\">\n",
       "  <thead>\n",
       "    <tr style=\"text-align: right;\">\n",
       "      <th></th>\n",
       "      <th>processoID</th>\n",
       "      <th>processoAnexoID</th>\n",
       "      <th>isDanoAmbiental</th>\n",
       "      <th>justificativa</th>\n",
       "      <th>link_referencia</th>\n",
       "    </tr>\n",
       "  </thead>\n",
       "  <tbody>\n",
       "    <tr>\n",
       "      <th>0</th>\n",
       "      <td>474474022</td>\n",
       "      <td>2344968081</td>\n",
       "      <td>True</td>\n",
       "      <td>A empresa mantinha madeira ilegal em depósito,...</td>\n",
       "      <td>http://jud-anexos.digesto.com.br/0cacd6d80c499...</td>\n",
       "    </tr>\n",
       "    <tr>\n",
       "      <th>1</th>\n",
       "      <td>474474806</td>\n",
       "      <td>2294638461</td>\n",
       "      <td>True</td>\n",
       "      <td>O texto refere-se à destruição de 121,15 hecta...</td>\n",
       "      <td>http://jud-anexos.digesto.com.br/90df1f9ac9917...</td>\n",
       "    </tr>\n",
       "    <tr>\n",
       "      <th>2</th>\n",
       "      <td>575718248</td>\n",
       "      <td>1511375012</td>\n",
       "      <td>False</td>\n",
       "      <td>Não há dano ambiental. O texto trata de uma aç...</td>\n",
       "      <td>http://jud-anexos.digesto.com.br/c89c7a26febcc...</td>\n",
       "    </tr>\n",
       "    <tr>\n",
       "      <th>3</th>\n",
       "      <td>580649179</td>\n",
       "      <td>1504080402</td>\n",
       "      <td>False</td>\n",
       "      <td>Não há dano ambiental, pois o texto trata de i...</td>\n",
       "      <td>http://jud-anexos.digesto.com.br/585fdfebfdd6d...</td>\n",
       "    </tr>\n",
       "    <tr>\n",
       "      <th>4</th>\n",
       "      <td>654928926</td>\n",
       "      <td>2419043700</td>\n",
       "      <td>False</td>\n",
       "      <td>Não há dano ambiental. O texto trata de cobran...</td>\n",
       "      <td>http://jud-anexos.digesto.com.br/6be7e9beac86d...</td>\n",
       "    </tr>\n",
       "  </tbody>\n",
       "</table>\n",
       "</div>"
      ],
      "text/plain": [
       "   processoID  processoAnexoID  isDanoAmbiental  \\\n",
       "0   474474022       2344968081             True   \n",
       "1   474474806       2294638461             True   \n",
       "2   575718248       1511375012            False   \n",
       "3   580649179       1504080402            False   \n",
       "4   654928926       2419043700            False   \n",
       "\n",
       "                                       justificativa  \\\n",
       "0  A empresa mantinha madeira ilegal em depósito,...   \n",
       "1  O texto refere-se à destruição de 121,15 hecta...   \n",
       "2  Não há dano ambiental. O texto trata de uma aç...   \n",
       "3  Não há dano ambiental, pois o texto trata de i...   \n",
       "4  Não há dano ambiental. O texto trata de cobran...   \n",
       "\n",
       "                                     link_referencia  \n",
       "0  http://jud-anexos.digesto.com.br/0cacd6d80c499...  \n",
       "1  http://jud-anexos.digesto.com.br/90df1f9ac9917...  \n",
       "2  http://jud-anexos.digesto.com.br/c89c7a26febcc...  \n",
       "3  http://jud-anexos.digesto.com.br/585fdfebfdd6d...  \n",
       "4  http://jud-anexos.digesto.com.br/6be7e9beac86d...  "
      ]
     },
     "execution_count": 59,
     "metadata": {},
     "output_type": "execute_result"
    }
   ],
   "source": [
    "# Transformando a lista de respostas em um DataFrame\n",
    "respostas_df = pd.DataFrame(respostas)\n",
    "\n",
    "# Reorganizando as colunas\n",
    "respostas_df = respostas_df[[\"processoID\", \"processoAnexoID\", \"isDanoAmbiental\", \"justificativa\", \"link_referencia\"]]\n",
    "\n",
    "respostas_df.head()"
   ]
  },
  {
   "cell_type": "code",
   "execution_count": 2,
   "id": "3f600e70",
   "metadata": {},
   "outputs": [],
   "source": [
    "# Exportando df de classificação de sentenças para um arquivo Excel\n",
    "# respostas_df.to_excel(\"docs/respostas_classificacao_sentencas.xlsx\", index=False)\n",
    "respostas_df = pd.read_excel(\"docs/respostas_classificacao_sentencas.xlsx\")"
   ]
  },
  {
   "cell_type": "code",
   "execution_count": 3,
   "id": "b2d0fa7e",
   "metadata": {},
   "outputs": [],
   "source": [
    "sentencas_danos_ambientais = respostas_df.loc[respostas_df[\"isDanoAmbiental\"] == True]"
   ]
  },
  {
   "cell_type": "code",
   "execution_count": 4,
   "id": "ef446a15",
   "metadata": {},
   "outputs": [
    {
     "name": "stdout",
     "output_type": "stream",
     "text": [
      "Distribuição de processos entre as partes:\n",
      "Parte 1: 21 processos\n",
      "Parte 2: 21 processos\n",
      "Parte 3: 21 processos\n",
      "Parte 4: 22 processos\n",
      "Total de processos: 85\n"
     ]
    }
   ],
   "source": [
    "lista_processos = list(sentencas_danos_ambientais['processoID'].unique())\n",
    "\n",
    "# Dividindo a lista de processos em 4 partes menores iguais\n",
    "def divide_lista_em_partes(lista, num_partes):\n",
    "    if len(lista) % num_partes == 0:\n",
    "        # Dvisão exata\n",
    "        tamanho_parte = len(lista) // num_partes\n",
    "        partes = [lista[i:i + tamanho_parte] for i in range(0, len(lista), tamanho_parte)]\n",
    "    else:\n",
    "        # Coloca o resto na última parte\n",
    "        tamanho_parte = len(lista) // num_partes\n",
    "        partes = []\n",
    "        for i in range(0, num_partes):\n",
    "            if i == num_partes - 1:\n",
    "                partes.append(lista[i * tamanho_parte:])\n",
    "            else:\n",
    "                partes.append(lista[i * tamanho_parte:(i + 1) * tamanho_parte])\n",
    "    return partes\n",
    "\n",
    "partes = divide_lista_em_partes(lista_processos, 4)\n",
    "print(\"Distribuição de processos entre as partes:\")\n",
    "for i, parte in enumerate(partes):\n",
    "    print(f\"Parte {i + 1}: {len(parte)} processos\")\n",
    "print(\"Total de processos:\", len(lista_processos))"
   ]
  },
  {
   "cell_type": "code",
   "execution_count": 5,
   "id": "32a5cbb5",
   "metadata": {},
   "outputs": [],
   "source": [
    "def analisa_sentenca(texto_extraido):\n",
    "    \"\"\"\n",
    "    Função que extrai informações de um texto judicial relacionado a danos ambientais.\n",
    "    O texto deve ser um texto bruto que descreve um processo judicial relacionado a algum dano ambiental.\n",
    "    \"\"\"\n",
    "    \n",
    "    prompt = f\"\"\"\n",
    "        SYSTEM: Você é meu assistente especialista em análise e extração de elementos de textos judiciais. Você irá realizar extrações especificamente sobre\n",
    "        danos socioambientais de diversos tipos, pensando em futuramente usar a tabela gerada para fazer uma modelagem preditiva de multas para danos socioambientais.\n",
    "\n",
    "        INSTRUCTIONS:\n",
    "        Você receberá um texto bruto que descreve um processo judicial relacionado a algum dano ambiental.\n",
    "        Seu objetivo é analisar esse texto e extrair 15 informações específicas para montar um banco de dados, conforme as instruções abaixo.\n",
    "        Definição útil: Dano ambiental é qualquer prejuízo causado ao meio ambiente (água, solo, ar, fauna, flora, patrimônio paisagístico etc.) por ação ou omissão\n",
    "        de um terceiro, sendo gerador de obrigação de reparação, conforme os artigos 186 e 927 do Código Civil.\n",
    "        Retorno esperado:\n",
    "\n",
    "        [0] Número do processo judicial no formato \"0000000-00.0000.0.00.0000\"\n",
    "         Se não houver, retorne: NULL\n",
    "        \n",
    "        [1] Georreferência do local afetado, no formato: XX°xx’xx.xx” S e XX°xx’xx.xx” O\n",
    "         Se não houver, retorne: NULL\n",
    "\n",
    "        [2] Sigla da Unidade Federativa (UF) (ex: \"SP\", \"MG\" etc.)\n",
    "         Se não houver, retorne: NULL\n",
    "\n",
    "        [3] Município ou cidade do local afetado. (ex: \"São Paulo\", \"Minas Gerais\" etc)\n",
    "         Se não houver, retorne: NULL\n",
    "\n",
    "        [4] Nome do responsável pelo dano ambiental (empresa ou pessoa física).\n",
    "         Se não houver, retorne: NULL\n",
    "\n",
    "        [5] Categoria do responsável: \"Pessoa Física\" ou \"Pessoa Jurídica\"\n",
    "         Se não houver, retorne: NULL\n",
    "\n",
    "        [6] Tipo de impacto: Categoria do dano (ex.: \"Desmatamento de APP\", \"Derramamento de Petróleo\", \"Poluição Hídrica\").\n",
    "        Se não houver, retorne: NULL\n",
    "\n",
    "        [7] Descrição do impacto: Resuma o impacto em até 30 palavras.\n",
    "        Se não houver, retorne: NULL\n",
    "\n",
    "        [8] Data do impacto ambiental no formato: DD/MM/AA\n",
    "         Se não houver, retorne: NULL\n",
    "\n",
    "        [9] Extensão da área afetada (ex: \"15000\".)\n",
    "         Se não houver, retorne: NULL\n",
    "        Sempre em metros quadrados (m²) ou hectares (ha), então converta se necessário. Não use separadores para milhares\n",
    "\n",
    "        [10] Unidade de medida da área (ex: \"ha\" ou \"m2\")\n",
    "         Se não houver, retorne: NULL\n",
    "\n",
    "        [11] Houve compensação não monetária atribuída (ou seja, alguma ação de reparação ambiental, como reflorestamento, recuperação de áreas degradadas, etc.)\n",
    "         Se houver, retorne: \"True\"\n",
    "         Se não houver, retorne: \"False\"\n",
    "\n",
    "        [12] Categoria da compensação: \"Multas Administrativas\", \"Compensações Financeiras\", \"Obrigações de Fazer (com custo)\", \"Custas Judiciais e Acordos\" ou \"Valoração Econômica\".\n",
    "         Se não houver, retorne: NULL\n",
    "         Tente não fugir dessas categorias.\n",
    "\n",
    "        [13] Tipo de multa: (0, 1 ou 2)\n",
    "        Se for uma única multa aplicada sobre o responsável, coloque 0\n",
    "        Se for algo como uma multa diária, coloque 1.\n",
    "        Se forem os dois, como uma multa imediata e um pagamento diário, coloque 2\n",
    "\n",
    "        [14] Valor completo da multa/ressarcimento/compensação ou qualquer outro termo similar de condenação monetária pelo dano ambiental para o Tipo 0 ou 2: (ex: \"123000.00\", \"999999.99\")\n",
    "        Caso o item 12 seja 0, complete essa coluna com o valor total da multa aplicada. Inclua eventuais danos morais difusos, coletivos e materiais se houver.\n",
    "        Caso o item 12 seja 1, deixe como NULL\n",
    "        Caso o item 12 seja 2, complete essa coluna com o valor total da multa imediata aplicada.\n",
    "\n",
    "        [15] Valor da multa/ressarcimento/compensação ou qualquer outro termo similar de condenação monetária pelo dano ambiental diária para o Tipo 1 ou 2: (ex: \"123000.00\", \"10000.50\")\n",
    "        Caso o item 12 seja 1 ou 2, complete essa coluna com o valor diário a ser pago pelo responsável. Inclua eventuais danos morais difusos, coletivos e materiais se houver.\n",
    "        Caso o item 12 seja 0, deixe como NULL\n",
    "\n",
    "        IMPORTANTE: A string será usada para um dataframe posteriormente. Logo:\n",
    "        NÃO inclua explicações, formatações extras, aspas ou colchetes na resposta.\n",
    "        NÃO deixe nenhuma casa em branco ou vazia. SEMPRE coloque NULL caso não encontre no texto.\n",
    "        NÃO inclua o texto original, nem explicações, apenas a string limpa.\n",
    "        A ordem dos elementos PRECISA SER RESPEITADA!! NENHUM ELEMENTO PODE VIR ANTES DA SUA POSIÇÃO!!\n",
    "\n",
    "        USER:\n",
    "        Texto para análise:\n",
    "        {texto_extraido}\n",
    "    \"\"\"\n",
    "    \n",
    "    class FormatoResposta2(BaseModel):\n",
    "        numero_processo: str\n",
    "        georreferencia: str\n",
    "        uf: str\n",
    "        municipio: str\n",
    "        responsavel: str\n",
    "        categoria_responsavel: str\n",
    "        tipo_impacto: str\n",
    "        descricao_impacto: str\n",
    "        data_impacto: str\n",
    "        area_afetada: str\n",
    "        unidade_area: str\n",
    "        houve_compensacao: bool\n",
    "        categoria_compensacao: str\n",
    "        tipo_multa: int | str\n",
    "        valor_multa: float | str\n",
    "        valor_multa_diaria: float | str\n",
    "\n",
    "    client = genai.Client(api_key=os.getenv('GEMINI_API_KEY'))\n",
    "    resposta = client.models.generate_content(\n",
    "        model=\"gemini-2.0-flash\",\n",
    "        contents=prompt,\n",
    "        config={\n",
    "            \"response_mime_type\": \"application/json\",\n",
    "            'response_schema': FormatoResposta2,\n",
    "            'temperature': 1.0\n",
    "            # 'max_output_tokens': 500,\n",
    "        }\n",
    "    )\n",
    "    time.sleep(2)\n",
    "    return resposta"
   ]
  },
  {
   "cell_type": "code",
   "execution_count": 6,
   "id": "438b4b2f",
   "metadata": {},
   "outputs": [
    {
     "name": "stderr",
     "output_type": "stream",
     "text": [
      " 31%|███       | 26/85 [02:48<06:21,  6.47s/it]\n"
     ]
    },
    {
     "ename": "KeyboardInterrupt",
     "evalue": "",
     "output_type": "error",
     "traceback": [
      "\u001b[31m---------------------------------------------------------------------------\u001b[39m",
      "\u001b[31mKeyboardInterrupt\u001b[39m                         Traceback (most recent call last)",
      "\u001b[36mCell\u001b[39m\u001b[36m \u001b[39m\u001b[32mIn[6]\u001b[39m\u001b[32m, line 27\u001b[39m\n\u001b[32m     24\u001b[39m     soup = BeautifulSoup(response.content, \u001b[33m'\u001b[39m\u001b[33mhtml.parser\u001b[39m\u001b[33m'\u001b[39m)\n\u001b[32m     25\u001b[39m     texto += soup.get_text()\n\u001b[32m---> \u001b[39m\u001b[32m27\u001b[39m resposta_prompt = \u001b[43manalisa_sentenca\u001b[49m\u001b[43m(\u001b[49m\u001b[43mtexto\u001b[49m\u001b[43m)\u001b[49m\n\u001b[32m     28\u001b[39m resposta_prompt = json.loads(resposta_prompt.text)\n\u001b[32m     29\u001b[39m resposta_prompt[\u001b[33m\"\u001b[39m\u001b[33mprocessoAnexoID\u001b[39m\u001b[33m\"\u001b[39m] = processoAnexoID\n",
      "\u001b[36mCell\u001b[39m\u001b[36m \u001b[39m\u001b[32mIn[5]\u001b[39m\u001b[32m, line 104\u001b[39m, in \u001b[36manalisa_sentenca\u001b[39m\u001b[34m(texto_extraido)\u001b[39m\n\u001b[32m    101\u001b[39m     valor_multa_diaria: \u001b[38;5;28mfloat\u001b[39m | \u001b[38;5;28mstr\u001b[39m\n\u001b[32m    103\u001b[39m client = genai.Client(api_key=os.getenv(\u001b[33m'\u001b[39m\u001b[33mGEMINI_API_KEY\u001b[39m\u001b[33m'\u001b[39m))\n\u001b[32m--> \u001b[39m\u001b[32m104\u001b[39m resposta = \u001b[43mclient\u001b[49m\u001b[43m.\u001b[49m\u001b[43mmodels\u001b[49m\u001b[43m.\u001b[49m\u001b[43mgenerate_content\u001b[49m\u001b[43m(\u001b[49m\n\u001b[32m    105\u001b[39m \u001b[43m    \u001b[49m\u001b[43mmodel\u001b[49m\u001b[43m=\u001b[49m\u001b[33;43m\"\u001b[39;49m\u001b[33;43mgemini-2.0-flash\u001b[39;49m\u001b[33;43m\"\u001b[39;49m\u001b[43m,\u001b[49m\n\u001b[32m    106\u001b[39m \u001b[43m    \u001b[49m\u001b[43mcontents\u001b[49m\u001b[43m=\u001b[49m\u001b[43mprompt\u001b[49m\u001b[43m,\u001b[49m\n\u001b[32m    107\u001b[39m \u001b[43m    \u001b[49m\u001b[43mconfig\u001b[49m\u001b[43m=\u001b[49m\u001b[43m{\u001b[49m\n\u001b[32m    108\u001b[39m \u001b[43m        \u001b[49m\u001b[33;43m\"\u001b[39;49m\u001b[33;43mresponse_mime_type\u001b[39;49m\u001b[33;43m\"\u001b[39;49m\u001b[43m:\u001b[49m\u001b[43m \u001b[49m\u001b[33;43m\"\u001b[39;49m\u001b[33;43mapplication/json\u001b[39;49m\u001b[33;43m\"\u001b[39;49m\u001b[43m,\u001b[49m\n\u001b[32m    109\u001b[39m \u001b[43m        \u001b[49m\u001b[33;43m'\u001b[39;49m\u001b[33;43mresponse_schema\u001b[39;49m\u001b[33;43m'\u001b[39;49m\u001b[43m:\u001b[49m\u001b[43m \u001b[49m\u001b[43mFormatoResposta2\u001b[49m\u001b[43m,\u001b[49m\n\u001b[32m    110\u001b[39m \u001b[43m        \u001b[49m\u001b[33;43m'\u001b[39;49m\u001b[33;43mtemperature\u001b[39;49m\u001b[33;43m'\u001b[39;49m\u001b[43m:\u001b[49m\u001b[43m \u001b[49m\u001b[32;43m1.0\u001b[39;49m\n\u001b[32m    111\u001b[39m \u001b[43m        \u001b[49m\u001b[38;5;66;43;03m# 'max_output_tokens': 500,\u001b[39;49;00m\n\u001b[32m    112\u001b[39m \u001b[43m    \u001b[49m\u001b[43m}\u001b[49m\n\u001b[32m    113\u001b[39m \u001b[43m\u001b[49m\u001b[43m)\u001b[49m\n\u001b[32m    114\u001b[39m time.sleep(\u001b[32m2\u001b[39m)\n\u001b[32m    115\u001b[39m \u001b[38;5;28;01mreturn\u001b[39;00m resposta\n",
      "\u001b[36mFile \u001b[39m\u001b[32mc:\\Users\\ggsna\\AppData\\Local\\Programs\\Python\\Python312\\Lib\\site-packages\\google\\genai\\models.py:5049\u001b[39m, in \u001b[36mModels.generate_content\u001b[39m\u001b[34m(self, model, contents, config)\u001b[39m\n\u001b[32m   5047\u001b[39m \u001b[38;5;28;01mwhile\u001b[39;00m remaining_remote_calls_afc > \u001b[32m0\u001b[39m:\n\u001b[32m   5048\u001b[39m   i += \u001b[32m1\u001b[39m\n\u001b[32m-> \u001b[39m\u001b[32m5049\u001b[39m   response = \u001b[38;5;28;43mself\u001b[39;49m\u001b[43m.\u001b[49m\u001b[43m_generate_content\u001b[49m\u001b[43m(\u001b[49m\n\u001b[32m   5050\u001b[39m \u001b[43m      \u001b[49m\u001b[43mmodel\u001b[49m\u001b[43m=\u001b[49m\u001b[43mmodel\u001b[49m\u001b[43m,\u001b[49m\u001b[43m \u001b[49m\u001b[43mcontents\u001b[49m\u001b[43m=\u001b[49m\u001b[43mcontents\u001b[49m\u001b[43m,\u001b[49m\u001b[43m \u001b[49m\u001b[43mconfig\u001b[49m\u001b[43m=\u001b[49m\u001b[43mconfig\u001b[49m\n\u001b[32m   5051\u001b[39m \u001b[43m  \u001b[49m\u001b[43m)\u001b[49m\n\u001b[32m   5052\u001b[39m   logger.info(\u001b[33mf\u001b[39m\u001b[33m'\u001b[39m\u001b[33mAFC remote call \u001b[39m\u001b[38;5;132;01m{\u001b[39;00mi\u001b[38;5;132;01m}\u001b[39;00m\u001b[33m is done.\u001b[39m\u001b[33m'\u001b[39m)\n\u001b[32m   5053\u001b[39m   remaining_remote_calls_afc -= \u001b[32m1\u001b[39m\n",
      "\u001b[36mFile \u001b[39m\u001b[32mc:\\Users\\ggsna\\AppData\\Local\\Programs\\Python\\Python312\\Lib\\site-packages\\google\\genai\\models.py:4025\u001b[39m, in \u001b[36mModels._generate_content\u001b[39m\u001b[34m(self, model, contents, config)\u001b[39m\n\u001b[32m   4022\u001b[39m request_dict = _common.convert_to_dict(request_dict)\n\u001b[32m   4023\u001b[39m request_dict = _common.encode_unserializable_types(request_dict)\n\u001b[32m-> \u001b[39m\u001b[32m4025\u001b[39m response_dict = \u001b[38;5;28;43mself\u001b[39;49m\u001b[43m.\u001b[49m\u001b[43m_api_client\u001b[49m\u001b[43m.\u001b[49m\u001b[43mrequest\u001b[49m\u001b[43m(\u001b[49m\n\u001b[32m   4026\u001b[39m \u001b[43m    \u001b[49m\u001b[33;43m'\u001b[39;49m\u001b[33;43mpost\u001b[39;49m\u001b[33;43m'\u001b[39;49m\u001b[43m,\u001b[49m\u001b[43m \u001b[49m\u001b[43mpath\u001b[49m\u001b[43m,\u001b[49m\u001b[43m \u001b[49m\u001b[43mrequest_dict\u001b[49m\u001b[43m,\u001b[49m\u001b[43m \u001b[49m\u001b[43mhttp_options\u001b[49m\n\u001b[32m   4027\u001b[39m \u001b[43m\u001b[49m\u001b[43m)\u001b[49m\n\u001b[32m   4029\u001b[39m \u001b[38;5;28;01mif\u001b[39;00m \u001b[38;5;28mself\u001b[39m._api_client.vertexai:\n\u001b[32m   4030\u001b[39m   response_dict = _GenerateContentResponse_from_vertex(\n\u001b[32m   4031\u001b[39m       \u001b[38;5;28mself\u001b[39m._api_client, response_dict\n\u001b[32m   4032\u001b[39m   )\n",
      "\u001b[36mFile \u001b[39m\u001b[32mc:\\Users\\ggsna\\AppData\\Local\\Programs\\Python\\Python312\\Lib\\site-packages\\google\\genai\\_api_client.py:751\u001b[39m, in \u001b[36mBaseApiClient.request\u001b[39m\u001b[34m(self, http_method, path, request_dict, http_options)\u001b[39m\n\u001b[32m    741\u001b[39m \u001b[38;5;28;01mdef\u001b[39;00m\u001b[38;5;250m \u001b[39m\u001b[34mrequest\u001b[39m(\n\u001b[32m    742\u001b[39m     \u001b[38;5;28mself\u001b[39m,\n\u001b[32m    743\u001b[39m     http_method: \u001b[38;5;28mstr\u001b[39m,\n\u001b[32m   (...)\u001b[39m\u001b[32m    746\u001b[39m     http_options: Optional[HttpOptionsOrDict] = \u001b[38;5;28;01mNone\u001b[39;00m,\n\u001b[32m    747\u001b[39m ) -> Union[BaseResponse, Any]:\n\u001b[32m    748\u001b[39m   http_request = \u001b[38;5;28mself\u001b[39m._build_request(\n\u001b[32m    749\u001b[39m       http_method, path, request_dict, http_options\n\u001b[32m    750\u001b[39m   )\n\u001b[32m--> \u001b[39m\u001b[32m751\u001b[39m   response = \u001b[38;5;28;43mself\u001b[39;49m\u001b[43m.\u001b[49m\u001b[43m_request\u001b[49m\u001b[43m(\u001b[49m\u001b[43mhttp_request\u001b[49m\u001b[43m,\u001b[49m\u001b[43m \u001b[49m\u001b[43mstream\u001b[49m\u001b[43m=\u001b[49m\u001b[38;5;28;43;01mFalse\u001b[39;49;00m\u001b[43m)\u001b[49m\n\u001b[32m    752\u001b[39m   json_response = response.json\n\u001b[32m    753\u001b[39m   \u001b[38;5;28;01mif\u001b[39;00m \u001b[38;5;129;01mnot\u001b[39;00m json_response:\n",
      "\u001b[36mFile \u001b[39m\u001b[32mc:\\Users\\ggsna\\AppData\\Local\\Programs\\Python\\Python312\\Lib\\site-packages\\google\\genai\\_api_client.py:673\u001b[39m, in \u001b[36mBaseApiClient._request\u001b[39m\u001b[34m(self, http_request, stream)\u001b[39m\n\u001b[32m    669\u001b[39m   \u001b[38;5;28;01mreturn\u001b[39;00m HttpResponse(\n\u001b[32m    670\u001b[39m       response.headers, response \u001b[38;5;28;01mif\u001b[39;00m stream \u001b[38;5;28;01melse\u001b[39;00m [response.text]\n\u001b[32m    671\u001b[39m   )\n\u001b[32m    672\u001b[39m \u001b[38;5;28;01melse\u001b[39;00m:\n\u001b[32m--> \u001b[39m\u001b[32m673\u001b[39m   response = \u001b[38;5;28;43mself\u001b[39;49m\u001b[43m.\u001b[49m\u001b[43m_httpx_client\u001b[49m\u001b[43m.\u001b[49m\u001b[43mrequest\u001b[49m\u001b[43m(\u001b[49m\n\u001b[32m    674\u001b[39m \u001b[43m      \u001b[49m\u001b[43mmethod\u001b[49m\u001b[43m=\u001b[49m\u001b[43mhttp_request\u001b[49m\u001b[43m.\u001b[49m\u001b[43mmethod\u001b[49m\u001b[43m,\u001b[49m\n\u001b[32m    675\u001b[39m \u001b[43m      \u001b[49m\u001b[43murl\u001b[49m\u001b[43m=\u001b[49m\u001b[43mhttp_request\u001b[49m\u001b[43m.\u001b[49m\u001b[43murl\u001b[49m\u001b[43m,\u001b[49m\n\u001b[32m    676\u001b[39m \u001b[43m      \u001b[49m\u001b[43mheaders\u001b[49m\u001b[43m=\u001b[49m\u001b[43mhttp_request\u001b[49m\u001b[43m.\u001b[49m\u001b[43mheaders\u001b[49m\u001b[43m,\u001b[49m\n\u001b[32m    677\u001b[39m \u001b[43m      \u001b[49m\u001b[43mcontent\u001b[49m\u001b[43m=\u001b[49m\u001b[43mdata\u001b[49m\u001b[43m,\u001b[49m\n\u001b[32m    678\u001b[39m \u001b[43m      \u001b[49m\u001b[43mtimeout\u001b[49m\u001b[43m=\u001b[49m\u001b[43mhttp_request\u001b[49m\u001b[43m.\u001b[49m\u001b[43mtimeout\u001b[49m\u001b[43m,\u001b[49m\n\u001b[32m    679\u001b[39m \u001b[43m  \u001b[49m\u001b[43m)\u001b[49m\n\u001b[32m    680\u001b[39m   errors.APIError.raise_for_response(response)\n\u001b[32m    681\u001b[39m   \u001b[38;5;28;01mreturn\u001b[39;00m HttpResponse(\n\u001b[32m    682\u001b[39m       response.headers, response \u001b[38;5;28;01mif\u001b[39;00m stream \u001b[38;5;28;01melse\u001b[39;00m [response.text]\n\u001b[32m    683\u001b[39m   )\n",
      "\u001b[36mFile \u001b[39m\u001b[32mc:\\Users\\ggsna\\AppData\\Local\\Programs\\Python\\Python312\\Lib\\site-packages\\httpx\\_client.py:825\u001b[39m, in \u001b[36mClient.request\u001b[39m\u001b[34m(self, method, url, content, data, files, json, params, headers, cookies, auth, follow_redirects, timeout, extensions)\u001b[39m\n\u001b[32m    810\u001b[39m     warnings.warn(message, \u001b[38;5;167;01mDeprecationWarning\u001b[39;00m, stacklevel=\u001b[32m2\u001b[39m)\n\u001b[32m    812\u001b[39m request = \u001b[38;5;28mself\u001b[39m.build_request(\n\u001b[32m    813\u001b[39m     method=method,\n\u001b[32m    814\u001b[39m     url=url,\n\u001b[32m   (...)\u001b[39m\u001b[32m    823\u001b[39m     extensions=extensions,\n\u001b[32m    824\u001b[39m )\n\u001b[32m--> \u001b[39m\u001b[32m825\u001b[39m \u001b[38;5;28;01mreturn\u001b[39;00m \u001b[38;5;28;43mself\u001b[39;49m\u001b[43m.\u001b[49m\u001b[43msend\u001b[49m\u001b[43m(\u001b[49m\u001b[43mrequest\u001b[49m\u001b[43m,\u001b[49m\u001b[43m \u001b[49m\u001b[43mauth\u001b[49m\u001b[43m=\u001b[49m\u001b[43mauth\u001b[49m\u001b[43m,\u001b[49m\u001b[43m \u001b[49m\u001b[43mfollow_redirects\u001b[49m\u001b[43m=\u001b[49m\u001b[43mfollow_redirects\u001b[49m\u001b[43m)\u001b[49m\n",
      "\u001b[36mFile \u001b[39m\u001b[32mc:\\Users\\ggsna\\AppData\\Local\\Programs\\Python\\Python312\\Lib\\site-packages\\httpx\\_client.py:914\u001b[39m, in \u001b[36mClient.send\u001b[39m\u001b[34m(self, request, stream, auth, follow_redirects)\u001b[39m\n\u001b[32m    910\u001b[39m \u001b[38;5;28mself\u001b[39m._set_timeout(request)\n\u001b[32m    912\u001b[39m auth = \u001b[38;5;28mself\u001b[39m._build_request_auth(request, auth)\n\u001b[32m--> \u001b[39m\u001b[32m914\u001b[39m response = \u001b[38;5;28;43mself\u001b[39;49m\u001b[43m.\u001b[49m\u001b[43m_send_handling_auth\u001b[49m\u001b[43m(\u001b[49m\n\u001b[32m    915\u001b[39m \u001b[43m    \u001b[49m\u001b[43mrequest\u001b[49m\u001b[43m,\u001b[49m\n\u001b[32m    916\u001b[39m \u001b[43m    \u001b[49m\u001b[43mauth\u001b[49m\u001b[43m=\u001b[49m\u001b[43mauth\u001b[49m\u001b[43m,\u001b[49m\n\u001b[32m    917\u001b[39m \u001b[43m    \u001b[49m\u001b[43mfollow_redirects\u001b[49m\u001b[43m=\u001b[49m\u001b[43mfollow_redirects\u001b[49m\u001b[43m,\u001b[49m\n\u001b[32m    918\u001b[39m \u001b[43m    \u001b[49m\u001b[43mhistory\u001b[49m\u001b[43m=\u001b[49m\u001b[43m[\u001b[49m\u001b[43m]\u001b[49m\u001b[43m,\u001b[49m\n\u001b[32m    919\u001b[39m \u001b[43m\u001b[49m\u001b[43m)\u001b[49m\n\u001b[32m    920\u001b[39m \u001b[38;5;28;01mtry\u001b[39;00m:\n\u001b[32m    921\u001b[39m     \u001b[38;5;28;01mif\u001b[39;00m \u001b[38;5;129;01mnot\u001b[39;00m stream:\n",
      "\u001b[36mFile \u001b[39m\u001b[32mc:\\Users\\ggsna\\AppData\\Local\\Programs\\Python\\Python312\\Lib\\site-packages\\httpx\\_client.py:942\u001b[39m, in \u001b[36mClient._send_handling_auth\u001b[39m\u001b[34m(self, request, auth, follow_redirects, history)\u001b[39m\n\u001b[32m    939\u001b[39m request = \u001b[38;5;28mnext\u001b[39m(auth_flow)\n\u001b[32m    941\u001b[39m \u001b[38;5;28;01mwhile\u001b[39;00m \u001b[38;5;28;01mTrue\u001b[39;00m:\n\u001b[32m--> \u001b[39m\u001b[32m942\u001b[39m     response = \u001b[38;5;28;43mself\u001b[39;49m\u001b[43m.\u001b[49m\u001b[43m_send_handling_redirects\u001b[49m\u001b[43m(\u001b[49m\n\u001b[32m    943\u001b[39m \u001b[43m        \u001b[49m\u001b[43mrequest\u001b[49m\u001b[43m,\u001b[49m\n\u001b[32m    944\u001b[39m \u001b[43m        \u001b[49m\u001b[43mfollow_redirects\u001b[49m\u001b[43m=\u001b[49m\u001b[43mfollow_redirects\u001b[49m\u001b[43m,\u001b[49m\n\u001b[32m    945\u001b[39m \u001b[43m        \u001b[49m\u001b[43mhistory\u001b[49m\u001b[43m=\u001b[49m\u001b[43mhistory\u001b[49m\u001b[43m,\u001b[49m\n\u001b[32m    946\u001b[39m \u001b[43m    \u001b[49m\u001b[43m)\u001b[49m\n\u001b[32m    947\u001b[39m     \u001b[38;5;28;01mtry\u001b[39;00m:\n\u001b[32m    948\u001b[39m         \u001b[38;5;28;01mtry\u001b[39;00m:\n",
      "\u001b[36mFile \u001b[39m\u001b[32mc:\\Users\\ggsna\\AppData\\Local\\Programs\\Python\\Python312\\Lib\\site-packages\\httpx\\_client.py:979\u001b[39m, in \u001b[36mClient._send_handling_redirects\u001b[39m\u001b[34m(self, request, follow_redirects, history)\u001b[39m\n\u001b[32m    976\u001b[39m \u001b[38;5;28;01mfor\u001b[39;00m hook \u001b[38;5;129;01min\u001b[39;00m \u001b[38;5;28mself\u001b[39m._event_hooks[\u001b[33m\"\u001b[39m\u001b[33mrequest\u001b[39m\u001b[33m\"\u001b[39m]:\n\u001b[32m    977\u001b[39m     hook(request)\n\u001b[32m--> \u001b[39m\u001b[32m979\u001b[39m response = \u001b[38;5;28;43mself\u001b[39;49m\u001b[43m.\u001b[49m\u001b[43m_send_single_request\u001b[49m\u001b[43m(\u001b[49m\u001b[43mrequest\u001b[49m\u001b[43m)\u001b[49m\n\u001b[32m    980\u001b[39m \u001b[38;5;28;01mtry\u001b[39;00m:\n\u001b[32m    981\u001b[39m     \u001b[38;5;28;01mfor\u001b[39;00m hook \u001b[38;5;129;01min\u001b[39;00m \u001b[38;5;28mself\u001b[39m._event_hooks[\u001b[33m\"\u001b[39m\u001b[33mresponse\u001b[39m\u001b[33m\"\u001b[39m]:\n",
      "\u001b[36mFile \u001b[39m\u001b[32mc:\\Users\\ggsna\\AppData\\Local\\Programs\\Python\\Python312\\Lib\\site-packages\\httpx\\_client.py:1014\u001b[39m, in \u001b[36mClient._send_single_request\u001b[39m\u001b[34m(self, request)\u001b[39m\n\u001b[32m   1009\u001b[39m     \u001b[38;5;28;01mraise\u001b[39;00m \u001b[38;5;167;01mRuntimeError\u001b[39;00m(\n\u001b[32m   1010\u001b[39m         \u001b[33m\"\u001b[39m\u001b[33mAttempted to send an async request with a sync Client instance.\u001b[39m\u001b[33m\"\u001b[39m\n\u001b[32m   1011\u001b[39m     )\n\u001b[32m   1013\u001b[39m \u001b[38;5;28;01mwith\u001b[39;00m request_context(request=request):\n\u001b[32m-> \u001b[39m\u001b[32m1014\u001b[39m     response = \u001b[43mtransport\u001b[49m\u001b[43m.\u001b[49m\u001b[43mhandle_request\u001b[49m\u001b[43m(\u001b[49m\u001b[43mrequest\u001b[49m\u001b[43m)\u001b[49m\n\u001b[32m   1016\u001b[39m \u001b[38;5;28;01massert\u001b[39;00m \u001b[38;5;28misinstance\u001b[39m(response.stream, SyncByteStream)\n\u001b[32m   1018\u001b[39m response.request = request\n",
      "\u001b[36mFile \u001b[39m\u001b[32mc:\\Users\\ggsna\\AppData\\Local\\Programs\\Python\\Python312\\Lib\\site-packages\\httpx\\_transports\\default.py:250\u001b[39m, in \u001b[36mHTTPTransport.handle_request\u001b[39m\u001b[34m(self, request)\u001b[39m\n\u001b[32m    237\u001b[39m req = httpcore.Request(\n\u001b[32m    238\u001b[39m     method=request.method,\n\u001b[32m    239\u001b[39m     url=httpcore.URL(\n\u001b[32m   (...)\u001b[39m\u001b[32m    247\u001b[39m     extensions=request.extensions,\n\u001b[32m    248\u001b[39m )\n\u001b[32m    249\u001b[39m \u001b[38;5;28;01mwith\u001b[39;00m map_httpcore_exceptions():\n\u001b[32m--> \u001b[39m\u001b[32m250\u001b[39m     resp = \u001b[38;5;28;43mself\u001b[39;49m\u001b[43m.\u001b[49m\u001b[43m_pool\u001b[49m\u001b[43m.\u001b[49m\u001b[43mhandle_request\u001b[49m\u001b[43m(\u001b[49m\u001b[43mreq\u001b[49m\u001b[43m)\u001b[49m\n\u001b[32m    252\u001b[39m \u001b[38;5;28;01massert\u001b[39;00m \u001b[38;5;28misinstance\u001b[39m(resp.stream, typing.Iterable)\n\u001b[32m    254\u001b[39m \u001b[38;5;28;01mreturn\u001b[39;00m Response(\n\u001b[32m    255\u001b[39m     status_code=resp.status,\n\u001b[32m    256\u001b[39m     headers=resp.headers,\n\u001b[32m    257\u001b[39m     stream=ResponseStream(resp.stream),\n\u001b[32m    258\u001b[39m     extensions=resp.extensions,\n\u001b[32m    259\u001b[39m )\n",
      "\u001b[36mFile \u001b[39m\u001b[32mc:\\Users\\ggsna\\AppData\\Local\\Programs\\Python\\Python312\\Lib\\site-packages\\httpcore\\_sync\\connection_pool.py:256\u001b[39m, in \u001b[36mConnectionPool.handle_request\u001b[39m\u001b[34m(self, request)\u001b[39m\n\u001b[32m    253\u001b[39m         closing = \u001b[38;5;28mself\u001b[39m._assign_requests_to_connections()\n\u001b[32m    255\u001b[39m     \u001b[38;5;28mself\u001b[39m._close_connections(closing)\n\u001b[32m--> \u001b[39m\u001b[32m256\u001b[39m     \u001b[38;5;28;01mraise\u001b[39;00m exc \u001b[38;5;28;01mfrom\u001b[39;00m\u001b[38;5;250m \u001b[39m\u001b[38;5;28;01mNone\u001b[39;00m\n\u001b[32m    258\u001b[39m \u001b[38;5;66;03m# Return the response. Note that in this case we still have to manage\u001b[39;00m\n\u001b[32m    259\u001b[39m \u001b[38;5;66;03m# the point at which the response is closed.\u001b[39;00m\n\u001b[32m    260\u001b[39m \u001b[38;5;28;01massert\u001b[39;00m \u001b[38;5;28misinstance\u001b[39m(response.stream, typing.Iterable)\n",
      "\u001b[36mFile \u001b[39m\u001b[32mc:\\Users\\ggsna\\AppData\\Local\\Programs\\Python\\Python312\\Lib\\site-packages\\httpcore\\_sync\\connection_pool.py:236\u001b[39m, in \u001b[36mConnectionPool.handle_request\u001b[39m\u001b[34m(self, request)\u001b[39m\n\u001b[32m    232\u001b[39m connection = pool_request.wait_for_connection(timeout=timeout)\n\u001b[32m    234\u001b[39m \u001b[38;5;28;01mtry\u001b[39;00m:\n\u001b[32m    235\u001b[39m     \u001b[38;5;66;03m# Send the request on the assigned connection.\u001b[39;00m\n\u001b[32m--> \u001b[39m\u001b[32m236\u001b[39m     response = \u001b[43mconnection\u001b[49m\u001b[43m.\u001b[49m\u001b[43mhandle_request\u001b[49m\u001b[43m(\u001b[49m\n\u001b[32m    237\u001b[39m \u001b[43m        \u001b[49m\u001b[43mpool_request\u001b[49m\u001b[43m.\u001b[49m\u001b[43mrequest\u001b[49m\n\u001b[32m    238\u001b[39m \u001b[43m    \u001b[49m\u001b[43m)\u001b[49m\n\u001b[32m    239\u001b[39m \u001b[38;5;28;01mexcept\u001b[39;00m ConnectionNotAvailable:\n\u001b[32m    240\u001b[39m     \u001b[38;5;66;03m# In some cases a connection may initially be available to\u001b[39;00m\n\u001b[32m    241\u001b[39m     \u001b[38;5;66;03m# handle a request, but then become unavailable.\u001b[39;00m\n\u001b[32m    242\u001b[39m     \u001b[38;5;66;03m#\u001b[39;00m\n\u001b[32m    243\u001b[39m     \u001b[38;5;66;03m# In this case we clear the connection and try again.\u001b[39;00m\n\u001b[32m    244\u001b[39m     pool_request.clear_connection()\n",
      "\u001b[36mFile \u001b[39m\u001b[32mc:\\Users\\ggsna\\AppData\\Local\\Programs\\Python\\Python312\\Lib\\site-packages\\httpcore\\_sync\\connection.py:103\u001b[39m, in \u001b[36mHTTPConnection.handle_request\u001b[39m\u001b[34m(self, request)\u001b[39m\n\u001b[32m    100\u001b[39m     \u001b[38;5;28mself\u001b[39m._connect_failed = \u001b[38;5;28;01mTrue\u001b[39;00m\n\u001b[32m    101\u001b[39m     \u001b[38;5;28;01mraise\u001b[39;00m exc\n\u001b[32m--> \u001b[39m\u001b[32m103\u001b[39m \u001b[38;5;28;01mreturn\u001b[39;00m \u001b[38;5;28;43mself\u001b[39;49m\u001b[43m.\u001b[49m\u001b[43m_connection\u001b[49m\u001b[43m.\u001b[49m\u001b[43mhandle_request\u001b[49m\u001b[43m(\u001b[49m\u001b[43mrequest\u001b[49m\u001b[43m)\u001b[49m\n",
      "\u001b[36mFile \u001b[39m\u001b[32mc:\\Users\\ggsna\\AppData\\Local\\Programs\\Python\\Python312\\Lib\\site-packages\\httpcore\\_sync\\http11.py:136\u001b[39m, in \u001b[36mHTTP11Connection.handle_request\u001b[39m\u001b[34m(self, request)\u001b[39m\n\u001b[32m    134\u001b[39m     \u001b[38;5;28;01mwith\u001b[39;00m Trace(\u001b[33m\"\u001b[39m\u001b[33mresponse_closed\u001b[39m\u001b[33m\"\u001b[39m, logger, request) \u001b[38;5;28;01mas\u001b[39;00m trace:\n\u001b[32m    135\u001b[39m         \u001b[38;5;28mself\u001b[39m._response_closed()\n\u001b[32m--> \u001b[39m\u001b[32m136\u001b[39m \u001b[38;5;28;01mraise\u001b[39;00m exc\n",
      "\u001b[36mFile \u001b[39m\u001b[32mc:\\Users\\ggsna\\AppData\\Local\\Programs\\Python\\Python312\\Lib\\site-packages\\httpcore\\_sync\\http11.py:106\u001b[39m, in \u001b[36mHTTP11Connection.handle_request\u001b[39m\u001b[34m(self, request)\u001b[39m\n\u001b[32m     95\u001b[39m     \u001b[38;5;28;01mpass\u001b[39;00m\n\u001b[32m     97\u001b[39m \u001b[38;5;28;01mwith\u001b[39;00m Trace(\n\u001b[32m     98\u001b[39m     \u001b[33m\"\u001b[39m\u001b[33mreceive_response_headers\u001b[39m\u001b[33m\"\u001b[39m, logger, request, kwargs\n\u001b[32m     99\u001b[39m ) \u001b[38;5;28;01mas\u001b[39;00m trace:\n\u001b[32m    100\u001b[39m     (\n\u001b[32m    101\u001b[39m         http_version,\n\u001b[32m    102\u001b[39m         status,\n\u001b[32m    103\u001b[39m         reason_phrase,\n\u001b[32m    104\u001b[39m         headers,\n\u001b[32m    105\u001b[39m         trailing_data,\n\u001b[32m--> \u001b[39m\u001b[32m106\u001b[39m     ) = \u001b[38;5;28;43mself\u001b[39;49m\u001b[43m.\u001b[49m\u001b[43m_receive_response_headers\u001b[49m\u001b[43m(\u001b[49m\u001b[43m*\u001b[49m\u001b[43m*\u001b[49m\u001b[43mkwargs\u001b[49m\u001b[43m)\u001b[49m\n\u001b[32m    107\u001b[39m     trace.return_value = (\n\u001b[32m    108\u001b[39m         http_version,\n\u001b[32m    109\u001b[39m         status,\n\u001b[32m    110\u001b[39m         reason_phrase,\n\u001b[32m    111\u001b[39m         headers,\n\u001b[32m    112\u001b[39m     )\n\u001b[32m    114\u001b[39m network_stream = \u001b[38;5;28mself\u001b[39m._network_stream\n",
      "\u001b[36mFile \u001b[39m\u001b[32mc:\\Users\\ggsna\\AppData\\Local\\Programs\\Python\\Python312\\Lib\\site-packages\\httpcore\\_sync\\http11.py:177\u001b[39m, in \u001b[36mHTTP11Connection._receive_response_headers\u001b[39m\u001b[34m(self, request)\u001b[39m\n\u001b[32m    174\u001b[39m timeout = timeouts.get(\u001b[33m\"\u001b[39m\u001b[33mread\u001b[39m\u001b[33m\"\u001b[39m, \u001b[38;5;28;01mNone\u001b[39;00m)\n\u001b[32m    176\u001b[39m \u001b[38;5;28;01mwhile\u001b[39;00m \u001b[38;5;28;01mTrue\u001b[39;00m:\n\u001b[32m--> \u001b[39m\u001b[32m177\u001b[39m     event = \u001b[38;5;28;43mself\u001b[39;49m\u001b[43m.\u001b[49m\u001b[43m_receive_event\u001b[49m\u001b[43m(\u001b[49m\u001b[43mtimeout\u001b[49m\u001b[43m=\u001b[49m\u001b[43mtimeout\u001b[49m\u001b[43m)\u001b[49m\n\u001b[32m    178\u001b[39m     \u001b[38;5;28;01mif\u001b[39;00m \u001b[38;5;28misinstance\u001b[39m(event, h11.Response):\n\u001b[32m    179\u001b[39m         \u001b[38;5;28;01mbreak\u001b[39;00m\n",
      "\u001b[36mFile \u001b[39m\u001b[32mc:\\Users\\ggsna\\AppData\\Local\\Programs\\Python\\Python312\\Lib\\site-packages\\httpcore\\_sync\\http11.py:217\u001b[39m, in \u001b[36mHTTP11Connection._receive_event\u001b[39m\u001b[34m(self, timeout)\u001b[39m\n\u001b[32m    214\u001b[39m     event = \u001b[38;5;28mself\u001b[39m._h11_state.next_event()\n\u001b[32m    216\u001b[39m \u001b[38;5;28;01mif\u001b[39;00m event \u001b[38;5;129;01mis\u001b[39;00m h11.NEED_DATA:\n\u001b[32m--> \u001b[39m\u001b[32m217\u001b[39m     data = \u001b[38;5;28;43mself\u001b[39;49m\u001b[43m.\u001b[49m\u001b[43m_network_stream\u001b[49m\u001b[43m.\u001b[49m\u001b[43mread\u001b[49m\u001b[43m(\u001b[49m\n\u001b[32m    218\u001b[39m \u001b[43m        \u001b[49m\u001b[38;5;28;43mself\u001b[39;49m\u001b[43m.\u001b[49m\u001b[43mREAD_NUM_BYTES\u001b[49m\u001b[43m,\u001b[49m\u001b[43m \u001b[49m\u001b[43mtimeout\u001b[49m\u001b[43m=\u001b[49m\u001b[43mtimeout\u001b[49m\n\u001b[32m    219\u001b[39m \u001b[43m    \u001b[49m\u001b[43m)\u001b[49m\n\u001b[32m    221\u001b[39m     \u001b[38;5;66;03m# If we feed this case through h11 we'll raise an exception like:\u001b[39;00m\n\u001b[32m    222\u001b[39m     \u001b[38;5;66;03m#\u001b[39;00m\n\u001b[32m    223\u001b[39m     \u001b[38;5;66;03m#     httpcore.RemoteProtocolError: can't handle event type\u001b[39;00m\n\u001b[32m   (...)\u001b[39m\u001b[32m    227\u001b[39m     \u001b[38;5;66;03m# perspective. Instead we handle this case distinctly and treat\u001b[39;00m\n\u001b[32m    228\u001b[39m     \u001b[38;5;66;03m# it as a ConnectError.\u001b[39;00m\n\u001b[32m    229\u001b[39m     \u001b[38;5;28;01mif\u001b[39;00m data == \u001b[33mb\u001b[39m\u001b[33m\"\u001b[39m\u001b[33m\"\u001b[39m \u001b[38;5;129;01mand\u001b[39;00m \u001b[38;5;28mself\u001b[39m._h11_state.their_state == h11.SEND_RESPONSE:\n",
      "\u001b[36mFile \u001b[39m\u001b[32mc:\\Users\\ggsna\\AppData\\Local\\Programs\\Python\\Python312\\Lib\\site-packages\\httpcore\\_backends\\sync.py:128\u001b[39m, in \u001b[36mSyncStream.read\u001b[39m\u001b[34m(self, max_bytes, timeout)\u001b[39m\n\u001b[32m    126\u001b[39m \u001b[38;5;28;01mwith\u001b[39;00m map_exceptions(exc_map):\n\u001b[32m    127\u001b[39m     \u001b[38;5;28mself\u001b[39m._sock.settimeout(timeout)\n\u001b[32m--> \u001b[39m\u001b[32m128\u001b[39m     \u001b[38;5;28;01mreturn\u001b[39;00m \u001b[38;5;28;43mself\u001b[39;49m\u001b[43m.\u001b[49m\u001b[43m_sock\u001b[49m\u001b[43m.\u001b[49m\u001b[43mrecv\u001b[49m\u001b[43m(\u001b[49m\u001b[43mmax_bytes\u001b[49m\u001b[43m)\u001b[49m\n",
      "\u001b[36mFile \u001b[39m\u001b[32mc:\\Users\\ggsna\\AppData\\Local\\Programs\\Python\\Python312\\Lib\\ssl.py:1233\u001b[39m, in \u001b[36mSSLSocket.recv\u001b[39m\u001b[34m(self, buflen, flags)\u001b[39m\n\u001b[32m   1229\u001b[39m     \u001b[38;5;28;01mif\u001b[39;00m flags != \u001b[32m0\u001b[39m:\n\u001b[32m   1230\u001b[39m         \u001b[38;5;28;01mraise\u001b[39;00m \u001b[38;5;167;01mValueError\u001b[39;00m(\n\u001b[32m   1231\u001b[39m             \u001b[33m\"\u001b[39m\u001b[33mnon-zero flags not allowed in calls to recv() on \u001b[39m\u001b[38;5;132;01m%s\u001b[39;00m\u001b[33m\"\u001b[39m %\n\u001b[32m   1232\u001b[39m             \u001b[38;5;28mself\u001b[39m.\u001b[34m__class__\u001b[39m)\n\u001b[32m-> \u001b[39m\u001b[32m1233\u001b[39m     \u001b[38;5;28;01mreturn\u001b[39;00m \u001b[38;5;28;43mself\u001b[39;49m\u001b[43m.\u001b[49m\u001b[43mread\u001b[49m\u001b[43m(\u001b[49m\u001b[43mbuflen\u001b[49m\u001b[43m)\u001b[49m\n\u001b[32m   1234\u001b[39m \u001b[38;5;28;01melse\u001b[39;00m:\n\u001b[32m   1235\u001b[39m     \u001b[38;5;28;01mreturn\u001b[39;00m \u001b[38;5;28msuper\u001b[39m().recv(buflen, flags)\n",
      "\u001b[36mFile \u001b[39m\u001b[32mc:\\Users\\ggsna\\AppData\\Local\\Programs\\Python\\Python312\\Lib\\ssl.py:1106\u001b[39m, in \u001b[36mSSLSocket.read\u001b[39m\u001b[34m(self, len, buffer)\u001b[39m\n\u001b[32m   1104\u001b[39m         \u001b[38;5;28;01mreturn\u001b[39;00m \u001b[38;5;28mself\u001b[39m._sslobj.read(\u001b[38;5;28mlen\u001b[39m, buffer)\n\u001b[32m   1105\u001b[39m     \u001b[38;5;28;01melse\u001b[39;00m:\n\u001b[32m-> \u001b[39m\u001b[32m1106\u001b[39m         \u001b[38;5;28;01mreturn\u001b[39;00m \u001b[38;5;28;43mself\u001b[39;49m\u001b[43m.\u001b[49m\u001b[43m_sslobj\u001b[49m\u001b[43m.\u001b[49m\u001b[43mread\u001b[49m\u001b[43m(\u001b[49m\u001b[38;5;28;43mlen\u001b[39;49m\u001b[43m)\u001b[49m\n\u001b[32m   1107\u001b[39m \u001b[38;5;28;01mexcept\u001b[39;00m SSLError \u001b[38;5;28;01mas\u001b[39;00m x:\n\u001b[32m   1108\u001b[39m     \u001b[38;5;28;01mif\u001b[39;00m x.args[\u001b[32m0\u001b[39m] == SSL_ERROR_EOF \u001b[38;5;129;01mand\u001b[39;00m \u001b[38;5;28mself\u001b[39m.suppress_ragged_eofs:\n",
      "\u001b[31mKeyboardInterrupt\u001b[39m: "
     ]
    }
   ],
   "source": [
    "# Analisando os processos com dano ambiental\n",
    "respostas_danos_ambientais = []\n",
    "for id in tqdm(lista_processos):\n",
    "    linha = sentencas_danos_ambientais.loc[sentencas_danos_ambientais['processoID'] == id]\n",
    "    texto = ''\n",
    "    linha = linha.iloc[0] # extrai a linha como Series\n",
    "\n",
    "    processoAnexoID = linha['processoAnexoID']\n",
    "    link = linha['link_referencia']\n",
    "    response = requests.get(link)\n",
    "    response.encoding = 'utf-8'\n",
    "    content_type = response.headers.get('Content-Type', '')\n",
    "    \n",
    "    if 'pdf' in content_type:\n",
    "        with tempfile.NamedTemporaryFile(delete=False, suffix=\".pdf\") as tmp_file:\n",
    "            tmp_file.write(response.content)\n",
    "            tmp_path = tmp_file.name\n",
    "\n",
    "        with pymupdf.open(tmp_path) as doc:\n",
    "            for page in doc:\n",
    "                texto += page.get_text()\n",
    "    \n",
    "    elif 'html' in content_type:\n",
    "        soup = BeautifulSoup(response.content, 'html.parser')\n",
    "        texto += soup.get_text()\n",
    "\n",
    "    resposta_prompt = analisa_sentenca(texto)\n",
    "    resposta_prompt = json.loads(resposta_prompt.text)\n",
    "    resposta_prompt[\"processoAnexoID\"] = processoAnexoID\n",
    "    resposta_prompt[\"link_referencia\"] = link\n",
    "    resposta_prompt[\"processoID\"] = id\n",
    "    respostas_danos_ambientais.append(resposta_prompt)\n",
    "\n",
    "respostas_danos_ambientais"
   ]
  },
  {
   "cell_type": "code",
   "execution_count": 7,
   "id": "680eae98",
   "metadata": {},
   "outputs": [
    {
     "data": {
      "text/html": [
       "<div>\n",
       "<style scoped>\n",
       "    .dataframe tbody tr th:only-of-type {\n",
       "        vertical-align: middle;\n",
       "    }\n",
       "\n",
       "    .dataframe tbody tr th {\n",
       "        vertical-align: top;\n",
       "    }\n",
       "\n",
       "    .dataframe thead th {\n",
       "        text-align: right;\n",
       "    }\n",
       "</style>\n",
       "<table border=\"1\" class=\"dataframe\">\n",
       "  <thead>\n",
       "    <tr style=\"text-align: right;\">\n",
       "      <th></th>\n",
       "      <th>numero_processo</th>\n",
       "      <th>processoID</th>\n",
       "      <th>processoAnexoID</th>\n",
       "      <th>georreferencia</th>\n",
       "      <th>uf</th>\n",
       "      <th>municipio</th>\n",
       "      <th>responsavel</th>\n",
       "      <th>categoria_responsavel</th>\n",
       "      <th>tipo_impacto</th>\n",
       "      <th>descricao_impacto</th>\n",
       "      <th>data_impacto</th>\n",
       "      <th>area_afetada</th>\n",
       "      <th>unidade_area</th>\n",
       "      <th>houve_compensacao</th>\n",
       "      <th>categoria_compensacao</th>\n",
       "      <th>tipo_multa</th>\n",
       "      <th>valor_multa</th>\n",
       "      <th>valor_multa_diaria</th>\n",
       "      <th>link_referencia</th>\n",
       "    </tr>\n",
       "  </thead>\n",
       "  <tbody>\n",
       "    <tr>\n",
       "      <th>0</th>\n",
       "      <td>0600357-89.2021.8.04.5600</td>\n",
       "      <td>474474022</td>\n",
       "      <td>2344968081</td>\n",
       "      <td>NULL</td>\n",
       "      <td>AM</td>\n",
       "      <td>Manicoré</td>\n",
       "      <td>DESTAQUE INDUSTRIA E COMERCIO DE MADEIRAS LTDA</td>\n",
       "      <td>Pessoa Jurídica</td>\n",
       "      <td>Desmatamento</td>\n",
       "      <td>Depósito irregular de 288,03 metros cúbicos de...</td>\n",
       "      <td>30/04/2016</td>\n",
       "      <td>NULL</td>\n",
       "      <td>NULL</td>\n",
       "      <td>True</td>\n",
       "      <td>Obrigações de Fazer (com custo)</td>\n",
       "      <td>0</td>\n",
       "      <td>NULL</td>\n",
       "      <td>NULL</td>\n",
       "      <td>http://jud-anexos.digesto.com.br/0cacd6d80c499...</td>\n",
       "    </tr>\n",
       "    <tr>\n",
       "      <th>1</th>\n",
       "      <td>0600384-72.2021.8.04.5600</td>\n",
       "      <td>474474806</td>\n",
       "      <td>2294638461</td>\n",
       "      <td>07°43’11.00” S e 61°28’11.00” O</td>\n",
       "      <td>AM</td>\n",
       "      <td>Manicoré</td>\n",
       "      <td>CARLOS ALEXANDRE ROSSI</td>\n",
       "      <td>Pessoa Física</td>\n",
       "      <td>Desmatamento de APP</td>\n",
       "      <td>Destruição de 121,15 hectares de floresta nati...</td>\n",
       "      <td>16/06/2016</td>\n",
       "      <td>121.15</td>\n",
       "      <td>ha</td>\n",
       "      <td>False</td>\n",
       "      <td>Obrigações de Fazer (com custo)</td>\n",
       "      <td>0</td>\n",
       "      <td>NULL</td>\n",
       "      <td>NULL</td>\n",
       "      <td>http://jud-anexos.digesto.com.br/90df1f9ac9917...</td>\n",
       "    </tr>\n",
       "    <tr>\n",
       "      <th>2</th>\n",
       "      <td>0600592-22.2022.8.04.5600</td>\n",
       "      <td>682231747</td>\n",
       "      <td>1915313002</td>\n",
       "      <td>NULL</td>\n",
       "      <td>AM</td>\n",
       "      <td>Manicoré</td>\n",
       "      <td>C R MADEIREIRA AMAZONAS LTDA-EPP</td>\n",
       "      <td>Pessoa Jurídica</td>\n",
       "      <td>Lançamento e queima de rejeitos industriais</td>\n",
       "      <td>A empresa lançou e queimou rejeitos de indústr...</td>\n",
       "      <td>07/11/2018</td>\n",
       "      <td>NULL</td>\n",
       "      <td>NULL</td>\n",
       "      <td>True</td>\n",
       "      <td>Obrigações de Fazer (com custo)</td>\n",
       "      <td>2</td>\n",
       "      <td>24240.00</td>\n",
       "      <td>10000.00</td>\n",
       "      <td>http://jud-anexos.digesto.com.br/209b98634c9c4...</td>\n",
       "    </tr>\n",
       "    <tr>\n",
       "      <th>3</th>\n",
       "      <td>1000009-75.2018.4.01.3903</td>\n",
       "      <td>311524686</td>\n",
       "      <td>269166848</td>\n",
       "      <td>NULL</td>\n",
       "      <td>PA</td>\n",
       "      <td>Altamira</td>\n",
       "      <td>MARCIO SILVA VALE</td>\n",
       "      <td>Pessoa Física</td>\n",
       "      <td>Desmatamento</td>\n",
       "      <td>Desmatamento e impedimento da regeneração da c...</td>\n",
       "      <td>NULL</td>\n",
       "      <td>NULL</td>\n",
       "      <td>NULL</td>\n",
       "      <td>False</td>\n",
       "      <td>NULL</td>\n",
       "      <td>0</td>\n",
       "      <td>NULL</td>\n",
       "      <td>NULL</td>\n",
       "      <td>http://jud-anexos.digesto.com.br/7cef4bd654c35...</td>\n",
       "    </tr>\n",
       "    <tr>\n",
       "      <th>4</th>\n",
       "      <td>1000305-06.2018.4.01.3901</td>\n",
       "      <td>326977847</td>\n",
       "      <td>1526470307</td>\n",
       "      <td>NULL</td>\n",
       "      <td>PA</td>\n",
       "      <td>Marabá</td>\n",
       "      <td>VALE S.A.</td>\n",
       "      <td>Pessoa Jurídica</td>\n",
       "      <td>Desmatamento de APP</td>\n",
       "      <td>Supressão de castanhais e poluição hídrica afe...</td>\n",
       "      <td>NULL</td>\n",
       "      <td>NULL</td>\n",
       "      <td>NULL</td>\n",
       "      <td>True</td>\n",
       "      <td>Custas Judiciais e Acordos</td>\n",
       "      <td>0</td>\n",
       "      <td>1364000.00</td>\n",
       "      <td>NULL</td>\n",
       "      <td>http://jud-anexos.digesto.com.br/d5d876cd4f1b1...</td>\n",
       "    </tr>\n",
       "  </tbody>\n",
       "</table>\n",
       "</div>"
      ],
      "text/plain": [
       "             numero_processo  processoID  processoAnexoID  \\\n",
       "0  0600357-89.2021.8.04.5600   474474022       2344968081   \n",
       "1  0600384-72.2021.8.04.5600   474474806       2294638461   \n",
       "2  0600592-22.2022.8.04.5600   682231747       1915313002   \n",
       "3  1000009-75.2018.4.01.3903   311524686        269166848   \n",
       "4  1000305-06.2018.4.01.3901   326977847       1526470307   \n",
       "\n",
       "                    georreferencia  uf municipio  \\\n",
       "0                             NULL  AM  Manicoré   \n",
       "1  07°43’11.00” S e 61°28’11.00” O  AM  Manicoré   \n",
       "2                             NULL  AM  Manicoré   \n",
       "3                             NULL  PA  Altamira   \n",
       "4                             NULL  PA    Marabá   \n",
       "\n",
       "                                      responsavel categoria_responsavel  \\\n",
       "0  DESTAQUE INDUSTRIA E COMERCIO DE MADEIRAS LTDA       Pessoa Jurídica   \n",
       "1                          CARLOS ALEXANDRE ROSSI         Pessoa Física   \n",
       "2                C R MADEIREIRA AMAZONAS LTDA-EPP       Pessoa Jurídica   \n",
       "3                               MARCIO SILVA VALE         Pessoa Física   \n",
       "4                                       VALE S.A.       Pessoa Jurídica   \n",
       "\n",
       "                                  tipo_impacto  \\\n",
       "0                                 Desmatamento   \n",
       "1                          Desmatamento de APP   \n",
       "2  Lançamento e queima de rejeitos industriais   \n",
       "3                                 Desmatamento   \n",
       "4                          Desmatamento de APP   \n",
       "\n",
       "                                   descricao_impacto data_impacto  \\\n",
       "0  Depósito irregular de 288,03 metros cúbicos de...   30/04/2016   \n",
       "1  Destruição de 121,15 hectares de floresta nati...   16/06/2016   \n",
       "2  A empresa lançou e queimou rejeitos de indústr...   07/11/2018   \n",
       "3  Desmatamento e impedimento da regeneração da c...         NULL   \n",
       "4  Supressão de castanhais e poluição hídrica afe...         NULL   \n",
       "\n",
       "  area_afetada unidade_area  houve_compensacao  \\\n",
       "0         NULL         NULL               True   \n",
       "1       121.15           ha              False   \n",
       "2         NULL         NULL               True   \n",
       "3         NULL         NULL              False   \n",
       "4         NULL         NULL               True   \n",
       "\n",
       "             categoria_compensacao tipo_multa valor_multa valor_multa_diaria  \\\n",
       "0  Obrigações de Fazer (com custo)          0        NULL               NULL   \n",
       "1  Obrigações de Fazer (com custo)          0        NULL               NULL   \n",
       "2  Obrigações de Fazer (com custo)          2    24240.00           10000.00   \n",
       "3                             NULL          0        NULL               NULL   \n",
       "4       Custas Judiciais e Acordos          0  1364000.00               NULL   \n",
       "\n",
       "                                     link_referencia  \n",
       "0  http://jud-anexos.digesto.com.br/0cacd6d80c499...  \n",
       "1  http://jud-anexos.digesto.com.br/90df1f9ac9917...  \n",
       "2  http://jud-anexos.digesto.com.br/209b98634c9c4...  \n",
       "3  http://jud-anexos.digesto.com.br/7cef4bd654c35...  \n",
       "4  http://jud-anexos.digesto.com.br/d5d876cd4f1b1...  "
      ]
     },
     "execution_count": 7,
     "metadata": {},
     "output_type": "execute_result"
    }
   ],
   "source": [
    "# Transformando a lista de respostas de danos ambientais da primeira parte em um DataFrame\n",
    "respostas_danos_ambientais_df_completo = pd.DataFrame(respostas_danos_ambientais)\n",
    "\n",
    "# Reorganizando as colunas\n",
    "respostas_danos_ambientais_df_completo = respostas_danos_ambientais_df_completo[[\"numero_processo\", \"processoID\", \"processoAnexoID\", \"georreferencia\", \"uf\", \"municipio\", \"responsavel\", \"categoria_responsavel\", \"tipo_impacto\", \"descricao_impacto\", \"data_impacto\", \"area_afetada\", \"unidade_area\", \"houve_compensacao\", \"categoria_compensacao\", \"tipo_multa\", \"valor_multa\", \"valor_multa_diaria\", \"link_referencia\"]]\n",
    "\n",
    "respostas_danos_ambientais_df_completo.head()"
   ]
  },
  {
   "cell_type": "code",
   "execution_count": null,
   "id": "5803dea0",
   "metadata": {},
   "outputs": [],
   "source": [
    "# Exportando df de classificação de sentenças para um arquivo Excel\n",
    "# respostas_danos_ambientais_df_parte0.to_excel(\"docs/respostas_danos_ambientais_df_parte0.xlsx\", index=False)"
   ]
  },
  {
   "cell_type": "code",
   "execution_count": 8,
   "id": "2b1496bc",
   "metadata": {},
   "outputs": [],
   "source": [
    "respostas_danos_ambientais_df_completo.to_excel(\"docs/respostas_danos_ambientais_df_completo.xlsx\", index=False)"
   ]
  },
  {
   "cell_type": "markdown",
   "id": "a6e7c3b0",
   "metadata": {},
   "source": [
    "# Extracao Nasser"
   ]
  },
  {
   "cell_type": "code",
   "execution_count": 13,
   "id": "96eb8b87",
   "metadata": {},
   "outputs": [],
   "source": [
    "# --- CONFIGURAÇÕES DO BANCO DE DADOS SQLITE ---\n",
    "DB_FILE_NAME = \"meu_banco_gemini.db\"\n",
    "TABLE_PROCESSOS = \"processos_analisados_gemini\"\n",
    "\n",
    "# Colunas na ordem exata que você especificou para o DataFrame final\n",
    "# Estas são as colunas que você espera que a API Gemini retorne (ou que você preencha)\n",
    "# mais as colunas 'processoID', 'processoAnexoID', 'link_referencia'\n",
    "COLUNAS_DATAFRAME_FINAL = [\n",
    "    \"numero_processo\", \"processoID\", \"processoAnexoID\", \"georreferencia\", \"uf\", \"municipio\",\n",
    "    \"responsavel\", \"categoria_responsavel\", \"tipo_impacto\", \"descricao_impacto\",\n",
    "    \"data_impacto\", \"area_afetada\", \"unidade_area\", \"houve_compensacao\",\n",
    "    \"categoria_compensacao\", \"tipo_multa\", \"valor_multa\", \"valor_multa_diaria\",\n",
    "    \"link_referencia\"\n",
    "]"
   ]
  },
  {
   "cell_type": "code",
   "execution_count": 14,
   "id": "15e17972",
   "metadata": {},
   "outputs": [],
   "source": [
    "# --- FUNÇÕES AUXILIARES SQLITE ---\n",
    "\n",
    "def criar_tabela_sqlite():\n",
    "    conn = None\n",
    "    try:\n",
    "        conn = sqlite3.connect(DB_FILE_NAME)\n",
    "        cursor = conn.cursor()\n",
    "        # Criar colunas com tipo TEXT para flexibilidade. processoID será a chave primária.\n",
    "        colunas_sql = \", \".join([f'\"{col}\" TEXT' for col in COLUNAS_DATAFRAME_FINAL if col != \"processoID\"])\n",
    "        # processoID é especial e usado como PRIMARY KEY\n",
    "        cursor.execute(f\"\"\"\n",
    "        CREATE TABLE IF NOT EXISTS {TABLE_PROCESSOS} (\n",
    "            \"processoID\" TEXT PRIMARY KEY,\n",
    "            {colunas_sql}\n",
    "        )\n",
    "        \"\"\")\n",
    "        conn.commit()\n",
    "    except sqlite3.Error as e:\n",
    "        print(f\"Erro ao criar/conectar tabela SQLite: {e}\")\n",
    "    finally:\n",
    "        if conn:\n",
    "            conn.close()\n",
    "\n",
    "def get_ids_processados_sqlite():\n",
    "    conn = None\n",
    "    ids_processados = set()\n",
    "    # Verificar se o arquivo do banco de dados existe antes de tentar conectar\n",
    "    if not os.path.exists(DB_FILE_NAME):\n",
    "        criar_tabela_sqlite() # Cria a tabela se o DB não existir\n",
    "        return ids_processados\n",
    "\n",
    "    try:\n",
    "        conn = sqlite3.connect(DB_FILE_NAME)\n",
    "        cursor = conn.cursor()\n",
    "        # Verifica se a tabela existe antes de tentar selecionar\n",
    "        cursor.execute(f\"SELECT name FROM sqlite_master WHERE type='table' AND name='{TABLE_PROCESSOS}';\")\n",
    "        if cursor.fetchone() is None:\n",
    "            # Tabela não existe, então crie-a\n",
    "            conn.close() # Fecha a conexão atual para evitar problemas\n",
    "            criar_tabela_sqlite()\n",
    "            return ids_processados # Retorna conjunto vazio pois nada foi processado\n",
    "\n",
    "        cursor.execute(f\"SELECT processoID FROM {TABLE_PROCESSOS}\")\n",
    "        rows = cursor.fetchall()\n",
    "        # Os IDs no seu DataFrame e lista_processos podem ser int ou str.\n",
    "        # Para consistência, vamos tratar como string ao comparar.\n",
    "        ids_processados = {str(row[0]) for row in rows}\n",
    "    except sqlite3.Error as e:\n",
    "        print(f\"Erro ao ler IDs do SQLite: {e}\")\n",
    "    finally:\n",
    "        if conn:\n",
    "            conn.close()\n",
    "    return ids_processados\n",
    "\n",
    "def inserir_dados_processo_sqlite(dados_dict):\n",
    "    conn = None\n",
    "    try:\n",
    "        conn = sqlite3.connect(DB_FILE_NAME)\n",
    "        cursor = conn.cursor()\n",
    "        \n",
    "        # Garantir que todos os campos de COLUNAS_DATAFRAME_FINAL existam no dict, preenchendo com None se faltar\n",
    "        # e convertendo todos os valores para string para inserção segura como TEXT\n",
    "        valores_ordenados = []\n",
    "        for col_nome in COLUNAS_DATAFRAME_FINAL:\n",
    "            valor = dados_dict.get(col_nome)\n",
    "            valores_ordenados.append(str(valor) if valor is not None else None)\n",
    "\n",
    "        cols_string = \", \".join([f'\"{col}\"' for col in COLUNAS_DATAFRAME_FINAL])\n",
    "        placeholders = \", \".join([\"?\"] * len(COLUNAS_DATAFRAME_FINAL))\n",
    "        \n",
    "        # Usar INSERT OR REPLACE para atualizar caso já exista (embora a lógica de pular já deva cobrir)\n",
    "        # ou INSERT OR IGNORE para simplesmente pular se já existir.\n",
    "        # Como estamos checando `ids_processados` antes, um INSERT simples seria suficiente,\n",
    "        # mas OR IGNORE é mais seguro contra race conditions ou lógicas imperfeitas.\n",
    "        cursor.execute(f\"INSERT OR REPLACE INTO {TABLE_PROCESSOS} ({cols_string}) VALUES ({placeholders})\",\n",
    "                       valores_ordenados)\n",
    "        conn.commit()\n",
    "    except sqlite3.Error as e:\n",
    "        print(f\"Erro ao inserir dados no SQLite para processoID {dados_dict.get('processoID')}: {e}\")\n",
    "        if conn:\n",
    "            conn.rollback()\n",
    "    finally:\n",
    "        if conn:\n",
    "            conn.close()\n",
    "\n",
    "def limpar_resposta_json_gemini(texto_json_bruto: str) -> str:\n",
    "    \"\"\"Remove marcadores ```json ... ``` de respostas da API Gemini.\"\"\"\n",
    "    limpo = texto_json_bruto.strip()\n",
    "    if limpo.startswith(\"```json\"):\n",
    "        limpo = limpo[7:]\n",
    "    elif limpo.startswith(\"```\"):\n",
    "        limpo = limpo[3:]\n",
    "    if limpo.endswith(\"```\"):\n",
    "        limpo = limpo[:-3]\n",
    "    return limpo.strip()"
   ]
  },
  {
   "cell_type": "code",
   "execution_count": 15,
   "id": "6bf7bb9c",
   "metadata": {},
   "outputs": [],
   "source": [
    "# Garante que a tabela exista antes de começar\n",
    "criar_tabela_sqlite()"
   ]
  },
  {
   "cell_type": "code",
   "execution_count": 16,
   "id": "a7bde673",
   "metadata": {},
   "outputs": [
    {
     "name": "stdout",
     "output_type": "stream",
     "text": [
      "Total de IDs na lista original: 85\n",
      "IDs já processados e salvos no banco de dados: 0\n",
      "IDs pendentes para processamento: 85\n"
     ]
    }
   ],
   "source": [
    "ids_ja_processados_no_db = get_ids_processados_sqlite()\n",
    "print(f\"Total de IDs na lista original: {len(lista_processos)}\")\n",
    "print(f\"IDs já processados e salvos no banco de dados: {len(ids_ja_processados_no_db)}\")\n",
    "\n",
    "# Filtra a lista_processos para rodar apenas os que ainda não estão no DB\n",
    "# Convertendo os IDs da lista_processos para string para comparação consistente\n",
    "lista_processos_pendentes = [str(pid) for pid in lista_processos if str(pid) not in ids_ja_processados_no_db]\n",
    "\n",
    "print(f\"IDs pendentes para processamento: {len(lista_processos_pendentes)}\")\n",
    "\n",
    "respostas_danos_ambientais = [] # Sua lista original para acumular resultados da rodada atual\n"
   ]
  },
  {
   "cell_type": "code",
   "execution_count": 17,
   "id": "5689dfb1",
   "metadata": {},
   "outputs": [
    {
     "name": "stderr",
     "output_type": "stream",
     "text": [
      "Analisando processos pendentes:   0%|          | 0/85 [00:00<?, ?it/s]"
     ]
    },
    {
     "name": "stdout",
     "output_type": "stream",
     "text": [
      "\n",
      "Processando ID: 474474022 | AnexoID: 2344968081 | Link: http://jud-anexos.digesto.com.br/0cacd6d80c499ae25dcb85380a07c3dd.pdf\n"
     ]
    },
    {
     "name": "stderr",
     "output_type": "stream",
     "text": [
      "Analisando processos pendentes:   1%|          | 1/85 [00:06<08:57,  6.40s/it]"
     ]
    },
    {
     "name": "stdout",
     "output_type": "stream",
     "text": [
      "  Processo 474474022 analisado e salvo no banco de dados.\n",
      "\n",
      "Processando ID: 474474806 | AnexoID: 2294638461 | Link: http://jud-anexos.digesto.com.br/90df1f9ac9917f6df4b9f91915b3a8bd.pdf\n"
     ]
    },
    {
     "name": "stderr",
     "output_type": "stream",
     "text": [
      "Analisando processos pendentes:   2%|▏         | 2/85 [00:11<07:55,  5.72s/it]"
     ]
    },
    {
     "name": "stdout",
     "output_type": "stream",
     "text": [
      "  Processo 474474806 analisado e salvo no banco de dados.\n",
      "\n",
      "Processando ID: 682231747 | AnexoID: 1915313002 | Link: http://jud-anexos.digesto.com.br/209b98634c9c4a3f7c83d1c521c5b8d6.pdf\n"
     ]
    },
    {
     "name": "stderr",
     "output_type": "stream",
     "text": [
      "Analisando processos pendentes:   4%|▎         | 3/85 [00:17<07:57,  5.82s/it]"
     ]
    },
    {
     "name": "stdout",
     "output_type": "stream",
     "text": [
      "  Processo 682231747 analisado e salvo no banco de dados.\n",
      "\n",
      "Processando ID: 311524686 | AnexoID: 269166848 | Link: http://jud-anexos.digesto.com.br/7cef4bd654c356d84d7a617351f802cc.pdf\n"
     ]
    },
    {
     "name": "stderr",
     "output_type": "stream",
     "text": [
      "Analisando processos pendentes:   5%|▍         | 4/85 [00:23<07:44,  5.74s/it]"
     ]
    },
    {
     "name": "stdout",
     "output_type": "stream",
     "text": [
      "  Processo 311524686 analisado e salvo no banco de dados.\n",
      "\n",
      "Processando ID: 326977847 | AnexoID: 1526470307 | Link: http://jud-anexos.digesto.com.br/d5d876cd4f1b1b52385f1ec4df9886ba.html\n"
     ]
    },
    {
     "name": "stderr",
     "output_type": "stream",
     "text": [
      "Analisando processos pendentes:   6%|▌         | 5/85 [00:29<07:54,  5.94s/it]"
     ]
    },
    {
     "name": "stdout",
     "output_type": "stream",
     "text": [
      "  Processo 326977847 analisado e salvo no banco de dados.\n",
      "\n",
      "Processando ID: 486374400 | AnexoID: 113620662 | Link: http://jud-anexos.digesto.com.br/24586eb78e174455c03d488d6518e16c.html\n"
     ]
    },
    {
     "name": "stderr",
     "output_type": "stream",
     "text": [
      "Analisando processos pendentes:   7%|▋         | 6/85 [00:34<07:36,  5.78s/it]"
     ]
    },
    {
     "name": "stdout",
     "output_type": "stream",
     "text": [
      "  Processo 486374400 analisado e salvo no banco de dados.\n",
      "\n",
      "Processando ID: 497378463 | AnexoID: 2868300725 | Link: http://jud-anexos.digesto.com.br/be70db0dae0a1d1f18eb65dfd5523e76.html\n"
     ]
    },
    {
     "name": "stderr",
     "output_type": "stream",
     "text": [
      "Analisando processos pendentes:   8%|▊         | 7/85 [00:41<07:48,  6.01s/it]"
     ]
    },
    {
     "name": "stdout",
     "output_type": "stream",
     "text": [
      "  Processo 497378463 analisado e salvo no banco de dados.\n",
      "\n",
      "Processando ID: 435827204 | AnexoID: 2254516518 | Link: http://jud-anexos.digesto.com.br/a322a1e63179ad2a721b9268801dbfb6.pdf\n"
     ]
    },
    {
     "name": "stderr",
     "output_type": "stream",
     "text": [
      "Analisando processos pendentes:   9%|▉         | 8/85 [00:48<08:06,  6.32s/it]"
     ]
    },
    {
     "name": "stdout",
     "output_type": "stream",
     "text": [
      "  Processo 435827204 analisado e salvo no banco de dados.\n",
      "\n",
      "Processando ID: 654920222 | AnexoID: 2583016248 | Link: http://jud-anexos.digesto.com.br/f8941539197bdd583e3bdd448abb2e6c.html\n"
     ]
    },
    {
     "name": "stderr",
     "output_type": "stream",
     "text": [
      "Analisando processos pendentes:  11%|█         | 9/85 [00:54<07:52,  6.21s/it]"
     ]
    },
    {
     "name": "stdout",
     "output_type": "stream",
     "text": [
      "  Processo 654920222 analisado e salvo no banco de dados.\n",
      "\n",
      "Processando ID: 575716037 | AnexoID: 623962457 | Link: http://jud-anexos.digesto.com.br/179ce549bff6f6044d73c9c6f7b54d98.html\n"
     ]
    },
    {
     "name": "stderr",
     "output_type": "stream",
     "text": [
      "Analisando processos pendentes:  12%|█▏        | 10/85 [01:00<07:53,  6.31s/it]"
     ]
    },
    {
     "name": "stdout",
     "output_type": "stream",
     "text": [
      "  Processo 575716037 analisado e salvo no banco de dados.\n",
      "\n",
      "Processando ID: 334295428 | AnexoID: 29932334 | Link: http://jud-anexos.digesto.com.br/e50aea65864c6a6ca7ab8ab06025d54f.pdf\n"
     ]
    },
    {
     "name": "stderr",
     "output_type": "stream",
     "text": [
      "Analisando processos pendentes:  13%|█▎        | 11/85 [01:06<07:38,  6.20s/it]"
     ]
    },
    {
     "name": "stdout",
     "output_type": "stream",
     "text": [
      "  Processo 334295428 analisado e salvo no banco de dados.\n",
      "\n",
      "Processando ID: 576427068 | AnexoID: 1496081414 | Link: http://jud-anexos.digesto.com.br/4a966dbc383fe11597026e3ca7432c93.pdf\n"
     ]
    },
    {
     "name": "stderr",
     "output_type": "stream",
     "text": [
      "Analisando processos pendentes:  14%|█▍        | 12/85 [01:13<07:31,  6.18s/it]"
     ]
    },
    {
     "name": "stdout",
     "output_type": "stream",
     "text": [
      "  Processo 576427068 analisado e salvo no banco de dados.\n",
      "\n",
      "Processando ID: 653342143 | AnexoID: 2037844918 | Link: http://jud-anexos.digesto.com.br/e448073edc85a7c3dd335c89e2c64c2e.html\n"
     ]
    },
    {
     "name": "stderr",
     "output_type": "stream",
     "text": [
      "Analisando processos pendentes:  15%|█▌        | 13/85 [01:19<07:33,  6.30s/it]"
     ]
    },
    {
     "name": "stdout",
     "output_type": "stream",
     "text": [
      "  Processo 653342143 analisado e salvo no banco de dados.\n",
      "\n",
      "Processando ID: 690385401 | AnexoID: 2349193455 | Link: http://jud-anexos.digesto.com.br/4af9d082c1a6dd5841a9c871eb76b26b.html\n"
     ]
    },
    {
     "name": "stderr",
     "output_type": "stream",
     "text": [
      "Analisando processos pendentes:  16%|█▋        | 14/85 [01:27<07:53,  6.67s/it]"
     ]
    },
    {
     "name": "stdout",
     "output_type": "stream",
     "text": [
      "  Processo 690385401 analisado e salvo no banco de dados.\n",
      "\n",
      "Processando ID: 690454792 | AnexoID: 2026165564 | Link: http://jud-anexos.digesto.com.br/cbdda0e55f226a6f1eac06b4a819d143.html\n"
     ]
    },
    {
     "name": "stderr",
     "output_type": "stream",
     "text": [
      "Analisando processos pendentes:  18%|█▊        | 15/85 [01:33<07:42,  6.61s/it]"
     ]
    },
    {
     "name": "stdout",
     "output_type": "stream",
     "text": [
      "  Processo 690454792 analisado e salvo no banco de dados.\n",
      "\n",
      "Processando ID: 665118465 | AnexoID: 1521765137 | Link: http://jud-anexos.digesto.com.br/afe9bdf6acaff828b37f419d446ff634.html\n"
     ]
    },
    {
     "name": "stderr",
     "output_type": "stream",
     "text": [
      "Analisando processos pendentes:  19%|█▉        | 16/85 [01:40<07:35,  6.60s/it]"
     ]
    },
    {
     "name": "stdout",
     "output_type": "stream",
     "text": [
      "  Processo 665118465 analisado e salvo no banco de dados.\n",
      "\n",
      "Processando ID: 767093657 | AnexoID: 2846753752 | Link: http://jud-anexos.digesto.com.br/e748a98ec567a8446cf05d6974c9d6d5.html\n"
     ]
    },
    {
     "name": "stderr",
     "output_type": "stream",
     "text": [
      "Analisando processos pendentes:  20%|██        | 17/85 [01:46<07:13,  6.37s/it]"
     ]
    },
    {
     "name": "stdout",
     "output_type": "stream",
     "text": [
      "  Processo 767093657 analisado e salvo no banco de dados.\n",
      "\n",
      "Processando ID: 688521486 | AnexoID: 1993728599 | Link: http://jud-anexos.digesto.com.br/02597b35d5e8ece30d36627f30550386.html\n"
     ]
    },
    {
     "name": "stderr",
     "output_type": "stream",
     "text": [
      "Analisando processos pendentes:  21%|██        | 18/85 [01:52<07:01,  6.29s/it]"
     ]
    },
    {
     "name": "stdout",
     "output_type": "stream",
     "text": [
      "  Processo 688521486 analisado e salvo no banco de dados.\n",
      "\n",
      "Processando ID: 689986644 | AnexoID: 2014041727 | Link: http://jud-anexos.digesto.com.br/7d54d2fd28f74c625bb2157b3d507fe6.html\n"
     ]
    },
    {
     "name": "stderr",
     "output_type": "stream",
     "text": [
      "Analisando processos pendentes:  22%|██▏       | 19/85 [01:57<06:38,  6.04s/it]"
     ]
    },
    {
     "name": "stdout",
     "output_type": "stream",
     "text": [
      "  Processo 689986644 analisado e salvo no banco de dados.\n",
      "\n",
      "Processando ID: 690015926 | AnexoID: 2015181666 | Link: http://jud-anexos.digesto.com.br/fab3efa39a57f1d1a8bd1457980931ab.html\n"
     ]
    },
    {
     "name": "stderr",
     "output_type": "stream",
     "text": [
      "Analisando processos pendentes:  24%|██▎       | 20/85 [02:03<06:39,  6.15s/it]"
     ]
    },
    {
     "name": "stdout",
     "output_type": "stream",
     "text": [
      "  Processo 690015926 analisado e salvo no banco de dados.\n",
      "\n",
      "Processando ID: 474475228 | AnexoID: 1299854584 | Link: http://jud-anexos.digesto.com.br/eabd85570883cfb002cdd7cd4b360502.pdf\n"
     ]
    },
    {
     "name": "stderr",
     "output_type": "stream",
     "text": [
      "Analisando processos pendentes:  25%|██▍       | 21/85 [02:11<06:56,  6.51s/it]"
     ]
    },
    {
     "name": "stdout",
     "output_type": "stream",
     "text": [
      "  Processo 474475228 analisado e salvo no banco de dados.\n",
      "\n",
      "Processando ID: 500808529 | AnexoID: 2711038751 | Link: http://jud-anexos.digesto.com.br/7a40f6e8360a2ab863c48335ba43f58f.html\n"
     ]
    },
    {
     "name": "stderr",
     "output_type": "stream",
     "text": [
      "Analisando processos pendentes:  26%|██▌       | 22/85 [02:19<07:25,  7.07s/it]"
     ]
    },
    {
     "name": "stdout",
     "output_type": "stream",
     "text": [
      "  Processo 500808529 analisado e salvo no banco de dados.\n",
      "\n",
      "Processando ID: 574409945 | AnexoID: 370406502 | Link: http://jud-anexos.digesto.com.br/0b30088042a5e4b14b46f0c9114aeee0.html\n"
     ]
    },
    {
     "name": "stderr",
     "output_type": "stream",
     "text": [
      "Analisando processos pendentes:  27%|██▋       | 23/85 [02:26<07:05,  6.86s/it]"
     ]
    },
    {
     "name": "stdout",
     "output_type": "stream",
     "text": [
      "  Processo 574409945 analisado e salvo no banco de dados.\n",
      "\n",
      "Processando ID: 424134055 | AnexoID: 1419588918 | Link: http://jud-anexos.digesto.com.br/ef958017381814c5e3e7f0acdee348d8.html\n"
     ]
    },
    {
     "name": "stderr",
     "output_type": "stream",
     "text": [
      "Analisando processos pendentes:  28%|██▊       | 24/85 [02:32<06:53,  6.78s/it]"
     ]
    },
    {
     "name": "stdout",
     "output_type": "stream",
     "text": [
      "  Processo 424134055 analisado e salvo no banco de dados.\n",
      "\n",
      "Processando ID: 583479232 | AnexoID: 850145407 | Link: http://jud-anexos.digesto.com.br/d538a5f227eb2f85ed7c500bcc990b84.html\n"
     ]
    },
    {
     "name": "stderr",
     "output_type": "stream",
     "text": [
      "Analisando processos pendentes:  29%|██▉       | 25/85 [02:38<06:33,  6.55s/it]"
     ]
    },
    {
     "name": "stdout",
     "output_type": "stream",
     "text": [
      "  Processo 583479232 analisado e salvo no banco de dados.\n",
      "\n",
      "Processando ID: 743367312 | AnexoID: 2467803225 | Link: http://jud-anexos.digesto.com.br/d53473669e32bba5d53f01f1275c456c.html\n"
     ]
    },
    {
     "name": "stderr",
     "output_type": "stream",
     "text": [
      "Analisando processos pendentes:  31%|███       | 26/85 [02:44<06:20,  6.45s/it]"
     ]
    },
    {
     "name": "stdout",
     "output_type": "stream",
     "text": [
      "  Processo 743367312 analisado e salvo no banco de dados.\n",
      "\n",
      "Processando ID: 760637422 | AnexoID: 2686559209 | Link: http://jud-anexos.digesto.com.br/c2838924671d21e2205937f14516cc52.html\n"
     ]
    },
    {
     "name": "stderr",
     "output_type": "stream",
     "text": [
      "Analisando processos pendentes:  32%|███▏      | 27/85 [02:51<06:18,  6.53s/it]"
     ]
    },
    {
     "name": "stdout",
     "output_type": "stream",
     "text": [
      "  Processo 760637422 analisado e salvo no banco de dados.\n",
      "\n",
      "Processando ID: 474478539 | AnexoID: 1401610798 | Link: http://jud-anexos.digesto.com.br/bb16177ec388ee88c102e0459cd3daf0.pdf\n"
     ]
    },
    {
     "name": "stderr",
     "output_type": "stream",
     "text": [
      "Analisando processos pendentes:  33%|███▎      | 28/85 [02:56<05:49,  6.13s/it]"
     ]
    },
    {
     "name": "stdout",
     "output_type": "stream",
     "text": [
      "  Processo 474478539 analisado e salvo no banco de dados.\n",
      "\n",
      "Processando ID: 474480007 | AnexoID: 1404986003 | Link: http://jud-anexos.digesto.com.br/466086751c0b018d394268a9d4216e02.pdf\n"
     ]
    },
    {
     "name": "stderr",
     "output_type": "stream",
     "text": [
      "Analisando processos pendentes:  34%|███▍      | 29/85 [03:02<05:38,  6.04s/it]"
     ]
    },
    {
     "name": "stdout",
     "output_type": "stream",
     "text": [
      "  Processo 474480007 analisado e salvo no banco de dados.\n",
      "\n",
      "Processando ID: 474480479 | AnexoID: 1965108171 | Link: http://jud-anexos.digesto.com.br/73fd817299d1c63c88854034bfcc8a4a.pdf\n"
     ]
    },
    {
     "name": "stderr",
     "output_type": "stream",
     "text": [
      "Analisando processos pendentes:  35%|███▌      | 30/85 [03:08<05:26,  5.94s/it]"
     ]
    },
    {
     "name": "stdout",
     "output_type": "stream",
     "text": [
      "  Processo 474480479 analisado e salvo no banco de dados.\n",
      "\n",
      "Processando ID: 474480716 | AnexoID: 1470466952 | Link: http://jud-anexos.digesto.com.br/cc45996fbc5147e18ac5b233bb930927.pdf\n"
     ]
    },
    {
     "name": "stderr",
     "output_type": "stream",
     "text": [
      "Analisando processos pendentes:  36%|███▋      | 31/85 [03:14<05:17,  5.88s/it]"
     ]
    },
    {
     "name": "stdout",
     "output_type": "stream",
     "text": [
      "  Processo 474480716 analisado e salvo no banco de dados.\n",
      "\n",
      "Processando ID: 481195795 | AnexoID: 2425495190 | Link: http://jud-anexos.digesto.com.br/bb0f8570928008e3328bcb8fe3347ff0.pdf\n"
     ]
    },
    {
     "name": "stderr",
     "output_type": "stream",
     "text": [
      "Analisando processos pendentes:  38%|███▊      | 32/85 [03:20<05:14,  5.94s/it]"
     ]
    },
    {
     "name": "stdout",
     "output_type": "stream",
     "text": [
      "  Processo 481195795 analisado e salvo no banco de dados.\n",
      "\n",
      "Processando ID: 566486271 | AnexoID: 2277929720 | Link: http://jud-anexos.digesto.com.br/385da7ae2e6c0c651b4d4c0940472edf.html\n"
     ]
    },
    {
     "name": "stderr",
     "output_type": "stream",
     "text": [
      "Analisando processos pendentes:  39%|███▉      | 33/85 [03:25<05:06,  5.89s/it]"
     ]
    },
    {
     "name": "stdout",
     "output_type": "stream",
     "text": [
      "  Processo 566486271 analisado e salvo no banco de dados.\n",
      "\n",
      "Processando ID: 474496810 | AnexoID: 1347196424 | Link: http://jud-anexos.digesto.com.br/a3b072000b3601095e081cb7f4f29d7a.pdf\n"
     ]
    },
    {
     "name": "stderr",
     "output_type": "stream",
     "text": [
      "Analisando processos pendentes:  40%|████      | 34/85 [03:32<05:07,  6.03s/it]"
     ]
    },
    {
     "name": "stdout",
     "output_type": "stream",
     "text": [
      "  Processo 474496810 analisado e salvo no banco de dados.\n",
      "\n",
      "Processando ID: 573625704 | AnexoID: 1368197794 | Link: http://jud-anexos.digesto.com.br/c4ef928d4c5550778b98802ffa9115ec.pdf\n"
     ]
    },
    {
     "name": "stderr",
     "output_type": "stream",
     "text": [
      "Analisando processos pendentes:  41%|████      | 35/85 [03:38<05:05,  6.10s/it]"
     ]
    },
    {
     "name": "stdout",
     "output_type": "stream",
     "text": [
      "  Processo 573625704 analisado e salvo no banco de dados.\n",
      "\n",
      "Processando ID: 612465137 | AnexoID: 590939454 | Link: http://jud-anexos.digesto.com.br/464f73c7fc4d8f0d46dab27b4052c5e8.html\n"
     ]
    },
    {
     "name": "stderr",
     "output_type": "stream",
     "text": [
      "Analisando processos pendentes:  42%|████▏     | 36/85 [03:45<05:16,  6.47s/it]"
     ]
    },
    {
     "name": "stdout",
     "output_type": "stream",
     "text": [
      "  Processo 612465137 analisado e salvo no banco de dados.\n",
      "\n",
      "Processando ID: 377239408 | AnexoID: 2313742587 | Link: http://jud-anexos.digesto.com.br/50f8841326f8a8fe3f0b97ae189e21f2.pdf\n"
     ]
    },
    {
     "name": "stderr",
     "output_type": "stream",
     "text": [
      "Analisando processos pendentes:  44%|████▎     | 37/85 [03:51<05:02,  6.31s/it]"
     ]
    },
    {
     "name": "stdout",
     "output_type": "stream",
     "text": [
      "  Processo 377239408 analisado e salvo no banco de dados.\n",
      "\n",
      "Processando ID: 582564055 | AnexoID: 1186043174 | Link: http://jud-anexos.digesto.com.br/ee8d4ccd9502acf493dddad0ff624099.pdf\n"
     ]
    },
    {
     "name": "stderr",
     "output_type": "stream",
     "text": [
      "Analisando processos pendentes:  45%|████▍     | 38/85 [03:58<04:55,  6.28s/it]"
     ]
    },
    {
     "name": "stdout",
     "output_type": "stream",
     "text": [
      "  Processo 582564055 analisado e salvo no banco de dados.\n",
      "\n",
      "Processando ID: 458608920 | AnexoID: 2178216621 | Link: http://jud-anexos.digesto.com.br/413fbebff2bec44a857c5b3f74e93c13.pdf\n"
     ]
    },
    {
     "name": "stderr",
     "output_type": "stream",
     "text": [
      "Analisando processos pendentes:  46%|████▌     | 39/85 [04:03<04:41,  6.13s/it]"
     ]
    },
    {
     "name": "stdout",
     "output_type": "stream",
     "text": [
      "  Processo 458608920 analisado e salvo no banco de dados.\n",
      "\n",
      "Processando ID: 591696496 | AnexoID: 1517807400 | Link: http://jud-anexos.digesto.com.br/ec06640f48df305bd720a3462f3e422d.pdf\n"
     ]
    },
    {
     "name": "stderr",
     "output_type": "stream",
     "text": [
      "Analisando processos pendentes:  47%|████▋     | 40/85 [04:09<04:27,  5.94s/it]"
     ]
    },
    {
     "name": "stdout",
     "output_type": "stream",
     "text": [
      "  Processo 591696496 analisado e salvo no banco de dados.\n",
      "\n",
      "Processando ID: 687490579 | AnexoID: 1980171525 | Link: http://jud-anexos.digesto.com.br/b67f279f0e5ad8f369817a33db0ae4d5.html\n"
     ]
    },
    {
     "name": "stderr",
     "output_type": "stream",
     "text": [
      "Analisando processos pendentes:  48%|████▊     | 41/85 [04:17<04:51,  6.63s/it]"
     ]
    },
    {
     "name": "stdout",
     "output_type": "stream",
     "text": [
      "  Processo 687490579 analisado e salvo no banco de dados.\n",
      "\n",
      "Processando ID: 690025576 | AnexoID: 2594143692 | Link: http://jud-anexos.digesto.com.br/b6f974be79028fffcb09365724838968.pdf\n"
     ]
    },
    {
     "name": "stderr",
     "output_type": "stream",
     "text": [
      "Analisando processos pendentes:  49%|████▉     | 42/85 [04:28<05:40,  7.92s/it]"
     ]
    },
    {
     "name": "stdout",
     "output_type": "stream",
     "text": [
      "  Processo 690025576 analisado e salvo no banco de dados.\n",
      "\n",
      "Processando ID: 725696269 | AnexoID: 2247286075 | Link: http://jud-anexos.digesto.com.br/ad976e187beb75a00056c1c798c5e05c.html\n"
     ]
    },
    {
     "name": "stderr",
     "output_type": "stream",
     "text": [
      "Analisando processos pendentes:  51%|█████     | 43/85 [04:34<05:11,  7.42s/it]"
     ]
    },
    {
     "name": "stdout",
     "output_type": "stream",
     "text": [
      "  Processo 725696269 analisado e salvo no banco de dados.\n",
      "\n",
      "Processando ID: 739843495 | AnexoID: 2407761913 | Link: http://jud-anexos.digesto.com.br/e7a084af642050575078635fd07a8207.html\n"
     ]
    },
    {
     "name": "stderr",
     "output_type": "stream",
     "text": [
      "Analisando processos pendentes:  52%|█████▏    | 44/85 [04:42<05:02,  7.38s/it]"
     ]
    },
    {
     "name": "stdout",
     "output_type": "stream",
     "text": [
      "  Processo 739843495 analisado e salvo no banco de dados.\n",
      "\n",
      "Processando ID: 743282827 | AnexoID: 2467063551 | Link: http://jud-anexos.digesto.com.br/b4aa31f9b5ad3d2e7d87f1d44e2c22c6.html\n"
     ]
    },
    {
     "name": "stderr",
     "output_type": "stream",
     "text": [
      "Analisando processos pendentes:  53%|█████▎    | 45/85 [04:47<04:36,  6.91s/it]"
     ]
    },
    {
     "name": "stdout",
     "output_type": "stream",
     "text": [
      "  Processo 743282827 analisado e salvo no banco de dados.\n",
      "\n",
      "Processando ID: 585020990 | AnexoID: 440962040 | Link: http://jud-anexos.digesto.com.br/f4db43bfa83c11e044e88e74b31f64c8.html\n"
     ]
    },
    {
     "name": "stderr",
     "output_type": "stream",
     "text": [
      "Analisando processos pendentes:  54%|█████▍    | 46/85 [04:54<04:25,  6.81s/it]"
     ]
    },
    {
     "name": "stdout",
     "output_type": "stream",
     "text": [
      "  Processo 585020990 analisado e salvo no banco de dados.\n",
      "\n",
      "Processando ID: 604372792 | AnexoID: 2374549787 | Link: http://jud-anexos.digesto.com.br/007e2b540150a8a72dffb18e31979031.pdf\n"
     ]
    },
    {
     "name": "stderr",
     "output_type": "stream",
     "text": [
      "Analisando processos pendentes:  55%|█████▌    | 47/85 [05:01<04:25,  7.00s/it]"
     ]
    },
    {
     "name": "stdout",
     "output_type": "stream",
     "text": [
      "  Processo 604372792 analisado e salvo no banco de dados.\n",
      "\n",
      "Processando ID: 628707969 | AnexoID: 955796930 | Link: http://jud-anexos.digesto.com.br/253e356c5b91632c3b73619a56f1767f.pdf\n"
     ]
    },
    {
     "name": "stderr",
     "output_type": "stream",
     "text": [
      "Analisando processos pendentes:  56%|█████▋    | 48/85 [05:09<04:27,  7.23s/it]"
     ]
    },
    {
     "name": "stdout",
     "output_type": "stream",
     "text": [
      "  Processo 628707969 analisado e salvo no banco de dados.\n",
      "\n",
      "Processando ID: 739149564 | AnexoID: 2389735128 | Link: http://jud-anexos.digesto.com.br/c1d25a940c174134e395b6b94dd1950d.pdf\n"
     ]
    },
    {
     "name": "stderr",
     "output_type": "stream",
     "text": [
      "Analisando processos pendentes:  58%|█████▊    | 49/85 [05:15<04:03,  6.75s/it]"
     ]
    },
    {
     "name": "stdout",
     "output_type": "stream",
     "text": [
      "  Processo 739149564 analisado e salvo no banco de dados.\n",
      "\n",
      "Processando ID: 457057978 | AnexoID: 649034795 | Link: http://jud-anexos.digesto.com.br/b0239a024ea97a4776993220c67faced.pdf\n"
     ]
    },
    {
     "name": "stderr",
     "output_type": "stream",
     "text": [
      "Analisando processos pendentes:  59%|█████▉    | 50/85 [05:22<03:58,  6.82s/it]"
     ]
    },
    {
     "name": "stdout",
     "output_type": "stream",
     "text": [
      "  Processo 457057978 analisado e salvo no banco de dados.\n",
      "\n",
      "Processando ID: 582962488 | AnexoID: 631976017 | Link: http://jud-anexos.digesto.com.br/51bb3bd00d9fb701967f9d974589ee9c.pdf\n"
     ]
    },
    {
     "name": "stderr",
     "output_type": "stream",
     "text": [
      "Analisando processos pendentes:  60%|██████    | 51/85 [05:28<03:50,  6.77s/it]"
     ]
    },
    {
     "name": "stdout",
     "output_type": "stream",
     "text": [
      "  Processo 582962488 analisado e salvo no banco de dados.\n",
      "\n",
      "Processando ID: 619459347 | AnexoID: 1249837920 | Link: http://jud-anexos.digesto.com.br/23e081a037c71eaef0985594bbf382b5.pdf\n"
     ]
    },
    {
     "name": "stderr",
     "output_type": "stream",
     "text": [
      "Analisando processos pendentes:  61%|██████    | 52/85 [05:38<04:07,  7.51s/it]"
     ]
    },
    {
     "name": "stdout",
     "output_type": "stream",
     "text": [
      "  Processo 619459347 analisado e salvo no banco de dados.\n",
      "\n",
      "Processando ID: 740609736 | AnexoID: 2428672605 | Link: http://jud-anexos.digesto.com.br/225962d7d1434057c48cfe1e5124b9fe.pdf\n"
     ]
    },
    {
     "name": "stderr",
     "output_type": "stream",
     "text": [
      "Analisando processos pendentes:  62%|██████▏   | 53/85 [05:46<04:06,  7.69s/it]"
     ]
    },
    {
     "name": "stdout",
     "output_type": "stream",
     "text": [
      "  Processo 740609736 analisado e salvo no banco de dados.\n",
      "\n",
      "Processando ID: 641242805 | AnexoID: 1088560433 | Link: http://jud-anexos.digesto.com.br/e1d2d8461e91b4e7926b9fac09f65173.pdf\n"
     ]
    },
    {
     "name": "stderr",
     "output_type": "stream",
     "text": [
      "Analisando processos pendentes:  64%|██████▎   | 54/85 [05:52<03:41,  7.16s/it]"
     ]
    },
    {
     "name": "stdout",
     "output_type": "stream",
     "text": [
      "  Processo 641242805 analisado e salvo no banco de dados.\n",
      "\n",
      "Processando ID: 474475878 | AnexoID: 113630275 | Link: http://jud-anexos.digesto.com.br/6a3043df0bf815aa7e0435f30440cb90.html\n"
     ]
    },
    {
     "name": "stderr",
     "output_type": "stream",
     "text": [
      "Analisando processos pendentes:  65%|██████▍   | 55/85 [05:57<03:17,  6.59s/it]"
     ]
    },
    {
     "name": "stdout",
     "output_type": "stream",
     "text": [
      "  Processo 474475878 analisado e salvo no banco de dados.\n",
      "\n",
      "Processando ID: 501759273 | AnexoID: 263641804 | Link: http://jud-anexos.digesto.com.br/1629910174602fcf348b92705bab5d70.html\n"
     ]
    },
    {
     "name": "stderr",
     "output_type": "stream",
     "text": [
      "Analisando processos pendentes:  66%|██████▌   | 56/85 [06:03<03:02,  6.31s/it]"
     ]
    },
    {
     "name": "stdout",
     "output_type": "stream",
     "text": [
      "  Processo 501759273 analisado e salvo no banco de dados.\n",
      "\n",
      "Processando ID: 742754132 | AnexoID: 2461927065 | Link: http://jud-anexos.digesto.com.br/b40d332969a6a6e3da1565f692a3b97f.pdf\n"
     ]
    },
    {
     "name": "stderr",
     "output_type": "stream",
     "text": [
      "Analisando processos pendentes:  67%|██████▋   | 57/85 [06:09<02:59,  6.42s/it]"
     ]
    },
    {
     "name": "stdout",
     "output_type": "stream",
     "text": [
      "  Processo 742754132 analisado e salvo no banco de dados.\n",
      "\n",
      "Processando ID: 575457554 | AnexoID: 2332883980 | Link: http://jud-anexos.digesto.com.br/918ce610fb88deabff8e3128d4f3fc8f.html\n"
     ]
    },
    {
     "name": "stderr",
     "output_type": "stream",
     "text": [
      "Analisando processos pendentes:  68%|██████▊   | 58/85 [06:15<02:50,  6.33s/it]"
     ]
    },
    {
     "name": "stdout",
     "output_type": "stream",
     "text": [
      "  Processo 575457554 analisado e salvo no banco de dados.\n",
      "\n",
      "Processando ID: 566607490 | AnexoID: 374400641 | Link: http://jud-anexos.digesto.com.br/78e0a7e8929f29ad7144c6dc87cded64.pdf\n"
     ]
    },
    {
     "name": "stderr",
     "output_type": "stream",
     "text": [
      "Analisando processos pendentes:  69%|██████▉   | 59/85 [06:22<02:49,  6.51s/it]"
     ]
    },
    {
     "name": "stdout",
     "output_type": "stream",
     "text": [
      "  Processo 566607490 analisado e salvo no banco de dados.\n",
      "\n",
      "Processando ID: 629134048 | AnexoID: 1384873445 | Link: http://jud-anexos.digesto.com.br/a57439518fb8127b236964cce357313a.pdf\n"
     ]
    },
    {
     "name": "stderr",
     "output_type": "stream",
     "text": [
      "Analisando processos pendentes:  71%|███████   | 60/85 [06:29<02:44,  6.60s/it]"
     ]
    },
    {
     "name": "stdout",
     "output_type": "stream",
     "text": [
      "  Processo 629134048 analisado e salvo no banco de dados.\n",
      "\n",
      "Processando ID: 677174584 | AnexoID: 1853205977 | Link: http://jud-anexos.digesto.com.br/f6e75247560187e60f2fe83e2bcdd0c1.pdf\n"
     ]
    },
    {
     "name": "stderr",
     "output_type": "stream",
     "text": [
      "Analisando processos pendentes:  72%|███████▏  | 61/85 [06:35<02:36,  6.51s/it]"
     ]
    },
    {
     "name": "stdout",
     "output_type": "stream",
     "text": [
      "  Processo 677174584 analisado e salvo no banco de dados.\n",
      "\n",
      "Processando ID: 750879243 | AnexoID: 2510342044 | Link: http://jud-anexos.digesto.com.br/606c7db79d938c8923775da581953061.pdf\n"
     ]
    },
    {
     "name": "stderr",
     "output_type": "stream",
     "text": [
      "Analisando processos pendentes:  73%|███████▎  | 62/85 [06:43<02:34,  6.71s/it]"
     ]
    },
    {
     "name": "stdout",
     "output_type": "stream",
     "text": [
      "  Processo 750879243 analisado e salvo no banco de dados.\n",
      "\n",
      "Processando ID: 769926313 | AnexoID: 2935865691 | Link: http://jud-anexos.digesto.com.br/0397b843462ae8b9e0f4d1e4496c591b.pdf\n"
     ]
    },
    {
     "name": "stderr",
     "output_type": "stream",
     "text": [
      "Analisando processos pendentes:  74%|███████▍  | 63/85 [06:52<02:42,  7.40s/it]"
     ]
    },
    {
     "name": "stdout",
     "output_type": "stream",
     "text": [
      "  Processo 769926313 analisado e salvo no banco de dados.\n",
      "\n",
      "Processando ID: 488267136 | AnexoID: 1354344423 | Link: http://jud-anexos.digesto.com.br/20b9e19663bbeb7994f1f22ab2aac75f.pdf\n"
     ]
    },
    {
     "name": "stderr",
     "output_type": "stream",
     "text": [
      "Analisando processos pendentes:  75%|███████▌  | 64/85 [06:59<02:32,  7.28s/it]"
     ]
    },
    {
     "name": "stdout",
     "output_type": "stream",
     "text": [
      "  Processo 488267136 analisado e salvo no banco de dados.\n",
      "\n",
      "Processando ID: 555074680 | AnexoID: 2306967129 | Link: http://jud-anexos.digesto.com.br/756f20f73698f48c5f2678b11cb1eeee.pdf\n"
     ]
    },
    {
     "name": "stderr",
     "output_type": "stream",
     "text": [
      "Analisando processos pendentes:  76%|███████▋  | 65/85 [07:12<02:59,  8.98s/it]"
     ]
    },
    {
     "name": "stdout",
     "output_type": "stream",
     "text": [
      "  Processo 555074680 analisado e salvo no banco de dados.\n",
      "\n",
      "Processando ID: 588494731 | AnexoID: 950570004 | Link: http://jud-anexos.digesto.com.br/f602ece2885b23a2d261faa954612f31.pdf\n"
     ]
    },
    {
     "name": "stderr",
     "output_type": "stream",
     "text": [
      "Analisando processos pendentes:  78%|███████▊  | 66/85 [07:18<02:38,  8.35s/it]"
     ]
    },
    {
     "name": "stdout",
     "output_type": "stream",
     "text": [
      "  Processo 588494731 analisado e salvo no banco de dados.\n",
      "\n",
      "Processando ID: 326186644 | AnexoID: 657568057 | Link: http://jud-anexos.digesto.com.br/4f696a2b03b85fcc919fa1bd11e03ad4.pdf\n"
     ]
    },
    {
     "name": "stderr",
     "output_type": "stream",
     "text": [
      "Analisando processos pendentes:  79%|███████▉  | 67/85 [07:25<02:21,  7.88s/it]"
     ]
    },
    {
     "name": "stdout",
     "output_type": "stream",
     "text": [
      "  Processo 326186644 analisado e salvo no banco de dados.\n",
      "\n",
      "Processando ID: 337185573 | AnexoID: 2707272825 | Link: http://jud-anexos.digesto.com.br/da57e9dcc7947457a02763e76c400693.pdf\n"
     ]
    },
    {
     "name": "stderr",
     "output_type": "stream",
     "text": [
      "Analisando processos pendentes:  80%|████████  | 68/85 [07:32<02:10,  7.68s/it]"
     ]
    },
    {
     "name": "stdout",
     "output_type": "stream",
     "text": [
      "  Processo 337185573 analisado e salvo no banco de dados.\n",
      "\n",
      "Processando ID: 470750585 | AnexoID: 1247618889 | Link: http://jud-anexos.digesto.com.br/6006daf474fb687c6f72f2d3eff475e1.pdf\n"
     ]
    },
    {
     "name": "stderr",
     "output_type": "stream",
     "text": [
      "Analisando processos pendentes:  81%|████████  | 69/85 [07:40<02:02,  7.63s/it]"
     ]
    },
    {
     "name": "stdout",
     "output_type": "stream",
     "text": [
      "  Processo 470750585 analisado e salvo no banco de dados.\n",
      "\n",
      "Processando ID: 489031567 | AnexoID: 617098361 | Link: http://jud-anexos.digesto.com.br/9dfc361ae0bd01f226b5ee183cbdc006.pdf\n"
     ]
    },
    {
     "name": "stderr",
     "output_type": "stream",
     "text": [
      "Analisando processos pendentes:  82%|████████▏ | 70/85 [07:48<01:55,  7.67s/it]"
     ]
    },
    {
     "name": "stdout",
     "output_type": "stream",
     "text": [
      "  Processo 489031567 analisado e salvo no banco de dados.\n",
      "\n",
      "Processando ID: 513252771 | AnexoID: 324201926 | Link: http://jud-anexos.digesto.com.br/9369009ec75dbf5af1f7a8dad32eadcb.pdf\n"
     ]
    },
    {
     "name": "stderr",
     "output_type": "stream",
     "text": [
      "Analisando processos pendentes:  84%|████████▎ | 71/85 [07:54<01:41,  7.23s/it]"
     ]
    },
    {
     "name": "stdout",
     "output_type": "stream",
     "text": [
      "  Processo 513252771 analisado e salvo no banco de dados.\n",
      "\n",
      "Processando ID: 543295689 | AnexoID: 854024561 | Link: http://jud-anexos.digesto.com.br/a90f3642c268bdf1c89bd998366bad1e.pdf\n"
     ]
    },
    {
     "name": "stderr",
     "output_type": "stream",
     "text": [
      "Analisando processos pendentes:  85%|████████▍ | 72/85 [08:00<01:30,  6.95s/it]"
     ]
    },
    {
     "name": "stdout",
     "output_type": "stream",
     "text": [
      "  Processo 543295689 analisado e salvo no banco de dados.\n",
      "\n",
      "Processando ID: 652549310 | AnexoID: 1353334462 | Link: http://jud-anexos.digesto.com.br/76754de63b532d7a1322ddc783dfcdf0.pdf\n"
     ]
    },
    {
     "name": "stderr",
     "output_type": "stream",
     "text": [
      "Analisando processos pendentes:  86%|████████▌ | 73/85 [08:11<01:37,  8.10s/it]"
     ]
    },
    {
     "name": "stdout",
     "output_type": "stream",
     "text": [
      "  Processo 652549310 analisado e salvo no banco de dados.\n",
      "\n",
      "Processando ID: 488722568 | AnexoID: 116536318 | Link: http://jud-anexos.digesto.com.br/a036ae039c24b84949a6402d160caa69.pdf\n"
     ]
    },
    {
     "name": "stderr",
     "output_type": "stream",
     "text": [
      "Analisando processos pendentes:  87%|████████▋ | 74/85 [08:17<01:21,  7.45s/it]"
     ]
    },
    {
     "name": "stdout",
     "output_type": "stream",
     "text": [
      "  Processo 488722568 analisado e salvo no banco de dados.\n",
      "\n",
      "Processando ID: 626678210 | AnexoID: 1317806107 | Link: http://jud-anexos.digesto.com.br/8608a63b4b18e4c8661ad3f940a8dd06.pdf\n"
     ]
    },
    {
     "name": "stderr",
     "output_type": "stream",
     "text": [
      "Analisando processos pendentes:  88%|████████▊ | 75/85 [08:23<01:10,  7.07s/it]"
     ]
    },
    {
     "name": "stdout",
     "output_type": "stream",
     "text": [
      "  Processo 626678210 analisado e salvo no banco de dados.\n",
      "\n",
      "Processando ID: 650467080 | AnexoID: 1306456162 | Link: http://jud-anexos.digesto.com.br/990b5e04f51f93499d9e5e6f68959963.pdf\n"
     ]
    },
    {
     "name": "stderr",
     "output_type": "stream",
     "text": [
      "Analisando processos pendentes:  89%|████████▉ | 76/85 [08:29<01:00,  6.72s/it]"
     ]
    },
    {
     "name": "stdout",
     "output_type": "stream",
     "text": [
      "  Processo 650467080 analisado e salvo no banco de dados.\n",
      "\n",
      "Processando ID: 612546932 | AnexoID: 1280788716 | Link: http://jud-anexos.digesto.com.br/c3d0e5109b664160a76a255a5b0e23e3.pdf\n"
     ]
    },
    {
     "name": "stderr",
     "output_type": "stream",
     "text": [
      "Analisando processos pendentes:  91%|█████████ | 77/85 [08:35<00:52,  6.55s/it]"
     ]
    },
    {
     "name": "stdout",
     "output_type": "stream",
     "text": [
      "  Processo 612546932 analisado e salvo no banco de dados.\n",
      "\n",
      "Processando ID: 643651575 | AnexoID: 1148584278 | Link: http://jud-anexos.digesto.com.br/f4e7744f1ff466f9dc4b5dd3e2a19ec8.pdf\n"
     ]
    },
    {
     "name": "stderr",
     "output_type": "stream",
     "text": [
      "Analisando processos pendentes:  92%|█████████▏| 78/85 [08:42<00:46,  6.69s/it]"
     ]
    },
    {
     "name": "stdout",
     "output_type": "stream",
     "text": [
      "  Processo 643651575 analisado e salvo no banco de dados.\n",
      "\n",
      "Processando ID: 701233073 | AnexoID: 2124556674 | Link: http://jud-anexos.digesto.com.br/7293071fe37ba77d19e67cf4fddc6f17.pdf\n"
     ]
    },
    {
     "name": "stderr",
     "output_type": "stream",
     "text": [
      "Analisando processos pendentes:  93%|█████████▎| 79/85 [08:49<00:40,  6.69s/it]"
     ]
    },
    {
     "name": "stdout",
     "output_type": "stream",
     "text": [
      "  Processo 701233073 analisado e salvo no banco de dados.\n",
      "\n",
      "Processando ID: 477293700 | AnexoID: 1440432131 | Link: http://jud-anexos.digesto.com.br/70aeaf7e20395d8aa0642ff7d5aada53.pdf\n"
     ]
    },
    {
     "name": "stderr",
     "output_type": "stream",
     "text": [
      "Analisando processos pendentes:  94%|█████████▍| 80/85 [08:55<00:31,  6.39s/it]"
     ]
    },
    {
     "name": "stdout",
     "output_type": "stream",
     "text": [
      "  Processo 477293700 analisado e salvo no banco de dados.\n",
      "\n",
      "Processando ID: 682654786 | AnexoID: 1919521793 | Link: http://jud-anexos.digesto.com.br/5208e82aa91f775e966578f21d640a81.pdf\n"
     ]
    },
    {
     "name": "stderr",
     "output_type": "stream",
     "text": [
      "Analisando processos pendentes:  95%|█████████▌| 81/85 [09:01<00:25,  6.36s/it]"
     ]
    },
    {
     "name": "stdout",
     "output_type": "stream",
     "text": [
      "  Processo 682654786 analisado e salvo no banco de dados.\n",
      "\n",
      "Processando ID: 419526883 | AnexoID: 695892930 | Link: http://jud-anexos.digesto.com.br/b090125f6e001545ed6c64c270b4128e.pdf\n"
     ]
    },
    {
     "name": "stderr",
     "output_type": "stream",
     "text": [
      "Analisando processos pendentes:  96%|█████████▋| 82/85 [09:07<00:19,  6.44s/it]"
     ]
    },
    {
     "name": "stdout",
     "output_type": "stream",
     "text": [
      "  Processo 419526883 analisado e salvo no banco de dados.\n",
      "\n",
      "Processando ID: 494408691 | AnexoID: 1374716438 | Link: http://jud-anexos.digesto.com.br/218cc27fba45381e6b369e994f508031.pdf\n"
     ]
    },
    {
     "name": "stderr",
     "output_type": "stream",
     "text": [
      "Analisando processos pendentes:  98%|█████████▊| 83/85 [09:13<00:12,  6.16s/it]"
     ]
    },
    {
     "name": "stdout",
     "output_type": "stream",
     "text": [
      "  Processo 494408691 analisado e salvo no banco de dados.\n",
      "\n",
      "Processando ID: 494410810 | AnexoID: 269258456 | Link: http://jud-anexos.digesto.com.br/e55b90bdcd194e97c68f4c8754c17646.pdf\n"
     ]
    },
    {
     "name": "stderr",
     "output_type": "stream",
     "text": [
      "Analisando processos pendentes:  99%|█████████▉| 84/85 [09:19<00:06,  6.19s/it]"
     ]
    },
    {
     "name": "stdout",
     "output_type": "stream",
     "text": [
      "  Processo 494410810 analisado e salvo no banco de dados.\n",
      "\n",
      "Processando ID: 549929890 | AnexoID: 1787605420 | Link: http://jud-anexos.digesto.com.br/dce333e4d851f163a94f62103aef5f44.pdf\n"
     ]
    },
    {
     "name": "stderr",
     "output_type": "stream",
     "text": [
      "Analisando processos pendentes: 100%|██████████| 85/85 [09:25<00:00,  6.66s/it]"
     ]
    },
    {
     "name": "stdout",
     "output_type": "stream",
     "text": [
      "  Processo 549929890 analisado e salvo no banco de dados.\n",
      "\n",
      "Processamento dos IDs pendentes concluído.\n"
     ]
    },
    {
     "name": "stderr",
     "output_type": "stream",
     "text": [
      "\n"
     ]
    }
   ],
   "source": [
    "if not lista_processos_pendentes:\n",
    "    print(\"Todos os processos já foram analisados e estão no banco de dados.\")\n",
    "else:\n",
    "    for id_str in tqdm(lista_processos_pendentes, desc=\"Analisando processos pendentes\"):\n",
    "        # O 'id' original pode ser int ou str. Vamos garantir que estamos pegando do DataFrame corretamente.\n",
    "        # Tentamos como string primeiro, depois como int se o DataFrame usar int.\n",
    "        try:\n",
    "            linha = sentencas_danos_ambientais.loc[sentencas_danos_ambientais['processoID'].astype(str) == id_str]\n",
    "        except KeyError: # Se a coluna 'processoID' não for string e falhar a conversão/comparação\n",
    "             # Tenta converter o id_str para o tipo da coluna 'processoID' no DataFrame\n",
    "            id_original_tipo = type(sentencas_danos_ambientais['processoID'].iloc[0])\n",
    "            try:\n",
    "                id_convertido = id_original_tipo(id_str)\n",
    "                linha = sentencas_danos_ambientais.loc[sentencas_danos_ambientais['processoID'] == id_convertido]\n",
    "            except Exception as e_conv:\n",
    "                print(f\"  AVISO: Não foi possível encontrar o processoID '{id_str}' (ou convertido) no DataFrame 'sentencas_danos_ambientais'. Erro de conversão: {e_conv}. Pulando.\")\n",
    "                continue\n",
    "\n",
    "        if linha.empty:\n",
    "            print(f\"  AVISO: ProcessoID '{id_str}' não encontrado em 'sentencas_danos_ambientais'. Pulando.\")\n",
    "            continue\n",
    "\n",
    "        texto_extraido = ''\n",
    "        linha_serie = linha.iloc[0] # extrai a linha como Series\n",
    "\n",
    "        processoAnexoID = linha_serie['processoAnexoID']\n",
    "        link = linha_serie['link_referencia']\n",
    "        \n",
    "        print(f\"\\nProcessando ID: {id_str} | AnexoID: {processoAnexoID} | Link: {link}\")\n",
    "\n",
    "        try:\n",
    "            response = requests.get(link, timeout=60) # Timeout maior para downloads\n",
    "            response.raise_for_status() # Levanta exceção para erros HTTP 4xx/5xx\n",
    "            response.encoding = response.apparent_encoding if response.apparent_encoding else 'utf-8' # Melhor detecção de encoding\n",
    "            content_type = response.headers.get('Content-Type', '').lower()\n",
    "            \n",
    "            if 'pdf' in content_type:\n",
    "                # print(\"  Extraindo texto de PDF...\")\n",
    "                with tempfile.NamedTemporaryFile(delete=False, suffix=\".pdf\") as tmp_file:\n",
    "                    tmp_file.write(response.content)\n",
    "                    tmp_path = tmp_file.name\n",
    "                try:\n",
    "                    with pymupdf.open(tmp_path) as doc:\n",
    "                        for page_num, page in enumerate(doc):\n",
    "                            texto_extraido += page.get_text(\"text\") # \"text\" para melhor extração\n",
    "                except Exception as e_pdf:\n",
    "                    print(f\"  ERRO ao processar PDF de {link}: {e_pdf}. Pulando este processo.\")\n",
    "                    if os.path.exists(tmp_path): os.remove(tmp_path)\n",
    "                    continue # Pula para o próximo ID\n",
    "                finally:\n",
    "                    if os.path.exists(tmp_path): os.remove(tmp_path)\n",
    "            \n",
    "            elif 'html' in content_type or 'text/plain' in content_type or not content_type : # Tenta HTML ou texto puro\n",
    "                # print(\"  Extraindo texto de HTML/TEXT...\")\n",
    "                soup = BeautifulSoup(response.content, 'html.parser')\n",
    "                # Remove tags de script e style\n",
    "                for script_or_style in soup([\"script\", \"style\"]):\n",
    "                    script_or_style.decompose()\n",
    "                texto_extraido += soup.get_text(separator='\\n', strip=True)\n",
    "            \n",
    "            else: # Se não for PDF nem HTML/TEXT conhecido, tenta ler como texto simples\n",
    "                print(f\"  AVISO: Content-Type '{content_type}' não é PDF nem HTML. Tentando ler como texto direto.\")\n",
    "                texto_extraido += response.text\n",
    "\n",
    "            if not texto_extraido.strip():\n",
    "                print(f\"  AVISO: Nenhum texto foi extraído de {link}. Pulando análise Gemini.\")\n",
    "                continue\n",
    "\n",
    "            # print(f\"  Texto extraído (primeiros 100 chars): {texto_extraido[:100].replace(chr(10), ' ')}...\")\n",
    "            \n",
    "            # Chamada à sua função que interage com a API Gemini\n",
    "            # Esta função deve retornar um objeto com um atributo .text contendo o JSON\n",
    "            resposta_api_obj = analisa_sentenca(texto_extraido) # SUA FUNÇÃO REAL AQUI\n",
    "\n",
    "            # Limpa e parseia o JSON da resposta\n",
    "            json_string_limpo = limpar_resposta_json_gemini(resposta_api_obj.text)\n",
    "            dados_da_api = json.loads(json_string_limpo)\n",
    "            \n",
    "            # Monta o dicionário completo para este processo\n",
    "            # Garante que o 'processoID' seja o mesmo usado para busca (string)\n",
    "            dados_completos_processo = {\"processoID\": str(id_str)} \n",
    "            dados_completos_processo.update(dados_da_api) # Adiciona dados da API\n",
    "            \n",
    "            # Adiciona/sobrescreve as informações que você gerencia manualmente\n",
    "            dados_completos_processo[\"processoAnexoID\"] = processoAnexoID\n",
    "            dados_completos_processo[\"link_referencia\"] = link\n",
    "            \n",
    "            # Adiciona à lista da rodada atual (como no seu código original)\n",
    "            respostas_danos_ambientais.append(dados_completos_processo)\n",
    "            \n",
    "            # Salva no banco de dados SQLite IMEDIATAMENTE\n",
    "            inserir_dados_processo_sqlite(dados_completos_processo)\n",
    "            print(f\"  Processo {id_str} analisado e salvo no banco de dados.\")\n",
    "\n",
    "        except requests.exceptions.RequestException as e_req:\n",
    "            print(f\"  ERRO DE REQUEST ao acessar {link}: {e_req}. Pulando este processo.\")\n",
    "        except json.JSONDecodeError as e_json:\n",
    "            print(f\"  ERRO AO DECODIFICAR JSON da API para o processo {id_str}. Resposta: {getattr(resposta_api_obj, 'text', 'N/A')[:200]}. Erro: {e_json}. Pulando.\")\n",
    "        except AttributeError as e_attr: # Caso analisa_sentenca não retorne .text\n",
    "            print(f\"  ERRO: A função 'analisa_sentenca' não retornou um objeto com atributo '.text' para o processo {id_str}. Erro: {e_attr}. Pulando.\")\n",
    "        except Exception as e_geral:\n",
    "            print(f\"  ERRO INESPERADO ao processar ID {id_str}: {e_geral}. Pulando este processo.\")\n",
    "            # import traceback\n",
    "            # print(traceback.format_exc()) # Para debug mais detalhado se necessário\n",
    "    \n",
    "    print(\"\\nProcessamento dos IDs pendentes concluído.\")"
   ]
  },
  {
   "cell_type": "code",
   "execution_count": 18,
   "id": "b7c0becb",
   "metadata": {},
   "outputs": [
    {
     "name": "stdout",
     "output_type": "stream",
     "text": [
      "\n",
      "Carregando todos os dados do banco de dados para o DataFrame final...\n",
      "\n",
      "DataFrame final construído a partir do SQLite com 85 registros.\n",
      "             numero_processo processoID processoAnexoID  \\\n",
      "0  0600357-89.2021.8.04.5600  474474022      2344968081   \n",
      "1  0600384-72.2021.8.04.5600  474474806      2294638461   \n",
      "2  0600592-22.2022.8.04.5600  682231747      1915313002   \n",
      "3  1000009-75.2018.4.01.3903  311524686       269166848   \n",
      "4  1000305-06.2018.4.01.3901  326977847      1526470307   \n",
      "\n",
      "                    georreferencia  uf municipio  \\\n",
      "0                             NULL  AM  Manicoré   \n",
      "1  07°43’11.00” S e 61°28’11.00” O  AM  Manicoré   \n",
      "2                             NULL  AM  Manicoré   \n",
      "3                             NULL  PA  Altamira   \n",
      "4                             NULL  PA    Marabá   \n",
      "\n",
      "                                      responsavel categoria_responsavel  \\\n",
      "0  DESTAQUE INDUSTRIA E COMERCIO DE MADEIRAS LTDA       Pessoa Jurídica   \n",
      "1                          CARLOS ALEXANDRE ROSSI         Pessoa Física   \n",
      "2                C R MADEIREIRA AMAZONAS LTDA-EPP       Pessoa Jurídica   \n",
      "3                               MARCIO SILVA VALE         Pessoa Física   \n",
      "4                                       VALE S.A.       Pessoa Jurídica   \n",
      "\n",
      "                     tipo_impacto  \\\n",
      "0                    Desmatamento   \n",
      "1             Desmatamento de APP   \n",
      "2  Queima de Resíduos Industriais   \n",
      "3                    Desmatamento   \n",
      "4                Poluição Hídrica   \n",
      "\n",
      "                                   descricao_impacto data_impacto  \\\n",
      "0  Depósito irregular de 288,03 metros cúbicos de...   30/04/2016   \n",
      "1  Destruição de 121,15 hectares de floresta nati...   16/06/2016   \n",
      "2  Lançamento e queima de rejeitos de indústria m...   07/11/2018   \n",
      "3  O réu é acusado de desmatamento e impedimento ...         NULL   \n",
      "4  Contaminação de igarapés e rios por sedimentos...         NULL   \n",
      "\n",
      "  area_afetada unidade_area houve_compensacao  \\\n",
      "0         NULL         NULL              True   \n",
      "1      1211500           m2              True   \n",
      "2         NULL         NULL              True   \n",
      "3         NULL         NULL             False   \n",
      "4         NULL         NULL              True   \n",
      "\n",
      "             categoria_compensacao tipo_multa valor_multa valor_multa_diaria  \\\n",
      "0  Obrigações de Fazer (com custo)          0        NULL               NULL   \n",
      "1  Obrigações de Fazer (com custo)          0        NULL               NULL   \n",
      "2  Obrigações de Fazer (com custo)          2    30300.00           10000.00   \n",
      "3                             NULL          0        NULL               NULL   \n",
      "4       Custas Judiciais e Acordos          0  1364000.00               NULL   \n",
      "\n",
      "                                     link_referencia  \n",
      "0  http://jud-anexos.digesto.com.br/0cacd6d80c499...  \n",
      "1  http://jud-anexos.digesto.com.br/90df1f9ac9917...  \n",
      "2  http://jud-anexos.digesto.com.br/209b98634c9c4...  \n",
      "3  http://jud-anexos.digesto.com.br/7cef4bd654c35...  \n",
      "4  http://jud-anexos.digesto.com.br/d5d876cd4f1b1...  \n",
      "\n",
      "DataFrame final salvo em: docs/respostas_danos_ambientais_df_completo.xlsx\n"
     ]
    }
   ],
   "source": [
    "print(\"\\nCarregando todos os dados do banco de dados para o DataFrame final...\")\n",
    "conn = None\n",
    "try:\n",
    "    conn = sqlite3.connect(DB_FILE_NAME)\n",
    "    # Lê todas as colunas na ordem definida em COLUNAS_DATAFRAME_FINAL\n",
    "    # Assegura que todas as colunas sejam lidas, mesmo que algumas estejam vazias para alguns registros\n",
    "    col_select_str = \", \".join([f'\"{col}\"' for col in COLUNAS_DATAFRAME_FINAL])\n",
    "    \n",
    "    # Verifica se a tabela existe antes de tentar ler\n",
    "    cursor_check = conn.cursor()\n",
    "    cursor_check.execute(f\"SELECT name FROM sqlite_master WHERE type='table' AND name='{TABLE_PROCESSOS}';\")\n",
    "    if cursor_check.fetchone() is None:\n",
    "        print(f\"A tabela {TABLE_PROCESSOS} não existe no banco de dados. Nenhum dado para carregar.\")\n",
    "        respostas_danos_ambientais_df_completo = pd.DataFrame(columns=COLUNAS_DATAFRAME_FINAL)\n",
    "    else:\n",
    "        respostas_danos_ambientais_df_completo = pd.read_sql_query(f\"SELECT {col_select_str} FROM {TABLE_PROCESSOS}\", conn)\n",
    "except sqlite3.Error as e:\n",
    "    print(f\"Erro ao ler dados do SQLite para o DataFrame: {e}\")\n",
    "    respostas_danos_ambientais_df_completo = pd.DataFrame(columns=COLUNAS_DATAFRAME_FINAL) # Cria DF vazio em caso de erro\n",
    "finally:\n",
    "    if conn:\n",
    "        conn.close()\n",
    "\n",
    "if not respostas_danos_ambientais_df_completo.empty:\n",
    "    # A ordem das colunas já deve estar correta devido ao SELECT explícito,\n",
    "    # mas podemos reconfirmar para garantir, caso a leitura do SQL não preserve 100% a ordem.\n",
    "    respostas_danos_ambientais_df_completo = respostas_danos_ambientais_df_completo[COLUNAS_DATAFRAME_FINAL]\n",
    "    \n",
    "    print(f\"\\nDataFrame final construído a partir do SQLite com {len(respostas_danos_ambientais_df_completo)} registros.\")\n",
    "    print(respostas_danos_ambientais_df_completo.head())\n",
    "\n",
    "    output_excel_file = \"docs/respostas_danos_ambientais_df_completo.xlsx\"\n",
    "    os.makedirs(\"docs\", exist_ok=True) # Cria o diretório 'docs' se não existir\n",
    "    respostas_danos_ambientais_df_completo.to_excel(output_excel_file, index=False)\n",
    "    print(f\"\\nDataFrame final salvo em: {output_excel_file}\")\n",
    "else:\n",
    "    print(\"\\nNenhum dado foi carregado do banco de dados para gerar o arquivo Excel.\")"
   ]
  },
  {
   "cell_type": "code",
   "execution_count": null,
   "id": "d4b720bf",
   "metadata": {},
   "outputs": [],
   "source": []
  }
 ],
 "metadata": {
  "kernelspec": {
   "display_name": "Python 3",
   "language": "python",
   "name": "python3"
  },
  "language_info": {
   "codemirror_mode": {
    "name": "ipython",
    "version": 3
   },
   "file_extension": ".py",
   "mimetype": "text/x-python",
   "name": "python",
   "nbconvert_exporter": "python",
   "pygments_lexer": "ipython3",
   "version": "3.12.5"
  }
 },
 "nbformat": 4,
 "nbformat_minor": 5
}
