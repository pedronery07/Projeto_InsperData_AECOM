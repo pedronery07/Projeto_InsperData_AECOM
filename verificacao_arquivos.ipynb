{
 "cells": [
  {
   "cell_type": "code",
   "execution_count": 1,
   "id": "d6836d97",
   "metadata": {},
   "outputs": [],
   "source": [
    "import pandas as pd"
   ]
  },
  {
   "cell_type": "code",
   "execution_count": 2,
   "id": "77f0112a",
   "metadata": {},
   "outputs": [],
   "source": [
    "processos = pd.read_excel(\"docs/jusbrasil.xlsx\", sheet_name=\"Processos\")\n",
    "anexos = pd.read_excel(\"docs/jusbrasil.xlsx\", sheet_name=\"Anexos\")"
   ]
  },
  {
   "cell_type": "code",
   "execution_count": 4,
   "id": "bcd74329",
   "metadata": {},
   "outputs": [
    {
     "data": {
      "text/plain": [
       "Index(['Processo', 'Instância', 'processoID', 'Processo principal',\n",
       "       'Nome autor', 'Reclamada', 'Relator/Juiz', 'Todas partes', 'Area',\n",
       "       'Data distribuição', 'Tipo distribuição', 'Processo digital',\n",
       "       'Tribunal', 'Sistema', 'Vara', 'Órgão Julgador', 'Comarca CNJ',\n",
       "       'Foro CNJ', 'UF', 'Valor', 'Assunto extra', 'Natureza',\n",
       "       'Data Audiência', 'Local Audiência', 'Tipo Audiência',\n",
       "       'Todos advogados', 'Advogados (parte ativa)',\n",
       "       'OAB advogado (parte ativa)', 'Estado advogado (parte ativa)',\n",
       "       'Advogados (parte passiva)', 'OAB advogado (parte passiva)',\n",
       "       'Estado advogado (parte passiva)', 'Ultima mov. juiz', 'Total movs.',\n",
       "       '1o andamento mais recente', '2o andamento mais recente',\n",
       "       '3o andamento mais recente', '4o andamento mais recente',\n",
       "       '5o andamento mais recente', '6o andamento mais recente',\n",
       "       '7o andamento mais recente', '8o andamento mais recente',\n",
       "       '9o andamento mais recente', '10o andamento mais recente', 'Situação',\n",
       "       'Citado', 'Penhorado', 'Suspenso', 'Acordo', 'Texto Sentença',\n",
       "       'Data Sentença', 'Classificação sentença', 'Cumprimento de sentença',\n",
       "       'Recurso', 'Transitado julg.', 'Arquivamento - Texto',\n",
       "       'Arquivamento - Data', 'Arquivamento - Tipo'],\n",
       "      dtype='object')"
      ]
     },
     "execution_count": 4,
     "metadata": {},
     "output_type": "execute_result"
    }
   ],
   "source": [
    "processos.columns"
   ]
  },
  {
   "cell_type": "code",
   "execution_count": 5,
   "id": "e8d3334b",
   "metadata": {},
   "outputs": [
    {
     "data": {
      "text/plain": [
       "Index(['CNJ', 'processoID', 'processoAnexoID', 'Download copia',\n",
       "       'Download original', 'Tipo de anexo', 'Publicado em', 'Obtido em',\n",
       "       'Tribunal', 'Titulo'],\n",
       "      dtype='object')"
      ]
     },
     "execution_count": 5,
     "metadata": {},
     "output_type": "execute_result"
    }
   ],
   "source": [
    "anexos.columns"
   ]
  },
  {
   "cell_type": "code",
   "execution_count": 6,
   "id": "ad912a63",
   "metadata": {},
   "outputs": [
    {
     "name": "stdout",
     "output_type": "stream",
     "text": [
      "Encontrados 63 processos sem anexos. Planilha salva como 'processos_sem_anexos.xlsx'.\n"
     ]
    }
   ],
   "source": [
    "# 1. Extrair os processoID únicos de cada DataFrame\n",
    "processos_ids = set(processos['processoID'])\n",
    "anexos_ids = set(anexos['processoID'])\n",
    "\n",
    "# 2. Encontrar os processoID que estão em \"processos\" mas não em \"anexos\"\n",
    "processos_sem_anexos_ids = processos_ids - anexos_ids\n",
    "\n",
    "# 3. Filtrar o DataFrame \"processos\" para manter apenas os processos sem anexos\n",
    "processos_sem_anexos = processos[processos['processoID'].isin(processos_sem_anexos_ids)]\n",
    "\n",
    "# 4. Salvar o resultado em uma nova planilha\n",
    "processos_sem_anexos.to_excel(\"processos_sem_anexos.xlsx\", index=False)\n",
    "\n",
    "print(f\"Encontrados {len(processos_sem_anexos)} processos sem anexos. Planilha salva como 'processos_sem_anexos.xlsx'.\")"
   ]
  },
  {
   "cell_type": "code",
   "execution_count": null,
   "id": "dd467ab7",
   "metadata": {},
   "outputs": [],
   "source": []
  }
 ],
 "metadata": {
  "kernelspec": {
   "display_name": "Python 3",
   "language": "python",
   "name": "python3"
  },
  "language_info": {
   "codemirror_mode": {
    "name": "ipython",
    "version": 3
   },
   "file_extension": ".py",
   "mimetype": "text/x-python",
   "name": "python",
   "nbconvert_exporter": "python",
   "pygments_lexer": "ipython3",
   "version": "3.12.5"
  }
 },
 "nbformat": 4,
 "nbformat_minor": 5
}
